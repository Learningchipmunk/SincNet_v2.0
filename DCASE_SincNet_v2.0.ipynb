{
 "cells": [
  {
   "cell_type": "markdown",
   "metadata": {},
   "source": [
    "# This is a newer version of SincNet with updated Loading and training functions"
   ]
  },
  {
   "cell_type": "code",
   "execution_count": 1,
   "metadata": {},
   "outputs": [
    {
     "name": "stderr",
     "output_type": "stream",
     "text": [
      "/home/nlpt4239/miniconda3/envs/SincNet/lib/python3.6/site-packages/librosa/util/decorators.py:9: NumbaDeprecationWarning: An import was requested from a module that has moved location.\n",
      "Import of 'jit' requested from: 'numba.decorators', please update to use 'numba.core.decorators' or pin to Numba version 0.48.0. This alias will not be present in Numba version 0.50.0.\n",
      "  from numba.decorators import jit as optional_jit\n"
     ]
    }
   ],
   "source": [
    "import os\n",
    "import librosa \n",
    "import librosa.display\n",
    "import torch.nn as nn\n",
    "import torch.nn.functional as F\n",
    "import torch.optim as optim\n",
    "import torch.utils.data\n",
    "from torch.autograd import Variable\n",
    "import math\n",
    "\n",
    "import sys\n",
    "\n",
    "import numpy as np\n",
    "import matplotlib.pyplot as plt\n",
    "\n",
    "\n",
    "import tqdm\n"
   ]
  },
  {
   "cell_type": "code",
   "execution_count": 2,
   "metadata": {},
   "outputs": [
    {
     "name": "stdout",
     "output_type": "stream",
     "text": [
      "Selecting Cuda device... \t\tCuda was selected successfully!\n"
     ]
    }
   ],
   "source": [
    "Desired_cuda_device_number = 1\n",
    "\n",
    "print(\"Selecting Cuda device... \\t\\t\", end=\"\")\n",
    "if torch.cuda.is_available(): # we'll use cuda\n",
    "    device = \"cuda:\"+str(Desired_cuda_device_number)\n",
    "    torch.cuda.set_device(device)\n",
    "    if(torch.cuda.current_device() == Desired_cuda_device_number and torch.cuda.is_available()):\n",
    "        print(\"Cuda was selected successfully!\")\n",
    "    else:\n",
    "        print(\"Cuda was not selected successfully...\")\n",
    "else:\n",
    "    print(\"Cuda device(s) is(are) not available.\")"
   ]
  },
  {
   "cell_type": "markdown",
   "metadata": {},
   "source": [
    "## The different networks are defined below:"
   ]
  },
  {
   "cell_type": "markdown",
   "metadata": {},
   "source": [
    "### Functions and Classes that are used by the authors in speaker_it.py"
   ]
  },
  {
   "cell_type": "code",
   "execution_count": 3,
   "metadata": {},
   "outputs": [],
   "source": [
    "## Function That I was Talking about, used in SincNet\n",
    "def flip(x, dim):\n",
    "    xsize = x.size()\n",
    "    dim = x.dim() + dim if dim < 0 else dim\n",
    "    x = x.contiguous()\n",
    "    x = x.view(-1, *xsize[dim:])\n",
    "    x = x.view(x.size(0), x.size(1), -1)[:, getattr(torch.arange(x.size(1)-1, \n",
    "                      -1, -1), ('cpu','cuda')[x.is_cuda])().long(), :]\n",
    "    return x.view(xsize)\n",
    "    \n",
    "\n",
    "    \n",
    "## Function that converts dictionary values to nn functions\n",
    "def act_fun(act_type):\n",
    "\n",
    " if act_type==\"relu\":\n",
    "    return nn.ReLU()\n",
    "            \n",
    " if act_type==\"tanh\":\n",
    "    return nn.Tanh()\n",
    "            \n",
    " if act_type==\"sigmoid\":\n",
    "    return nn.Sigmoid()\n",
    "           \n",
    " if act_type==\"leaky_relu\":\n",
    "    return nn.LeakyReLU(0.2)\n",
    "            \n",
    " if act_type==\"elu\":\n",
    "    return nn.ELU()\n",
    "                     \n",
    " if act_type==\"softmax\":\n",
    "    return nn.LogSoftmax(dim=1)\n",
    "        \n",
    " if act_type==\"linear\":\n",
    "    return nn.LeakyReLU(1) # initializzed like this, but not used in forward!\n",
    " \n",
    " ## Added SeLu and PReLu   \n",
    " if act_type==\"selu\":\n",
    "    return nn.SELU()\n",
    " \n",
    " if act_type==\"prelu\":\n",
    "    return nn.PReLU(init=0.2) #Initial value of alpha is 0.2 like in LeakyReLu above\n",
    "\n",
    "            \n",
    "## Layer that normalizes input in SincNet and MLP\n",
    "class LayerNorm(nn.Module):\n",
    "\n",
    "    def __init__(self, features, eps=1e-6):\n",
    "        super(LayerNorm,self).__init__()\n",
    "        self.gamma = nn.Parameter(torch.ones(features))\n",
    "        self.beta = nn.Parameter(torch.zeros(features))\n",
    "        self.eps = eps\n",
    "\n",
    "    ## Normalizes the info\n",
    "    def forward(self, x):\n",
    "        mean = x.mean(-1, keepdim=True)\n",
    "        std = x.std(-1, keepdim=True)\n",
    "        return self.gamma * (x - mean) / (std + self.eps) + self.beta\n",
    "\n",
    "    \n",
    "    \n",
    "## MLP Generic Class\n",
    "class MLP(nn.Module):\n",
    "    def __init__(self, options):\n",
    "        super(MLP, self).__init__()\n",
    "        \n",
    "        self.input_dim=int(options['input_dim'])\n",
    "        self.fc_lay=options['fc_lay']\n",
    "        self.fc_drop=options['fc_drop']\n",
    "        self.fc_use_batchnorm=options['fc_use_batchnorm']\n",
    "        self.fc_use_laynorm=options['fc_use_laynorm']\n",
    "        self.fc_use_laynorm_inp=options['fc_use_laynorm_inp']\n",
    "        self.fc_use_batchnorm_inp=options['fc_use_batchnorm_inp']\n",
    "        \n",
    "        ## Activation functions given by the .cfg file under [dnn]\n",
    "        self.fc_act=options['fc_act']\n",
    "        \n",
    "       \n",
    "        self.wx  = nn.ModuleList([])\n",
    "        self.bn  = nn.ModuleList([])\n",
    "        self.ln  = nn.ModuleList([])\n",
    "        self.act = nn.ModuleList([])\n",
    "        self.drop = nn.ModuleList([])\n",
    "       \n",
    "\n",
    "       \n",
    "        # input layer normalization\n",
    "        if self.fc_use_laynorm_inp:\n",
    "           self.ln0=LayerNorm(self.input_dim)\n",
    "          \n",
    "        # input batch normalization    \n",
    "        if self.fc_use_batchnorm_inp:\n",
    "           self.bn0=nn.BatchNorm1d([self.input_dim],momentum=0.05)\n",
    "           \n",
    "           \n",
    "        self.N_fc_lay=len(self.fc_lay)\n",
    "             \n",
    "        current_input=self.input_dim\n",
    "        \n",
    "        # Initialization of hidden layers\n",
    "        \n",
    "        for i in range(self.N_fc_lay):\n",
    "            \n",
    "         # dropout\n",
    "         self.drop.append(nn.Dropout(p=self.fc_drop[i]))\n",
    "         \n",
    "         ## First MLP is leaky_relu,leaky_relu,leaky_relu\n",
    "         ## Second is softmax\n",
    "         # activation\n",
    "         self.act.append(act_fun(self.fc_act[i]))\n",
    "         \n",
    "         \n",
    "         add_bias=True\n",
    "         \n",
    "         # layer norm initialization\n",
    "         self.ln.append(LayerNorm(self.fc_lay[i]))\n",
    "         self.bn.append(nn.BatchNorm1d(self.fc_lay[i],momentum=0.05))\n",
    "         \n",
    "         if self.fc_use_laynorm[i] or self.fc_use_batchnorm[i]:\n",
    "             add_bias=False\n",
    "         \n",
    "              \n",
    "         # Linear operations\n",
    "         self.wx.append(nn.Linear(current_input, self.fc_lay[i],bias=add_bias))\n",
    "         \n",
    "         # weight initialization\n",
    "         self.wx[i].weight = torch.nn.Parameter(torch.Tensor(self.fc_lay[i],current_input).uniform_(-np.sqrt(0.01/(current_input+self.fc_lay[i])),np.sqrt(0.01/(current_input+self.fc_lay[i]))))\n",
    "         self.wx[i].bias = torch.nn.Parameter(torch.zeros(self.fc_lay[i]))\n",
    "         \n",
    "         current_input=self.fc_lay[i]\n",
    "         \n",
    "         \n",
    "    def forward(self, x):\n",
    "        \n",
    "      # Applying Layer/Batch Norm\n",
    "      if bool(self.fc_use_laynorm_inp):\n",
    "        x=self.ln0((x))\n",
    "        \n",
    "      if bool(self.fc_use_batchnorm_inp):\n",
    "        x=self.bn0((x))\n",
    "        \n",
    "      for i in range(self.N_fc_lay):\n",
    "\n",
    "        if self.fc_act[i]!='linear':\n",
    "            \n",
    "          if self.fc_use_laynorm[i]:\n",
    "           x = self.drop[i](self.act[i](self.ln[i](self.wx[i](x))))\n",
    "          \n",
    "          if self.fc_use_batchnorm[i]:\n",
    "           x = self.drop[i](self.act[i](self.bn[i](self.wx[i](x))))\n",
    "          \n",
    "          if self.fc_use_batchnorm[i]==False and self.fc_use_laynorm[i]==False:\n",
    "           x = self.drop[i](self.act[i](self.wx[i](x)))\n",
    "           \n",
    "        else:\n",
    "          if self.fc_use_laynorm[i]:\n",
    "           x = self.drop[i](self.ln[i](self.wx[i](x)))\n",
    "          \n",
    "          if self.fc_use_batchnorm[i]:\n",
    "           x = self.drop[i](self.bn[i](self.wx[i](x)))\n",
    "          \n",
    "          if self.fc_use_batchnorm[i]==False and self.fc_use_laynorm[i]==False:\n",
    "           x = self.drop[i](self.wx[i](x)) \n",
    "          \n",
    "      return x\n",
    "\n"
   ]
  },
  {
   "cell_type": "markdown",
   "metadata": {},
   "source": [
    "### SincNet's implementation:"
   ]
  },
  {
   "cell_type": "code",
   "execution_count": 4,
   "metadata": {},
   "outputs": [],
   "source": [
    "## The main Network That is used by this Notebook to solve our speaker Recognition problem\n",
    "class SincNet(nn.Module):\n",
    "    \n",
    "    def __init__(self,options):\n",
    "       super(SincNet,self).__init__()\n",
    "    \n",
    "       self.cnn_N_filt=options['cnn_N_filt']\n",
    "       self.cnn_len_filt=options['cnn_len_filt']\n",
    "       self.cnn_max_pool_len=options['cnn_max_pool_len']\n",
    "       \n",
    "       \n",
    "       self.cnn_act=options['cnn_act']\n",
    "       self.cnn_drop=options['cnn_drop']\n",
    "       \n",
    "       self.cnn_use_laynorm=options['cnn_use_laynorm']\n",
    "       self.cnn_use_batchnorm=options['cnn_use_batchnorm']\n",
    "       self.cnn_use_laynorm_inp=options['cnn_use_laynorm_inp']\n",
    "       self.cnn_use_batchnorm_inp=options['cnn_use_batchnorm_inp']\n",
    "       \n",
    "       self.input_dim=int(options['input_dim'])\n",
    "       \n",
    "       self.fs=options['fs']\n",
    "       \n",
    "       self.N_cnn_lay=len(options['cnn_N_filt'])\n",
    "       self.conv  = nn.ModuleList([])\n",
    "       self.bn  = nn.ModuleList([])\n",
    "       self.ln  = nn.ModuleList([])\n",
    "       self.act = nn.ModuleList([])\n",
    "       self.drop = nn.ModuleList([])\n",
    "       \n",
    "             \n",
    "       if self.cnn_use_laynorm_inp:\n",
    "           self.ln0=LayerNorm(self.input_dim)\n",
    "           \n",
    "       if self.cnn_use_batchnorm_inp:\n",
    "           self.bn0=nn.BatchNorm1d([self.input_dim],momentum=0.05)\n",
    "           \n",
    "       current_input=self.input_dim \n",
    "       \n",
    "       for i in range(self.N_cnn_lay):\n",
    "         \n",
    "         N_filt=int(self.cnn_N_filt[i])\n",
    "         len_filt=int(self.cnn_len_filt[i])\n",
    "         \n",
    "         # dropout\n",
    "         self.drop.append(nn.Dropout(p=self.cnn_drop[i]))\n",
    "         \n",
    "         # activation\n",
    "         self.act.append(act_fun(self.cnn_act[i]))\n",
    "                    \n",
    "         # layer norm initialization         \n",
    "         self.ln.append(LayerNorm([N_filt,int((current_input-self.cnn_len_filt[i]+1)/self.cnn_max_pool_len[i])]))\n",
    "\n",
    "         self.bn.append(nn.BatchNorm1d(N_filt,int((current_input-self.cnn_len_filt[i]+1)/self.cnn_max_pool_len[i]),momentum=0.05))\n",
    "            \n",
    "\n",
    "         ## ! Very important uses SincConv_Fast as first layer(i==0)\n",
    "         if i==0:\n",
    "          self.conv.append(SincConv_fast(self.cnn_N_filt[0],self.cnn_len_filt[0],self.fs))\n",
    "              \n",
    "         else:\n",
    "          self.conv.append(nn.Conv1d(self.cnn_N_filt[i-1], self.cnn_N_filt[i], self.cnn_len_filt[i]))\n",
    "         \n",
    "         ## Formula marker 1:\n",
    "         current_input=int((current_input-self.cnn_len_filt[i]+1)/self.cnn_max_pool_len[i])\n",
    "\n",
    "       ## output dimension of the network is computed dynamically\n",
    "       self.out_dim=current_input*N_filt\n",
    "\n",
    "\n",
    "\n",
    "    def forward(self, x):\n",
    "       batch=x.shape[0]\n",
    "       seq_len=x.shape[1]\n",
    "       \n",
    "       if bool(self.cnn_use_laynorm_inp):\n",
    "        x=self.ln0((x))\n",
    "        \n",
    "       if bool(self.cnn_use_batchnorm_inp):\n",
    "        x=self.bn0((x))\n",
    "        \n",
    "       x=x.view(batch,1,seq_len)\n",
    "\n",
    "       \n",
    "       for i in range(self.N_cnn_lay):\n",
    "           \n",
    "         if self.cnn_use_laynorm[i]:\n",
    "          if i==0:\n",
    "           x = self.drop[i](self.act[i](self.ln[i](F.max_pool1d(torch.abs(self.conv[i](x)), self.cnn_max_pool_len[i]))))  \n",
    "          else:\n",
    "           x = self.drop[i](self.act[i](self.ln[i](F.max_pool1d(self.conv[i](x), self.cnn_max_pool_len[i]))))   \n",
    "          \n",
    "         if self.cnn_use_batchnorm[i]:\n",
    "          x = self.drop[i](self.act[i](self.bn[i](F.max_pool1d(self.conv[i](x), self.cnn_max_pool_len[i]))))\n",
    "\n",
    "         if self.cnn_use_batchnorm[i]==False and self.cnn_use_laynorm[i]==False:\n",
    "          x = self.drop[i](self.act[i](F.max_pool1d(self.conv[i](x), self.cnn_max_pool_len[i])))\n",
    "\n",
    "       \n",
    "       x = x.view(batch,-1)\n",
    "\n",
    "       return x\n",
    "   \n",
    "\n",
    "    \n",
    "   \n"
   ]
  },
  {
   "cell_type": "markdown",
   "metadata": {},
   "source": [
    "## SincNet with 2D convolutions:"
   ]
  },
  {
   "cell_type": "code",
   "execution_count": 5,
   "metadata": {},
   "outputs": [],
   "source": [
    "import time\n",
    "\n",
    "## The main Network That is used by this Notebook to solve our speaker Recognition problem\n",
    "# This SincNet does not use anymore LayerNorm defined above bu Layernorm from pytorch: https://pytorch.org/docs/master/generated/torch.nn.LayerNorm.html\n",
    "class SincNet2D(nn.Module):\n",
    "    \n",
    "    @staticmethod\n",
    "    def tensor_to_mel(tensor_hz):\n",
    "        return 2595 * (1 + tensor_hz / 700).log10()\n",
    "    \n",
    "    @staticmethod\n",
    "    def tensorLogScale(tensor):\n",
    "        # Constant that translates all values to 10^-3\n",
    "        eps = 1e-3\n",
    "    \n",
    "        # log(eps + pow):\n",
    "        return (eps + tensor).log10()\n",
    "    \n",
    "    @staticmethod\n",
    "    def PrintSpectrograms(specs, specType, fmax):\n",
    "    \n",
    "        N_audios = specs.size(0)\n",
    "        N_column = 4\n",
    "\n",
    "        fig, ax = plt.subplots(int(np.ceil(N_audios/N_column)), N_column, figsize=(14, 7),\n",
    "                              subplot_kw={'xticks': [], 'yticks': []})   \n",
    "\n",
    "        for i,spec in enumerate(specs):\n",
    "\n",
    "            ## Position in the axes grid:\n",
    "            axi, axj = int(i/N_column), i%N_column\n",
    "            \n",
    "            if spec.is_cuda:\n",
    "                spec = spec.cpu()\n",
    "            \n",
    "            # Here, we control the values of the ordinate and abscissa with the variable extent:\n",
    "            pos = ax[axi][axj].imshow(spec , origin='lower', cmap='jet', aspect='auto')\n",
    "            #ax[axi][axj].set_xlabel('Time frames')\n",
    "            #ax[axi][axj].set_ylabel('Frequency [Hz]')\n",
    "\n",
    "            # Plot colorbar\n",
    "            fig.colorbar(pos, ax=ax[axi][axj])\n",
    "        \n",
    "        # Places the spectrograms next to each other:\n",
    "        fig.subplots_adjust(left=None, bottom=None, right=None, top=None, wspace=0, hspace=0)\n",
    "        \n",
    "        # Writes the title:\n",
    "        fig.suptitle(\"Image representation of a \" + specType + \" Spectrogram for each audio file:\", fontsize=20, y=1.1)\n",
    "\n",
    "        plt.show()   \n",
    "\n",
    "    @staticmethod\n",
    "    def EnergyWindowMean(audios, N_filter = 80, L=300, stride=150, padding = False, removingZeros = False, debug_mode = False):\n",
    "\n",
    "        if debug_mode:\n",
    "            t1 = time.time()\n",
    "        \n",
    "        # First axe of audio is the time, second is the frequency band.\n",
    "        batch_size = audios.size(0)\n",
    "        N_filter   = audios.size(1)\n",
    "        N          = audios.size(2)\n",
    "\n",
    "        ## Just for display purposes, removes\n",
    "        if(debug_mode):print(N)\n",
    "            \n",
    "        ## Storing if the network is in cuda:\n",
    "        net_is_cuda = audios.is_cuda\n",
    "\n",
    "        ## Adds padding if it is requested:\n",
    "        if(padding):\n",
    "\n",
    "            if((N - L)%stride != 0):\n",
    "\n",
    "                ## Computing the new size with padding:\n",
    "                new_size = N + stride - (N - L)%stride\n",
    "\n",
    "                ## Padding in torch:\n",
    "                target = torch.zeros(batch_size, N_filter, new_size, dtype = torch.float)\n",
    "                \n",
    "                ## If cuda is used, we do too:\n",
    "                if net_is_cuda:\n",
    "                    target = target.cuda()\n",
    "                    \n",
    "                target[:, :, :N] = audios\n",
    "                audios = target\n",
    "\n",
    "            ## Computes the new length after padding \n",
    "            N = audios.size(2)\n",
    "\n",
    "            if(debug_mode):print(N-L, N)\n",
    "\n",
    "        if debug_mode:\n",
    "            t2 = time.time() \n",
    "            print(\"Temps de calcul pour le padding Energy : {}min\".format( (t2-t1)/60 ))\n",
    "\n",
    "        ## <!>--------- Computes the enrgy Here ---------<!> ##\n",
    "\n",
    "        # Initializes the energy array\n",
    "        #np.array([sum([el*el for el in audios[i:i+L]])/L  for i in (0, (N - L), stride)])\n",
    "        Energy = torch.zeros(batch_size, N_filter, int((N-L)/stride) + 1, dtype = torch.float)\n",
    "        \n",
    "        ## If input is on cuda, we send the tensor to cuda:\n",
    "        if net_is_cuda:\n",
    "            Energy = Energy.cuda()\n",
    "        \n",
    "        \n",
    "        if debug_mode:\n",
    "            t3 = time.time() \n",
    "            print(\"Temps de calcul pour créer le tenseur Energy : {}min\".format( (t3-t2)/60 ))\n",
    "        \n",
    "        ## Computing the energy of the signal:\n",
    "        audios = audios.pow(2)\n",
    "        \n",
    "        \n",
    "        if debug_mode:\n",
    "            t4 = time.time() \n",
    "            print(\"Temps de calcul pour multiplier les matrices : {}min\".format( (t4-t3)/60 )) \n",
    "\n",
    "        ## Very important +1 is needed for i to be equal to (N - L)!\n",
    "        for i in range(0, (N - L + 1), stride):\n",
    "            Energy[:, :, int(i/stride)] = audios[:, :, i:i+L].sum(dim=2)/L\n",
    "\n",
    "                \n",
    "        if debug_mode:\n",
    "            t5 = time.time() \n",
    "            print(\"Temps de calcul pour le calcul de l'Energie : {}min\".format( (t5-t4)/60 ))\n",
    "\n",
    "        ## <!>------------------- Done -------------------<!> ##\n",
    "\n",
    "        if(removingZeros):\n",
    "            ## Removing zeros from energy:\n",
    "            for i in range (len(Energy)-1, -1, -1):\n",
    "                if(Energy[i] > 0):\n",
    "                    Energy = Energy[:i+1]\n",
    "                    break\n",
    "\n",
    "        if(debug_mode):\n",
    "            print(len(Energy))\n",
    "\n",
    "            string_pad = \"with padding\" if padding else \"without padding\"\n",
    "\n",
    "            print(\"Expected length of the array \" + string_pad + \" : \" + str(int((N-L)/stride) + 1))\n",
    "\n",
    "            t6 = time.time()\n",
    "            print(\"Temps de calcul pour le reste : {}min\".format( (t6-t5)/60 ))\n",
    "                    \n",
    "        \n",
    "        return Energy\n",
    "    \n",
    "    def __init__(self,options, print_spec = False):\n",
    "        super(SincNet2D,self).__init__()\n",
    "\n",
    "        ## Plot parameters:\n",
    "        self.print_spec = print_spec\n",
    "\n",
    "        ## Parameters for convolutions:\n",
    "        self.cnn_N_filt         = options['cnn_N_filt']\n",
    "        self.cnn_len_filt_W     = options['cnn_len_filt_W']\n",
    "        self.cnn_len_filt_H     = options['cnn_len_filt_H']\n",
    "        self.cnn_max_pool_len_W = options['cnn_max_pool_len_W']\n",
    "        self.cnn_max_pool_len_H = options['cnn_max_pool_len_H']\n",
    "\n",
    "        # Parameters used in order to compute the enrgy:\n",
    "        self.cnn_energy_L      = options['cnn_energy_L']\n",
    "        self.cnn_energy_stride = options['cnn_energy_stride']\n",
    "\n",
    "        # Parameters for activation function and drop:\n",
    "        self.cnn_act  = options['cnn_act']\n",
    "        self.cnn_drop = options['cnn_drop']\n",
    "\n",
    "        # Parameters for normalization:\n",
    "        self.cnn_use_laynorm       = options['cnn_use_laynorm']\n",
    "        self.cnn_use_batchnorm     = options['cnn_use_batchnorm']\n",
    "        self.cnn_use_laynorm_inp   = options['cnn_use_laynorm_inp']\n",
    "        self.cnn_use_batchnorm_inp = options['cnn_use_batchnorm_inp']\n",
    "\n",
    "        # The size of the input:\n",
    "        self.input_dim=int(options['input_dim'])\n",
    "\n",
    "        # The sample rate:\n",
    "        self.fs=options['fs']\n",
    "\n",
    "        # Number of filters for each layer:\n",
    "        self.N_cnn_lay=len(options['cnn_N_filt'])\n",
    "\n",
    "        # Initialization of module lists:\n",
    "        self.conv  = nn.ModuleList([])\n",
    "        self.bn    = nn.ModuleList([])\n",
    "        self.ln    = nn.ModuleList([])\n",
    "        self.act   = nn.ModuleList([])\n",
    "        self.drop  = nn.ModuleList([])\n",
    "\n",
    "        # Input normalization layer:\n",
    "        if self.cnn_use_laynorm_inp:\n",
    "           self.ln0=nn.LayerNorm(self.input_dim)\n",
    "\n",
    "        if self.cnn_use_batchnorm_inp:\n",
    "           self.bn0=nn.BatchNorm1d([self.input_dim],momentum=0.05)\n",
    "\n",
    "        ## 2D init:\n",
    "        #Width and height of spectrograms for each layer:\n",
    "        spec_H   = int(self.cnn_N_filt[0])\n",
    "        spec_W   = int((self.input_dim -self.cnn_len_filt_W[0]+1)/self.cnn_max_pool_len_W[0])\n",
    "\n",
    "        for i in range(self.N_cnn_lay):\n",
    "         \n",
    "            N_filt=int(self.cnn_N_filt[i])\n",
    "        \n",
    "            #2D iter:\n",
    "            if i!=0:\n",
    "                spec_H   = int((spec_H - self.cnn_len_filt_H[i] + 1) / self.cnn_max_pool_len_H[i])\n",
    "                spec_W   = int((spec_W - self.cnn_len_filt_W[i]+1) / self.cnn_max_pool_len_W[i])\n",
    "                if self.print_spec:\n",
    "                    print(spec_H, spec_W)\n",
    "                 \n",
    "            # dropout\n",
    "            self.drop.append(nn.Dropout(p=self.cnn_drop[i]))\n",
    "\n",
    "            # activation\n",
    "            self.act.append(act_fun(self.cnn_act[i]))\n",
    "\n",
    "            if i ==0:\n",
    "                # layer norm initialization         \n",
    "                self.ln.append(nn.LayerNorm([N_filt, spec_W]))\n",
    "\n",
    "                self.bn.append(nn.BatchNorm1d(N_filt, momentum=0.05))\n",
    "            else:\n",
    "                # layer norm initialization         \n",
    "                self.ln.append(nn.LayerNorm([N_filt, spec_H, spec_W]))\n",
    "\n",
    "                self.bn.append(nn.BatchNorm2d(N_filt, momentum=0.05))\n",
    "\n",
    "            \n",
    "            \n",
    "            # N_filt = self.cnn_N_filt[i]\n",
    "            ## ! Very important uses SincConv_Fast as first layer(i==0)\n",
    "            if i==0:\n",
    "                self.conv.append(SincConv_fast(N_filt, self.cnn_len_filt_W[i], self.fs))\n",
    "              \n",
    "            elif i==1:\n",
    "                # Here Input channel size is one because we transitionned from a 3D tensor to a 4D tensor with one channel: (batch_size, Channel=1, Height, Width)\n",
    "                self.conv.append(nn.Conv2d(1, N_filt, kernel_size = (self.cnn_len_filt_H[i], self.cnn_len_filt_W[i])))\n",
    "            else:\n",
    "                self.conv.append(nn.Conv2d(self.cnn_N_filt[i-1], N_filt, kernel_size = (self.cnn_len_filt_H[i], self.cnn_len_filt_W[i]) ))\n",
    "         \n",
    "            # After the computation of the energy, the size changes to:\n",
    "            if i==0:\n",
    "                spec_W=int(np.ceil((spec_W-self.cnn_energy_L)/self.cnn_energy_stride + 1))\n",
    "                if self.print_spec: \n",
    "                    print(spec_H, spec_W)\n",
    "\n",
    "\n",
    "        ## output dimension of the network is computed dynamically\n",
    "        self.out_dim=N_filt*spec_H*spec_W\n",
    "\n",
    "\n",
    "\n",
    "    def forward(self, x):\n",
    "        batch=x.shape[0]\n",
    "        seq_len=x.shape[1]\n",
    "\n",
    "        if bool(self.cnn_use_laynorm_inp):\n",
    "            \n",
    "            if self.print_spec:\n",
    "                t1 = time.time()\n",
    "            \n",
    "            x=self.ln0((x))\n",
    "                        \n",
    "            if self.print_spec:\n",
    "                t2 = time.time() \n",
    "                print(\"Temps de calcul pour la inp layernorm : {}min\".format( (t2-t1)/60 ))\n",
    "            \n",
    "\n",
    "        if bool(self.cnn_use_batchnorm_inp):\n",
    "            x=self.bn0((x))\n",
    "\n",
    "        x=x.view(batch,1,seq_len)\n",
    "\n",
    "       \n",
    "        for i in range(self.N_cnn_lay):\n",
    "            \n",
    "            # Taking time of conv:    \n",
    "            if self.print_spec:\n",
    "                t1 = time.time()\n",
    "            \n",
    "            # Conv:\n",
    "            x = self.conv[i](x)\n",
    "            \n",
    "            if self.print_spec:\n",
    "                t2 = time.time() \n",
    "                print(\"Temps de calcul pour la conv : {}min\".format( (t2-t1)/60 ))\n",
    "            \n",
    "            if self.cnn_use_laynorm[i] and i==0:\n",
    "                ## Every layer in one line, changes beacause of the torch.abs:\n",
    "                x = self.drop[i](self.act[i](self.ln[i](F.max_pool1d(torch.abs(x), self.cnn_max_pool_len_W[i])))) \n",
    "            \n",
    "            else:\n",
    "                # Max pooling:\n",
    "                if i==0:\n",
    "                    x = F.max_pool1d(x, kernel_size = self.cnn_max_pool_len_W[i])\n",
    "                else:\n",
    "                    x = F.max_pool2d(x, kernel_size = (self.cnn_max_pool_len_H[i], self.cnn_max_pool_len_W[i]))\n",
    "                \n",
    "                if self.print_spec:\n",
    "                    t3 = time.time() \n",
    "                    print(\"Temps de calcul pour maxpool : {}min\".format( (t3-t2)/60 ))\n",
    "                \n",
    "                # Layer normalization:\n",
    "                if self.cnn_use_laynorm[i]:\n",
    "                    x = self.ln[i](x)\n",
    "                # Batch norm:\n",
    "                elif self.cnn_use_batchnorm[i]:\n",
    "                    x = self.bn[i](x)\n",
    "                \n",
    "                if self.print_spec:\n",
    "                    t4 = time.time() \n",
    "                    print(\"Temps de calcul pour batchnorm : {}min\".format( (t4-t3)/60 ))\n",
    "                \n",
    "                # activation function:                               \n",
    "                x = self.act[i](x)\n",
    "                \n",
    "                if self.print_spec:\n",
    "                    t5 = time.time() \n",
    "                    print(\"Temps de calcul pour la conv : {}min\".format( (t5-t4)/60 ))\n",
    "                \n",
    "                # Dropout layer:                              \n",
    "                x = self.drop[i](x)    \n",
    "                \n",
    "                if self.print_spec:\n",
    "                    t6 = time.time() \n",
    "                    print(\"Temps de calcul pour la conv : {}min\".format( (t6-t5)/60 ))\n",
    "                                               \n",
    "            if i == 0:\n",
    "                #x = self.EnergyWindowMean(x, N_filter = self.cnn_N_filt[0], L=self.cnn_energy_L, stride=self.cnn_energy_stride, \n",
    "                 #                       padding = True, removingZeros = False, debug_mode = self.print_spec)\n",
    "                \n",
    "                # Taking time of Energy computation:\n",
    "                if self.print_spec:\n",
    "                    t1 = time.time()\n",
    "                \n",
    "                N = x.size(2)\n",
    "                to_pad = self.cnn_energy_stride - (N - self.cnn_energy_L)%self.cnn_energy_stride\n",
    "                #print(to_pad)\n",
    "                to_pad /= 2\n",
    "                to_pad = int(to_pad)\n",
    "            \n",
    "                # Conv:\n",
    "                x = x.pow(2)\n",
    "                x = F.avg_pool1d(x, kernel_size=self.cnn_energy_L, stride=self.cnn_energy_stride, padding=to_pad)\n",
    "                \n",
    "                if self.print_spec:\n",
    "                    t2 = time.time() \n",
    "                    print(\"Temps de calcul pour l'Energie : {}min\".format( (t2-t1)/60 ))\n",
    "                \n",
    "                x = self.tensorLogScale(x)\n",
    "                if self.print_spec:\n",
    "                    self.PrintSpectrograms(x, \"Log\", self.fs)\n",
    "                x = x.view(batch, 1, self.cnn_N_filt[i], -1)\n",
    "\n",
    "            if self.print_spec:\n",
    "                print(x.shape)\n",
    "\n",
    "       \n",
    "        x = x.view(batch,-1)\n",
    "\n",
    "        return x\n"
   ]
  },
  {
   "cell_type": "markdown",
   "metadata": {},
   "source": [
    "### Classes and functions that are not directly used by the authors"
   ]
  },
  {
   "cell_type": "code",
   "execution_count": 6,
   "metadata": {},
   "outputs": [],
   "source": [
    "\n",
    "## Literally first layer of SincNet:\n",
    "\n",
    "# They used symetry of sinc in this one:\n",
    "class SincConv_fast(nn.Module):\n",
    "    \"\"\"Sinc-based convolution\n",
    "    Parameters\n",
    "    ----------\n",
    "    in_channels : `int`\n",
    "        Number of input channels. Must be 1.\n",
    "    out_channels : `int`\n",
    "        Number of filters.\n",
    "    kernel_size : `int`\n",
    "        Filter length.\n",
    "    sample_rate : `int`, optional\n",
    "        Sample rate. Defaults to 16000.\n",
    "    Usage\n",
    "    -----\n",
    "    See `torch.nn.Conv1d`\n",
    "    Reference\n",
    "    ---------\n",
    "    Mirco Ravanelli, Yoshua Bengio,\n",
    "    \"Speaker Recognition from raw waveform with SincNet\".\n",
    "    https://arxiv.org/abs/1808.00158\n",
    "    \"\"\"\n",
    "\n",
    "    @staticmethod\n",
    "    def to_mel(hz):\n",
    "        return 2595 * np.log10(1 + hz / 700)\n",
    "\n",
    "    @staticmethod\n",
    "    def to_hz(mel):\n",
    "        return 700 * (10 ** (mel / 2595) - 1)\n",
    "\n",
    "    def __init__(self, out_channels, kernel_size, sample_rate=16000, in_channels=1,\n",
    "                 stride=1, padding=0, dilation=1, bias=False, groups=1, min_low_hz=50, min_band_hz=50):\n",
    "\n",
    "        super(SincConv_fast,self).__init__()\n",
    "\n",
    "        if in_channels != 1:\n",
    "            #msg = (f'SincConv only support one input channel '\n",
    "            #       f'(here, in_channels = {in_channels:d}).')\n",
    "            msg = \"SincConv only support one input channel (here, in_channels = {%i})\" % (in_channels)\n",
    "            raise ValueError(msg)\n",
    "\n",
    "        self.out_channels = out_channels\n",
    "        self.kernel_size = kernel_size\n",
    "        \n",
    "        # Forcing the filters to be odd (i.e, perfectly symmetrics)\n",
    "        if kernel_size%2==0:\n",
    "            self.kernel_size=self.kernel_size+1\n",
    "            \n",
    "        self.stride = stride\n",
    "        self.padding = padding\n",
    "        self.dilation = dilation\n",
    "\n",
    "        if bias:\n",
    "            raise ValueError('SincConv does not support bias.')\n",
    "        if groups > 1:\n",
    "            raise ValueError('SincConv does not support groups.')\n",
    "\n",
    "        self.sample_rate = sample_rate\n",
    "        self.min_low_hz = min_low_hz\n",
    "        self.min_band_hz = min_band_hz\n",
    "\n",
    "        # initialize filterbanks such that they are equally spaced in Mel scale\n",
    "        low_hz = 30\n",
    "        high_hz = self.sample_rate / 2 - (self.min_low_hz + self.min_band_hz)\n",
    "\n",
    "        mel = np.linspace(self.to_mel(low_hz),\n",
    "                          self.to_mel(high_hz),\n",
    "                          self.out_channels + 1)\n",
    "        hz = self.to_hz(mel)\n",
    "        \n",
    "\n",
    "        # filter lower frequency (out_channels, 1)\n",
    "        self.low_hz_ = nn.Parameter(torch.Tensor(hz[:-1]).view(-1, 1))\n",
    "\n",
    "        # filter frequency band (out_channels, 1)\n",
    "        self.band_hz_ = nn.Parameter(torch.Tensor(np.diff(hz)).view(-1, 1))\n",
    "\n",
    "        # Hamming window\n",
    "        #self.window_ = torch.hamming_window(self.kernel_size)\n",
    "        n_lin=torch.linspace(0, (self.kernel_size/2)-1, steps=int((self.kernel_size/2))) # computing only half of the window\n",
    "        self.window_=0.54-0.46*torch.cos(2*math.pi*n_lin/self.kernel_size);\n",
    "\n",
    "\n",
    "        # (1, kernel_size/2)\n",
    "        n = (self.kernel_size - 1) / 2.0\n",
    "        self.n_ = 2*math.pi*torch.arange(-n, 0).view(1, -1) / self.sample_rate # Due to symmetry, I only need half of the time axes\n",
    "\n",
    " \n",
    "\n",
    "\n",
    "    def forward(self, waveforms):\n",
    "        \"\"\"\n",
    "        Parameters\n",
    "        ----------\n",
    "        waveforms : `torch.Tensor` (batch_size, 1, n_samples)\n",
    "            Batch of waveforms.\n",
    "        Returns\n",
    "        -------\n",
    "        features : `torch.Tensor` (batch_size, out_channels, n_samples_out)\n",
    "            Batch of sinc filters activations.\n",
    "        \"\"\"\n",
    "\n",
    "        self.n_ = self.n_.to(waveforms.device)\n",
    "\n",
    "        self.window_ = self.window_.to(waveforms.device)\n",
    "\n",
    "        low = self.min_low_hz  + torch.abs(self.low_hz_)\n",
    "        \n",
    "        high = torch.clamp(low + self.min_band_hz + torch.abs(self.band_hz_),self.min_low_hz,self.sample_rate/2)\n",
    "        \n",
    "        ## Bandwith that is fed :\n",
    "        band=(high-low)[:,0]\n",
    "        \n",
    "        f_times_t_low = torch.matmul(low, self.n_)\n",
    "        f_times_t_high = torch.matmul(high, self.n_)\n",
    "\n",
    "        band_pass_left=((torch.sin(f_times_t_high)-torch.sin(f_times_t_low))/(self.n_/2))*self.window_ # Equivalent of Eq.4 of the reference paper (SPEAKER RECOGNITION FROM RAW WAVEFORM WITH SINCNET). I just have expanded the sinc and simplified the terms. This way I avoid several useless computations. \n",
    "        band_pass_center = 2*band.view(-1,1)\n",
    "        band_pass_right= torch.flip(band_pass_left,dims=[1])\n",
    "        \n",
    "        \n",
    "        band_pass=torch.cat([band_pass_left,band_pass_center,band_pass_right],dim=1)\n",
    "\n",
    "        \n",
    "        band_pass = band_pass / (2*band[:,None])\n",
    "        \n",
    "\n",
    "        self.filters = (band_pass).view(\n",
    "            self.out_channels, 1, self.kernel_size)\n",
    "\n",
    "        return F.conv1d(waveforms, self.filters, stride=self.stride,\n",
    "                        padding=self.padding, dilation=self.dilation,\n",
    "                         bias=None, groups=1) \n",
    "\n",
    "\n",
    "        \n",
    "# Takes a bandwith and a time and returns a sinc tensor, is used in sinc_conv:\n",
    "# @band    is a float \n",
    "# @t_right is a tensor\n",
    "# t_right=Variable(torch.linspace(1, (N-1)/2, steps=int((N-1)/2))/self.fs).cuda()\n",
    "def sinc(band,t_right):\n",
    "    y_right= torch.sin(2*math.pi*band*t_right)/(2*math.pi*band*t_right)\n",
    "    y_left= flip(y_right,0)\n",
    "\n",
    "    y=torch.cat([y_left,Variable(torch.ones(1)).cuda(),y_right])\n",
    "\n",
    "    return y\n",
    "        \n",
    "class sinc_conv(nn.Module):\n",
    "\n",
    "    def __init__(self, N_filt,Filt_dim,fs):\n",
    "        super(sinc_conv,self).__init__()\n",
    "\n",
    "        # Mel Initialization of the filterbanks\n",
    "        low_freq_mel = 80\n",
    "        high_freq_mel = (2595 * np.log10(1 + (fs / 2) / 700))  # Convert Hz to Mel\n",
    "        mel_points = np.linspace(low_freq_mel, high_freq_mel, N_filt)  # Equally spaced in Mel scale\n",
    "        f_cos = (700 * (10**(mel_points / 2595) - 1)) # Convert Mel to Hz\n",
    "        b1=np.roll(f_cos,1)\n",
    "        b2=np.roll(f_cos,-1)\n",
    "        b1[0]=30\n",
    "        b2[-1]=(fs/2)-100\n",
    "                \n",
    "        self.freq_scale=fs*1.0\n",
    "        self.filt_b1 = nn.Parameter(torch.from_numpy(b1/self.freq_scale))\n",
    "        self.filt_band = nn.Parameter(torch.from_numpy((b2-b1)/self.freq_scale))\n",
    "\n",
    "        \n",
    "        self.N_filt=N_filt\n",
    "        self.Filt_dim=Filt_dim\n",
    "        self.fs=fs\n",
    "        \n",
    "\n",
    "    def forward(self, x):\n",
    "        \n",
    "        filters=Variable(torch.zeros((self.N_filt,self.Filt_dim))).cuda()\n",
    "        N=self.Filt_dim\n",
    "        t_right=Variable(torch.linspace(1, (N-1)/2, steps=int((N-1)/2))/self.fs).cuda()\n",
    "        \n",
    "        \n",
    "        min_freq=50.0;\n",
    "        min_band=50.0;\n",
    "        \n",
    "        filt_beg_freq=torch.abs(self.filt_b1)+min_freq/self.freq_scale\n",
    "        filt_end_freq=filt_beg_freq+(torch.abs(self.filt_band)+min_band/self.freq_scale)\n",
    "       \n",
    "        n=torch.linspace(0, N, steps=N)\n",
    "\n",
    "        # Filter window (hamming)\n",
    "        window=0.54-0.46*torch.cos(2*math.pi*n/N);\n",
    "        window=Variable(window.float().cuda())\n",
    "\n",
    "        \n",
    "        for i in range(self.N_filt):\n",
    "                        \n",
    "            low_pass1 = 2*filt_beg_freq[i].float()*sinc(filt_beg_freq[i].float()*self.freq_scale,t_right)\n",
    "            low_pass2 = 2*filt_end_freq[i].float()*sinc(filt_end_freq[i].float()*self.freq_scale,t_right)\n",
    "            band_pass=(low_pass2-low_pass1)\n",
    "\n",
    "            band_pass=band_pass/torch.max(band_pass)\n",
    "\n",
    "            filters[i,:]=band_pass.cuda()*window\n",
    "\n",
    "        out=F.conv1d(x, filters.view(self.N_filt,1,self.Filt_dim))\n",
    "    \n",
    "        return out\n"
   ]
  },
  {
   "cell_type": "markdown",
   "metadata": {},
   "source": [
    "### Parse Options:\n",
    "\n",
    "[optparse documentation](https://docs.python.org/2/library/optparse.html) is deprecated. I removed it from the code.\n"
   ]
  },
  {
   "cell_type": "code",
   "execution_count": 7,
   "metadata": {},
   "outputs": [],
   "source": [
    "import configparser as ConfigParser\n",
    "\n",
    "## OptionParser is depracated and cannot be used with jupyter notebook\n",
    "#from optparse import OptionParser\n"
   ]
  },
  {
   "cell_type": "code",
   "execution_count": 8,
   "metadata": {},
   "outputs": [],
   "source": [
    "# Dummy class Created for options object to replace OptionParser's object\n",
    "\n",
    "class Options(object):\n",
    "\n",
    "    def __init__(self, cfg):\n",
    "        '''Defines the cfg file'''\n",
    "        self.cfg = cfg"
   ]
  },
  {
   "cell_type": "markdown",
   "metadata": {},
   "source": [
    "### Conf loader:\n",
    "\n",
    "[Link to documentation](https://docs.python.org/3/library/configparser.html)"
   ]
  },
  {
   "cell_type": "code",
   "execution_count": 9,
   "metadata": {},
   "outputs": [],
   "source": [
    "def read_conf(config_file_path):\n",
    "    # Removed the possibility of executing with --cfg = path\n",
    "    # Instead we feed it directly\n",
    "\n",
    "    # Initializing dummy class with cfg folder path\n",
    "    options = Options(config_file_path)\n",
    "\n",
    "    # Reading the config file with config parser\n",
    "    Config = ConfigParser.ConfigParser()\n",
    "    Config.read(options.cfg)\n",
    "\n",
    "    #[data]\n",
    "    options.tr_lst=Config.get('data', 'tr_lst')\n",
    "    options.te_lst=Config.get('data', 'te_lst')\n",
    "    options.lab_dict=Config.get('data', 'lab_dict')\n",
    "    options.data_folder=Config.get('data', 'data_folder')\n",
    "    options.output_folder=Config.get('data', 'output_folder')\n",
    "    options.pt_file=Config.get('data', 'pt_file')\n",
    "\n",
    "    #[windowing]\n",
    "    options.fs=Config.get('windowing', 'fs')\n",
    "    options.cw_len=Config.get('windowing', 'cw_len')\n",
    "    options.cw_shift=Config.get('windowing', 'cw_shift')\n",
    "\n",
    "    if('cnn2D' in Config.sections()):\n",
    "        #[cnn2D]\n",
    "        options.is_conv2D = True\n",
    "        options.cnn_N_filt=Config.get('cnn2D', 'cnn_N_filt')\n",
    "        options.cnn_len_filt_W=Config.get('cnn2D', 'cnn_len_filt_W')\n",
    "        options.cnn_len_filt_H=Config.get('cnn2D', 'cnn_len_filt_H')\n",
    "        options.cnn_energy_L=Config.get('cnn2D', 'cnn_energy_L')\n",
    "        options.cnn_energy_stride=Config.get('cnn2D', 'cnn_energy_stride')\n",
    "        options.cnn_max_pool_len_W=Config.get('cnn2D', 'cnn_max_pool_len_W')\n",
    "        options.cnn_max_pool_len_H=Config.get('cnn2D', 'cnn_max_pool_len_H')\n",
    "        options.cnn_use_laynorm_inp=Config.get('cnn2D', 'cnn_use_laynorm_inp')\n",
    "        options.cnn_use_batchnorm_inp=Config.get('cnn2D', 'cnn_use_batchnorm_inp')\n",
    "        options.cnn_use_laynorm=Config.get('cnn2D', 'cnn_use_laynorm')\n",
    "        options.cnn_use_batchnorm=Config.get('cnn2D', 'cnn_use_batchnorm')\n",
    "        options.cnn_act=Config.get('cnn2D', 'cnn_act')\n",
    "        options.cnn_drop=Config.get('cnn2D', 'cnn_drop')\n",
    "    else:\n",
    "        #[cnn]\n",
    "        options.is_conv2D = False\n",
    "        options.cnn_N_filt=Config.get('cnn', 'cnn_N_filt')\n",
    "        options.cnn_len_filt=Config.get('cnn', 'cnn_len_filt')\n",
    "        options.cnn_max_pool_len=Config.get('cnn', 'cnn_max_pool_len')\n",
    "        options.cnn_use_laynorm_inp=Config.get('cnn', 'cnn_use_laynorm_inp')\n",
    "        options.cnn_use_batchnorm_inp=Config.get('cnn', 'cnn_use_batchnorm_inp')\n",
    "        options.cnn_use_laynorm=Config.get('cnn', 'cnn_use_laynorm')\n",
    "        options.cnn_use_batchnorm=Config.get('cnn', 'cnn_use_batchnorm')\n",
    "        options.cnn_act=Config.get('cnn', 'cnn_act')\n",
    "        options.cnn_drop=Config.get('cnn', 'cnn_drop')\n",
    "\n",
    "\n",
    "    #[dnn]\n",
    "    options.fc_lay=Config.get('dnn', 'fc_lay')\n",
    "    options.fc_drop=Config.get('dnn', 'fc_drop')\n",
    "    options.fc_use_laynorm_inp=Config.get('dnn', 'fc_use_laynorm_inp')\n",
    "    options.fc_use_batchnorm_inp=Config.get('dnn', 'fc_use_batchnorm_inp')\n",
    "    options.fc_use_batchnorm=Config.get('dnn', 'fc_use_batchnorm')\n",
    "    options.fc_use_laynorm=Config.get('dnn', 'fc_use_laynorm')\n",
    "    options.fc_act=Config.get('dnn', 'fc_act')\n",
    "\n",
    "    #[class]\n",
    "    options.class_lay=Config.get('class', 'class_lay')\n",
    "    options.class_drop=Config.get('class', 'class_drop')\n",
    "    options.class_use_laynorm_inp=Config.get('class', 'class_use_laynorm_inp')\n",
    "    options.class_use_batchnorm_inp=Config.get('class', 'class_use_batchnorm_inp')\n",
    "    options.class_use_batchnorm=Config.get('class', 'class_use_batchnorm')\n",
    "    options.class_use_laynorm=Config.get('class', 'class_use_laynorm')\n",
    "    options.class_act=Config.get('class', 'class_act')\n",
    "\n",
    "    #[optimization]\n",
    "    if('optimization' in Config.sections()):\n",
    "        options.lr=Config.get('optimization', 'lr')\n",
    "\n",
    "        ## use_scheduler:\n",
    "        if 'use_scheduler' in Config['optimization']:\n",
    "            options.use_scheduler=Config.get('optimization', 'use_scheduler')\n",
    "        else:\n",
    "            print(\"You did not specify the value of `use_scheduler`, it is set to False.\")\n",
    "            options.use_scheduler='False'\n",
    "\n",
    "        ## scheduler_patience:\n",
    "        if 'scheduler_patience' in Config['optimization']:\n",
    "            options.scheduler_patience=Config.get('optimization', 'scheduler_patience')\n",
    "        else:\n",
    "            options.scheduler_patience=2\n",
    "            print(\"You did not specify the value of `scheduler_patience`, it is set to {}.\".format(options.scheduler_patience))\n",
    "\n",
    "        ## scheduler_factor:\n",
    "        if 'scheduler_factor' in Config['optimization']:\n",
    "            options.scheduler_factor=Config.get('optimization', 'scheduler_factor')\n",
    "        else:\n",
    "            options.scheduler_factor=0.5\n",
    "            print(\"You did not specify the value of `scheduler_factor`, it is set to {}.\".format(options.scheduler_factor))\n",
    "\n",
    "\n",
    "        options.batch_size=Config.get('optimization', 'batch_size')\n",
    "\n",
    "        ## Batch_dev:\n",
    "        if 'Batch_dev' in Config['optimization']:\n",
    "            options.Batch_dev=Config.get('optimization', 'Batch_dev')\n",
    "        else:\n",
    "            options.Batch_dev=32\n",
    "            print(\"You did not specify the value of `Batch_dev`, it is set to {}.\".format(options.Batch_dev))\n",
    "\n",
    "        ## patience:\n",
    "        if 'patience' in Config['optimization']:\n",
    "            options.patience=Config.get('optimization', 'patience')\n",
    "        else:\n",
    "            print(\"You did not specify the value of `patience`, it is set to 7.\")\n",
    "            options.patience=7\n",
    "\n",
    "        options.N_epochs=Config.get('optimization', 'N_epochs')\n",
    "        options.N_batches=Config.get('optimization', 'N_batches')\n",
    "        options.N_eval_epoch=Config.get('optimization', 'N_eval_epoch')\n",
    "        \n",
    "        ## train_acc_period:\n",
    "        if 'train_acc_period' in Config['optimization']:\n",
    "                options.train_acc_period=Config.get('optimization', 'train_acc_period')\n",
    "        else:\n",
    "            print(\"You did not specify the value of `train_acc_period`, it is set to 5.\")\n",
    "            options.train_acc_period=5\n",
    "        \n",
    "        ## fact_amp:        \n",
    "        if 'fact_amp' in Config['optimization']:\n",
    "                options.fact_amp=Config.get('optimization', 'fact_amp')\n",
    "        else:\n",
    "            options.fact_amp=0.2\n",
    "            print(\"You did not specify the value of `fact_amp`, it is set to {}.\".format(options.fact_amp))\n",
    "        \n",
    "        ## use_mixup:\n",
    "        if 'use_mixup' in Config['optimization']:\n",
    "            options.use_mixup=Config.get('optimization', 'use_mixup')\n",
    "        else:\n",
    "            print(\"You did not specify the value of `use_mixup`, it is set to False.\")\n",
    "            options.use_mixup='False'\n",
    "        \n",
    "        ## mixup_batch_prop:        \n",
    "        if 'mixup_batch_prop' in Config['optimization']:\n",
    "            options.mixup_batch_prop=Config.get('optimization', 'mixup_batch_prop')\n",
    "        else:\n",
    "            options.mixup_batch_prop=float(1.0) if options.use_mixup=='True' else float(0.0)\n",
    "            print(\"You did not specify the value of `mixup_batch_prop`, it is set to {}%.\".format(options.mixup_batch_prop*100))\n",
    "        \n",
    "        ## beta_coef:\n",
    "        if 'beta_coef' in Config['optimization']:\n",
    "            options.beta_coef=Config.get('optimization', 'beta_coef')\n",
    "        else:\n",
    "            print(\"You did not specify the value of `beta_coef`, it is set to 0.4.\")\n",
    "            options.beta_coef=0.4\n",
    "        \n",
    "        ## same_classes:        \n",
    "        if 'same_classes' in Config['optimization']:\n",
    "            options.same_classes=Config.get('optimization', 'same_classes')\n",
    "        else:\n",
    "            options.same_classes='False'\n",
    "            print(\"You did not specify the value of `same_classes`, it is set to {}.\".format(options.same_classes))\n",
    "            if(\"True\" in options.use_mixup):\n",
    "                print(\"Warning: you are using mixup but you did not mention which type in config file. \\n\"+\n",
    "                    \"By default it will be set to False. You are advised to add a same_class attribute to your cfg file and set it to True or False.\")    \n",
    "\n",
    "            \n",
    "        options.seed=Config.get('optimization', 'seed')\n",
    "    else:\n",
    "        print(\"Error, you did not specify optimization parameters in your cfg. Consequently, the code won't run...\")\n",
    "\n",
    "    return options\n"
   ]
  },
  {
   "cell_type": "code",
   "execution_count": 10,
   "metadata": {},
   "outputs": [
    {
     "name": "stdout",
     "output_type": "stream",
     "text": [
      "You did not specify the value of `fact_amp`, it is set to 0.2.\n",
      "You did not specify the value of `mixup_batch_prop`, it is set to 0.0%.\n",
      "exp/SincNet2D_DCASE/CNNlay3_Rand0PreEnergy1000ms_Scheduler0.2_Window800ms_PReLu_Drop30\n",
      "Data/Audio_Tensors/Train/Preprocessed_withEnergy_AudioTensors_Window1000ms_Random0Padding/\n"
     ]
    }
   ],
   "source": [
    "# Config path location\n",
    "config_file_path = \"cfg/SincNet2D/SincNet2D_CNNLay3_Rand0PreEnergyWindow800_Scheduler_PReLu_Drop30.cfg\"\n",
    "\n",
    "# Reading cfg file and storing its parameters into options :\n",
    "options=read_conf(config_file_path)\n",
    "\n",
    "print(options.output_folder)\n",
    "print(options.data_folder)\n"
   ]
  },
  {
   "cell_type": "markdown",
   "metadata": {},
   "source": [
    "### Getting and storing all the info from the config file:"
   ]
  },
  {
   "cell_type": "code",
   "execution_count": 11,
   "metadata": {},
   "outputs": [],
   "source": [
    "## Here are the config data processing functions used in data_io:\n",
    "\n",
    "# Converts string to bool:\n",
    "def str_to_bool(s):\n",
    "    if s == 'True':\n",
    "         return True\n",
    "    elif s == 'False':\n",
    "         return False\n",
    "    else:\n",
    "         raise ValueError \n",
    "\n"
   ]
  },
  {
   "cell_type": "code",
   "execution_count": 12,
   "metadata": {},
   "outputs": [
    {
     "name": "stdout",
     "output_type": "stream",
     "text": [
      "The file contains the config of a 2D convolutional network.\n"
     ]
    }
   ],
   "source": [
    "\n",
    "#[data]\n",
    "tr_lst=options.tr_lst\n",
    "te_lst=options.te_lst\n",
    "pt_file=options.pt_file\n",
    "class_dict_file=options.lab_dict\n",
    "data_folder=options.data_folder\n",
    "output_folder=options.output_folder\n",
    "\n",
    "#[windowing]\n",
    "fs=int(options.fs)\n",
    "cw_len=int(options.cw_len)\n",
    "cw_shift=int(options.cw_shift)\n",
    "\n",
    "is_conv2D = options.is_conv2D\n",
    "conv_type = '2D' if is_conv2D else '1D'\n",
    "print(\"The file contains the config of a {} convolutional network.\".format(conv_type))\n",
    "if is_conv2D:\n",
    "    #[cnn2D]\n",
    "    cnn_N_filt=list(map(int, options.cnn_N_filt.split(',')))\n",
    "    cnn_len_filt_W=list(map(int, options.cnn_len_filt_W.split(',')))\n",
    "    cnn_len_filt_H=list(map(int, options.cnn_len_filt_H.split(',')))\n",
    "    cnn_energy_L=int(options.cnn_energy_L)\n",
    "    cnn_energy_stride=int(options.cnn_energy_stride)\n",
    "    cnn_max_pool_len_W=list(map(int, options.cnn_max_pool_len_W.split(',')))\n",
    "    cnn_max_pool_len_H=list(map(int, options.cnn_max_pool_len_H.split(',')))\n",
    "else:\n",
    "    #[cnn]\n",
    "    cnn_N_filt=list(map(int, options.cnn_N_filt.split(',')))\n",
    "    cnn_len_filt=list(map(int, options.cnn_len_filt.split(',')))\n",
    "    cnn_max_pool_len=list(map(int, options.cnn_max_pool_len.split(',')))\n",
    "\n",
    "cnn_use_laynorm_inp=str_to_bool(options.cnn_use_laynorm_inp)\n",
    "cnn_use_batchnorm_inp=str_to_bool(options.cnn_use_batchnorm_inp)\n",
    "cnn_use_laynorm=list(map(str_to_bool, options.cnn_use_laynorm.split(',')))\n",
    "cnn_use_batchnorm=list(map(str_to_bool, options.cnn_use_batchnorm.split(',')))\n",
    "cnn_act=list(map(str, options.cnn_act.split(',')))\n",
    "cnn_drop=list(map(float, options.cnn_drop.split(',')))\n",
    "\n",
    "    \n",
    "\n",
    "#[dnn]\n",
    "fc_lay=list(map(int, options.fc_lay.split(',')))\n",
    "fc_drop=list(map(float, options.fc_drop.split(',')))\n",
    "fc_use_laynorm_inp=str_to_bool(options.fc_use_laynorm_inp)\n",
    "fc_use_batchnorm_inp=str_to_bool(options.fc_use_batchnorm_inp)\n",
    "fc_use_batchnorm=list(map(str_to_bool, options.fc_use_batchnorm.split(',')))\n",
    "fc_use_laynorm=list(map(str_to_bool, options.fc_use_laynorm.split(',')))\n",
    "fc_act=list(map(str, options.fc_act.split(',')))\n",
    "\n",
    "#[class]\n",
    "class_lay=list(map(int, options.class_lay.split(',')))\n",
    "class_drop=list(map(float, options.class_drop.split(',')))\n",
    "class_use_laynorm_inp=str_to_bool(options.class_use_laynorm_inp)\n",
    "class_use_batchnorm_inp=str_to_bool(options.class_use_batchnorm_inp)\n",
    "class_use_batchnorm=list(map(str_to_bool, options.class_use_batchnorm.split(',')))\n",
    "class_use_laynorm=list(map(str_to_bool, options.class_use_laynorm.split(',')))\n",
    "class_act=list(map(str, options.class_act.split(',')))\n",
    "\n",
    "\n",
    "#[optimization]\n",
    "lr=float(options.lr)\n",
    "use_scheduler = str_to_bool(options.use_scheduler)\n",
    "scheduler_patience = int(options.scheduler_patience)\n",
    "scheduler_factor = float(options.scheduler_factor)\n",
    "batch_size=int(options.batch_size)\n",
    "Batch_dev=int(options.Batch_dev)\n",
    "patience=int(options.patience)\n",
    "N_epochs=int(options.N_epochs)\n",
    "N_batches=int(options.N_batches)\n",
    "N_eval_epoch=int(options.N_eval_epoch)\n",
    "train_acc_period=int(options.train_acc_period)\n",
    "use_mixup=str_to_bool(options.use_mixup)\n",
    "beta_coef=float(options.beta_coef)\n",
    "mixup_batch_prop=float(options.mixup_batch_prop)\n",
    "same_classes=str_to_bool(options.same_classes)\n",
    "seed=int(options.seed)\n",
    "\n",
    "\n",
    "## The location of all the wav files are stored here:\n",
    "# training list\n",
    "tensors_lst_tr = np.load(tr_lst)\n",
    "snt_tr=len(tensors_lst_tr)\n",
    "\n",
    "# test list\n",
    "tensors_lst_te = np.load(te_lst)\n",
    "snt_te=len(tensors_lst_te)\n"
   ]
  },
  {
   "cell_type": "markdown",
   "metadata": {},
   "source": [
    "### Creates the out folder and initializes the networks with cfg file info:"
   ]
  },
  {
   "cell_type": "code",
   "execution_count": 13,
   "metadata": {},
   "outputs": [
    {
     "data": {
      "text/plain": [
       "MLP(\n",
       "  (wx): ModuleList(\n",
       "    (0): Linear(in_features=512, out_features=41, bias=True)\n",
       "  )\n",
       "  (bn): ModuleList(\n",
       "    (0): BatchNorm1d(41, eps=1e-05, momentum=0.05, affine=True, track_running_stats=True)\n",
       "  )\n",
       "  (ln): ModuleList(\n",
       "    (0): LayerNorm()\n",
       "  )\n",
       "  (act): ModuleList(\n",
       "    (0): LogSoftmax()\n",
       "  )\n",
       "  (drop): ModuleList(\n",
       "    (0): Dropout(p=0.0)\n",
       "  )\n",
       ")"
      ]
     },
     "execution_count": 13,
     "metadata": {},
     "output_type": "execute_result"
    }
   ],
   "source": [
    "\n",
    "# Folder creation\n",
    "try:\n",
    "    os.stat(output_folder)\n",
    "except:\n",
    "    os.mkdir(output_folder) \n",
    "    \n",
    "    \n",
    "# setting seed\n",
    "torch.manual_seed(seed)\n",
    "np.random.seed(seed)\n",
    "\n",
    "# loss function\n",
    "cost = nn.NLLLoss()\n",
    "\n",
    "\n",
    "  \n",
    "# Converting context and shift in samples\n",
    "wlen=int(fs*cw_len/1000.00)\n",
    "wshift=int(fs*cw_shift/1000.00)\n",
    "\n",
    "\n",
    "\n",
    "# Feature extractor CNN\n",
    "if is_conv2D:\n",
    "    CNN_arch = {'input_dim': wlen,\n",
    "            'fs': fs,\n",
    "            'cnn_N_filt': cnn_N_filt,\n",
    "            'cnn_len_filt_W': cnn_len_filt_W,\n",
    "            'cnn_len_filt_H': cnn_len_filt_H,\n",
    "            'cnn_energy_L': cnn_energy_L,\n",
    "            'cnn_energy_stride': cnn_energy_stride,\n",
    "            'cnn_max_pool_len_W': cnn_max_pool_len_W,\n",
    "            'cnn_max_pool_len_H': cnn_max_pool_len_H,\n",
    "            'cnn_use_laynorm_inp': cnn_use_laynorm_inp,\n",
    "            'cnn_use_batchnorm_inp': cnn_use_batchnorm_inp,\n",
    "            'cnn_use_laynorm':cnn_use_laynorm,\n",
    "            'cnn_use_batchnorm':cnn_use_batchnorm,\n",
    "            'cnn_act': cnn_act,\n",
    "            'cnn_drop':cnn_drop,          \n",
    "            }\n",
    "else:\n",
    "    CNN_arch = {'input_dim': wlen,\n",
    "            'fs': fs,\n",
    "            'cnn_N_filt': cnn_N_filt,\n",
    "            'cnn_len_filt': cnn_len_filt,\n",
    "            'cnn_max_pool_len':cnn_max_pool_len,\n",
    "            'cnn_use_laynorm_inp': cnn_use_laynorm_inp,\n",
    "            'cnn_use_batchnorm_inp': cnn_use_batchnorm_inp,\n",
    "            'cnn_use_laynorm':cnn_use_laynorm,\n",
    "            'cnn_use_batchnorm':cnn_use_batchnorm,\n",
    "            'cnn_act': cnn_act,\n",
    "            'cnn_drop':cnn_drop,          \n",
    "            }\n",
    "\n",
    "## Initializes SincNet:\n",
    "CNN_net=SincNet2D(CNN_arch) if is_conv2D else SincNet(CNN_arch)\n",
    "CNN_net.cuda()\n",
    "\n",
    "# Loading label dictionary\n",
    "lab_dict=np.load(class_dict_file).item()\n",
    "\n",
    "\n",
    "## First DNN, follows the config from the section [dnn] in .cfg file\n",
    "DNN1_arch = {'input_dim': CNN_net.out_dim,\n",
    "          'fc_lay': fc_lay,\n",
    "          'fc_drop': fc_drop, \n",
    "          'fc_use_batchnorm': fc_use_batchnorm,\n",
    "          'fc_use_laynorm': fc_use_laynorm,\n",
    "          'fc_use_laynorm_inp': fc_use_laynorm_inp,\n",
    "          'fc_use_batchnorm_inp':fc_use_batchnorm_inp,\n",
    "          'fc_act': fc_act,\n",
    "          }\n",
    "\n",
    "DNN1_net=MLP(DNN1_arch)\n",
    "DNN1_net.cuda()\n",
    "\n",
    "## Last trainable layer, has softmax as activation function see section [class] in .cfg\n",
    "DNN2_arch = {'input_dim':fc_lay[-1] ,\n",
    "          'fc_lay': class_lay,\n",
    "          'fc_drop': class_drop, \n",
    "          'fc_use_batchnorm': class_use_batchnorm,\n",
    "          'fc_use_laynorm': class_use_laynorm,\n",
    "          'fc_use_laynorm_inp': class_use_laynorm_inp,\n",
    "          'fc_use_batchnorm_inp':class_use_batchnorm_inp,\n",
    "          'fc_act': class_act,\n",
    "          }\n",
    "\n",
    "\n",
    "DNN2_net=MLP(DNN2_arch)\n",
    "DNN2_net.cuda()\n",
    "\n",
    "\n"
   ]
  },
  {
   "cell_type": "markdown",
   "metadata": {},
   "source": [
    "### Creates the main net:"
   ]
  },
  {
   "cell_type": "code",
   "execution_count": 14,
   "metadata": {},
   "outputs": [],
   "source": [
    "class MainNet(nn.Module):\n",
    "\n",
    "    def __init__(self, CNN_net, DNN1_net, DNN2_net):\n",
    "        super(MainNet, self).__init__()\n",
    "        self.CNN_net  = CNN_net\n",
    "        self.DNN1_net = DNN1_net\n",
    "        self.DNN2_net = DNN2_net\n",
    "\n",
    "    def forward(self, x):\n",
    "        x = self.DNN2_net(self.DNN1_net(self.CNN_net(x)))\n",
    "        return x"
   ]
  },
  {
   "cell_type": "code",
   "execution_count": 15,
   "metadata": {},
   "outputs": [
    {
     "data": {
      "text/plain": [
       "MainNet(\n",
       "  (CNN_net): SincNet2D(\n",
       "    (conv): ModuleList(\n",
       "      (0): SincConv_fast()\n",
       "      (1): Conv2d(1, 10, kernel_size=(3, 3), stride=(1, 1))\n",
       "      (2): Conv2d(10, 20, kernel_size=(3, 3), stride=(1, 1))\n",
       "    )\n",
       "    (bn): ModuleList(\n",
       "      (0): BatchNorm1d(80, eps=1e-05, momentum=0.05, affine=True, track_running_stats=True)\n",
       "      (1): BatchNorm2d(10, eps=1e-05, momentum=0.05, affine=True, track_running_stats=True)\n",
       "      (2): BatchNorm2d(20, eps=1e-05, momentum=0.05, affine=True, track_running_stats=True)\n",
       "    )\n",
       "    (ln): ModuleList(\n",
       "      (0): LayerNorm(torch.Size([80, 8450]), eps=1e-05, elementwise_affine=True)\n",
       "      (1): LayerNorm(torch.Size([10, 39, 187]), eps=1e-05, elementwise_affine=True)\n",
       "      (2): LayerNorm(torch.Size([20, 18, 61]), eps=1e-05, elementwise_affine=True)\n",
       "    )\n",
       "    (act): ModuleList(\n",
       "      (0): LeakyReLU(negative_slope=0.2)\n",
       "      (1): LeakyReLU(negative_slope=0.2)\n",
       "      (2): LeakyReLU(negative_slope=0.2)\n",
       "    )\n",
       "    (drop): ModuleList(\n",
       "      (0): Dropout(p=0.0)\n",
       "      (1): Dropout(p=0.0)\n",
       "      (2): Dropout(p=0.0)\n",
       "    )\n",
       "    (ln0): LayerNorm(torch.Size([25600]), eps=1e-05, elementwise_affine=True)\n",
       "  )\n",
       "  (DNN1_net): MLP(\n",
       "    (wx): ModuleList(\n",
       "      (0): Linear(in_features=21960, out_features=1024, bias=True)\n",
       "      (1): Linear(in_features=1024, out_features=1024, bias=True)\n",
       "      (2): Linear(in_features=1024, out_features=512, bias=True)\n",
       "    )\n",
       "    (bn): ModuleList(\n",
       "      (0): BatchNorm1d(1024, eps=1e-05, momentum=0.05, affine=True, track_running_stats=True)\n",
       "      (1): BatchNorm1d(1024, eps=1e-05, momentum=0.05, affine=True, track_running_stats=True)\n",
       "      (2): BatchNorm1d(512, eps=1e-05, momentum=0.05, affine=True, track_running_stats=True)\n",
       "    )\n",
       "    (ln): ModuleList(\n",
       "      (0): LayerNorm()\n",
       "      (1): LayerNorm()\n",
       "      (2): LayerNorm()\n",
       "    )\n",
       "    (act): ModuleList(\n",
       "      (0): PReLU(num_parameters=1)\n",
       "      (1): PReLU(num_parameters=1)\n",
       "      (2): PReLU(num_parameters=1)\n",
       "    )\n",
       "    (drop): ModuleList(\n",
       "      (0): Dropout(p=0.3)\n",
       "      (1): Dropout(p=0.3)\n",
       "      (2): Dropout(p=0.3)\n",
       "    )\n",
       "    (ln0): LayerNorm()\n",
       "  )\n",
       "  (DNN2_net): MLP(\n",
       "    (wx): ModuleList(\n",
       "      (0): Linear(in_features=512, out_features=41, bias=True)\n",
       "    )\n",
       "    (bn): ModuleList(\n",
       "      (0): BatchNorm1d(41, eps=1e-05, momentum=0.05, affine=True, track_running_stats=True)\n",
       "    )\n",
       "    (ln): ModuleList(\n",
       "      (0): LayerNorm()\n",
       "    )\n",
       "    (act): ModuleList(\n",
       "      (0): LogSoftmax()\n",
       "    )\n",
       "    (drop): ModuleList(\n",
       "      (0): Dropout(p=0.0)\n",
       "    )\n",
       "  )\n",
       ")"
      ]
     },
     "execution_count": 15,
     "metadata": {},
     "output_type": "execute_result"
    }
   ],
   "source": [
    "Main_net = MainNet(CNN_net, DNN1_net, DNN2_net)\n",
    "Main_net.cuda()"
   ]
  },
  {
   "cell_type": "markdown",
   "metadata": {},
   "source": [
    "### Our dataset variant:\n",
    "\n",
    ">We use the saved tensors file on Hard Disk to save RAM. Has Random chunk generator and mixup implemented(see training fun)."
   ]
  },
  {
   "cell_type": "code",
   "execution_count": 16,
   "metadata": {},
   "outputs": [],
   "source": [
    "## Dataset that loads tensors:\n",
    "class Dataset(torch.utils.data.Dataset):\n",
    "    \"\"\"\n",
    "    Characterizes a dataset for PyTorch, it loads chunks of data for training and accuracy functions.\n",
    "    \"\"\"\n",
    "    def __init__(self, list_IDs, labels, path, wlen, fact_amp=0, wshift=0, using_mixup=False, beta_coef=0.4, mixup_prop=1, sameClasses = False, train = False, is_fastai = False):\n",
    "        \"\"\"Initialization of the DataSet.\n",
    "\n",
    "        Args:\n",
    "            list_IDs (list): A list of strings containing the names of the tensors to load.\n",
    "            labels (dict): A dictionary containing the labels corresponding to each tensor ID. \n",
    "                           Usage: self.labels[ID] returns int (ground truth).\n",
    "            path (string): Directory location of the tensors.\n",
    "            wlen (int): Size of the window of each audio data returned. (Basically is the size of the tensor returned.)\n",
    "            fact_amp (float): Each tensor is amplified randomly with a factor of np.random.uniform(1.0-self.fact_amp,1+self.fact_amp).\n",
    "            wshift (int, optional): Is the Hop size in between valid/test chunks. Defaults to 0.\n",
    "            using_mixup (bool, optional): Indicates if user wishes to use mixup for training, it must be se to True if so. Defaults to False.\n",
    "            beta_coef (float, optional): Is the coeficient for the Bet distribution used for mixup. Defaults to 0.4.\n",
    "            mixup_prop (int, optional): Is the probability that the data gets mixed up. Parameter of a variable following a uniform distribution. \n",
    "                                        Defaults to 1.\n",
    "            sameClasses (bool, optional): Indicates if the user wishes to mixup only data with same corresponding label, it must be se to True if so.\n",
    "                                          Defaults to False.\n",
    "            train (bool, optional): Indicates if user wishes to create a training dataset, it must be se to True if so. Defaults to False.\n",
    "            is_fastai (bool, optional): Indicates if user wishes to use fastai, it must be se to True if so. Defaults to False.\n",
    "        \"\"\"\n",
    "        self.labels = labels\n",
    "        self.list_IDs = list_IDs\n",
    "        self.path = path\n",
    "        \n",
    "        ## SincNet's Window length:\n",
    "        self.wlen     = wlen\n",
    "        self.wshift   = wshift\n",
    "        self.fact_amp = fact_amp\n",
    "        self.train    = train\n",
    "        \n",
    "        ## Mixup variables:\n",
    "        self.using_mixup = using_mixup\n",
    "        self.beta_coef   = beta_coef\n",
    "        self.mixup_prop  = mixup_prop\n",
    "        self.sameClasses = sameClasses\n",
    "        \n",
    "        ## for fastai:\n",
    "        self.is_fastai   = is_fastai \n",
    "        \n",
    "        ## Initializes the dictionary of the indicies of each tensor grouped by class:\n",
    "        self.tensor_by_class_dict = {}\n",
    "        \n",
    "        ## <!>------------- For testloader or valid loader: -------------<!> ##\n",
    "        if(not self.train):\n",
    "            self.list_IDs_chunks = []\n",
    "        \n",
    "        ## Stores the number of classes:\n",
    "        self.n_classes = 0\n",
    "            \n",
    "        ## Go through all the files and gets their lenght:\n",
    "        for i, el in enumerate(self.list_IDs):\n",
    "            ## Reads tensor with ID el:\n",
    "            X = torch.load(self.path + el)#removed \".pt\", it was already in my IDs\n",
    "            y = self.labels[el]\n",
    "            \n",
    "            \n",
    "            if(not self.train):\n",
    "                ## Number of frames extracted from tensors\n",
    "                N_fr=int((X.shape[0]-wlen)/(wshift))+1\n",
    "\n",
    "                ## Appends the (tensor idenx in list_ID, chunk number) to the list of IDs and chunks\n",
    "                self.list_IDs_chunks += [(i, j) for j in range(0, N_fr)]\n",
    "            \n",
    "            ## Stores the indices of tensors in tensor list by class in the dict:\n",
    "            if self.tensor_by_class_dict.get(y) is None:\n",
    "                ## Adds the new element as a singleton in a list:\n",
    "                self.tensor_by_class_dict[y] = [i]\n",
    "\n",
    "                ## Updates the number of classes:\n",
    "                self.n_classes              += 1\n",
    "            else:\n",
    "                l = self.tensor_by_class_dict[y]\n",
    "                l.append(i)\n",
    "                self.tensor_by_class_dict[y] = l\n",
    "                \n",
    "\n",
    "        \n",
    "        ## Sets the size of dataset depending on the type:\n",
    "        if self.train:\n",
    "            self.number_of_samples = len(self.list_IDs)\n",
    "        else:\n",
    "            self.number_of_samples = len(self.list_IDs_chunks)\n",
    "            \n",
    "\n",
    "    def onehot(self, label, n_classes):\n",
    "        \"\"\"Returns a one hot encoded version of the labels.\n",
    "\n",
    "        Args:\n",
    "            label (Torch.Tensor): A tensor of type long wich describes the labels as integers.\n",
    "            n_classes (int): The number of classes.\n",
    "\n",
    "        Returns:\n",
    "            (Torch.Tensor):  One hot encoded labels.\n",
    "        \"\"\"\n",
    "        onehot_label = torch.zeros(n_classes)\n",
    "        onehot_label[label] = 1\n",
    "        return onehot_label\n",
    "\n",
    "    def __len__(self):\n",
    "        'Denotes the total number of samples'\n",
    "        return self.number_of_samples\n",
    "    \n",
    "    def __getitem__(self, index):\n",
    "        'Generates one sample of data'\n",
    "        \n",
    "        # Selecting sample\n",
    "        if self.train:\n",
    "            ID                       = self.list_IDs[index]\n",
    "        else:\n",
    "            tensor_idx, chunk_number = self.list_IDs_chunks[index]\n",
    "            ID                       = self.list_IDs[tensor_idx]\n",
    "         \n",
    "        # Load data and its label \n",
    "        X = torch.load(self.path + ID)#remove \".pt\", it was already in my IDs\n",
    "        y = self.labels[ID]\n",
    "\n",
    "        \n",
    "        ## Modifications for SincNet:\n",
    "        if(not self.train):\n",
    "            if(self.wshift == 0):\n",
    "                print(\"Error, for validation or test set wshift can't be equal to 0!\")\n",
    "            \n",
    "            ##Initializes the window accordingly to chunk number:\n",
    "            beg_samp = chunk_number * self.wshift\n",
    "            end_samp = beg_samp + self.wlen\n",
    "            \n",
    "            if self.is_fastai:\n",
    "                return X[beg_samp:end_samp], y\n",
    "            else:\n",
    "                return X[beg_samp:end_samp], y, tensor_idx\n",
    "\n",
    "\n",
    "        else:            \n",
    "            ## Stores the lenght of the signal:\n",
    "            snt_len = X.shape[0]\n",
    "\n",
    "            ## Randomly amplifies the signal by rand_amp factor\n",
    "            rand_amp = np.random.uniform(1.0-self.fact_amp,1+self.fact_amp)\n",
    "\n",
    "            if(snt_len < self.wlen):\n",
    "                print(\"Error, file too small! Size is equal to {0} and should be at least {1}.\".format(snt_len, self.wlen))\n",
    "            ## Chooses a random chunk of the signal:\n",
    "            snt_beg = 0 if snt_len-self.wlen-1 in (0, -1) else np.random.randint(snt_len-self.wlen-1)\n",
    "            snt_end = snt_beg + self.wlen\n",
    "            \n",
    "            ## Creates the random chunk:\n",
    "            data = X[snt_beg:snt_end]\n",
    "            \n",
    "            ## Boolean that indicates if we used mixup for this sample of data:\n",
    "            used_mixup = False\n",
    "            \n",
    "            ## Rand variable That decides if we mixup or not:\n",
    "            uniform01 = np.random.uniform()\n",
    "            \n",
    "            if self.using_mixup:\n",
    "                ## Gets the data for mixup:\n",
    "                if self.sameClasses:\n",
    "                    data_mix, y2 = self.get_item_randomly(y)\n",
    "                else:\n",
    "                    data_mix, y2 = self.get_item_randomly()\n",
    "                    \n",
    "                # Converts labels into one_hot encoded labels:\n",
    "                y  = self.onehot(y,  self.n_classes)    \n",
    "                y2 = self.onehot(y2, self.n_classes)\n",
    "            \n",
    "                ## Gets the mixup coef:\n",
    "                mixup_var = np.random.beta(self.beta_coef, self.beta_coef)\n",
    "                \n",
    "                ## After reading an article, it seems best to take coefs > 0.5\n",
    "                if mixup_var <= 0.5:\n",
    "                    mixup_var = 1 - mixup_var\n",
    "                \n",
    "                ## Prop\n",
    "                if uniform01 <= self.mixup_prop:\n",
    "                    ## Mixing up data:\n",
    "                    data = data * mixup_var + data_mix * (1. - mixup_var)\n",
    "\n",
    "                    ## Mixing labels:\n",
    "                    y    = y    * mixup_var + y2       * (1. - mixup_var)\n",
    "\n",
    "                    ## States that we used mixup:\n",
    "                    used_mixup = True\n",
    "                \n",
    "\n",
    "            ## Amplifies the signal:\n",
    "            data *= rand_amp\n",
    "            \n",
    "            ## Returns a random amplified chunk of the signal (can be mixed up):\n",
    "            if(self.using_mixup):\n",
    "                return data, y , used_mixup\n",
    "            else :\n",
    "                return data, y\n",
    "    \n",
    "\n",
    "    def get_item_randomly(self, lab = -1):\n",
    "        if(not self.train):\n",
    "            print(\"Warning, user should not use this function for test loaders or valid loaders.\")\n",
    "        \n",
    "        ## Different \n",
    "        if lab != -1 :\n",
    "            ## Gets the total number of tensors labeled lab:\n",
    "            N = len(self.tensor_by_class_dict[lab])  \n",
    "        else:\n",
    "            ## Gets the total number of tensors:\n",
    "            N = len(self.list_IDs)\n",
    "        \n",
    "        ## Chooses randomly one tensor:\n",
    "        idx = np.random.randint(0, N)\n",
    "        \n",
    "        ## Stores the index of the tensor:\n",
    "        idx_tensor = self.tensor_by_class_dict[lab][idx] if lab != -1 else idx\n",
    "        \n",
    "        ## Stores the ID of the tensor:\n",
    "        ID = self.list_IDs[idx_tensor]\n",
    "        \n",
    "        ## Loads the tensor and its label:\n",
    "        X = torch.load(self.path + ID)#removed \".pt\", it was already in my IDs\n",
    "        y = self.labels[ID]\n",
    "            \n",
    "        ## Stores the length of the signal:\n",
    "        snt_len = X.shape[0]\n",
    "        \n",
    "        ## Chooses a random chunk of the signal:\n",
    "        snt_beg = 0 if snt_len-self.wlen-1 in (0, -1) else np.random.randint(snt_len-self.wlen-1)\n",
    "        snt_end = snt_beg + self.wlen\n",
    "\n",
    "        ## Returns the random chunk of the signal:\n",
    "        return X[snt_beg:snt_end], y\n"
   ]
  },
  {
   "cell_type": "code",
   "execution_count": 17,
   "metadata": {},
   "outputs": [],
   "source": [
    "## Creating the datasets:\n",
    "\n",
    "train_dataset      = Dataset(tensors_lst_tr, lab_dict, data_folder, wlen, 0.2, wshift = 0, using_mixup=use_mixup, beta_coef=beta_coef, mixup_prop=mixup_batch_prop, sameClasses = same_classes, train = True, is_fastai=False)\n",
    "valid_dataset      = Dataset(tensors_lst_te, lab_dict, data_folder, wlen, 0.2, wshift = wshift, train = False, is_fastai=False)\n",
    "# dataset for confusion matrix:\n",
    "#valid_dataset_conf = Dataset(tensors_lst_te, lab_dict, data_folder, wlen, 0.2, wshift = wshift, eval_mode= True, train = False)\n"
   ]
  },
  {
   "cell_type": "code",
   "execution_count": 18,
   "metadata": {},
   "outputs": [
    {
     "name": "stdout",
     "output_type": "stream",
     "text": [
      "(tensor([-0.1079, -0.0110,  0.1376,  ...,  0.0109, -0.0312,  0.0203]), 30)\n"
     ]
    }
   ],
   "source": [
    "print(train_dataset.get_item_randomly())"
   ]
  },
  {
   "cell_type": "code",
   "execution_count": 19,
   "metadata": {},
   "outputs": [],
   "source": [
    "#print(valid_dataset.tensor_by_class_dict)\n",
    "#print(valid_dataset.list_IDs_chunks)"
   ]
  },
  {
   "cell_type": "markdown",
   "metadata": {},
   "source": [
    "#### Setting up the dataloaders for training dataset and validation dataset:"
   ]
  },
  {
   "cell_type": "code",
   "execution_count": 20,
   "metadata": {},
   "outputs": [],
   "source": [
    "## Setting up the loaders:\n",
    "train_loader = torch.utils.data.DataLoader(dataset=train_dataset,\n",
    "                                          batch_size=batch_size,\n",
    "                                          shuffle=True)\n",
    "\n",
    "## Batchsize can only be 1 for valid_loader because each tensor has a different shape...\n",
    "valid_loader  = torch.utils.data.DataLoader(dataset=valid_dataset,\n",
    "                                          batch_size=Batch_dev,\n",
    "                                          shuffle=False)"
   ]
  },
  {
   "cell_type": "markdown",
   "metadata": {},
   "source": [
    "##### Tests:"
   ]
  },
  {
   "cell_type": "code",
   "execution_count": 21,
   "metadata": {},
   "outputs": [
    {
     "name": "stdout",
     "output_type": "stream",
     "text": [
      "tensor([[ 0.1092,  0.1146,  0.1193,  ...,  0.1895,  0.2042,  0.2102],\n",
      "        [ 0.0097,  0.0124,  0.0147,  ...,  0.0206,  0.0206,  0.0187],\n",
      "        [ 0.0019,  0.0023,  0.0023,  ..., -0.0036, -0.0049, -0.0053],\n",
      "        ...,\n",
      "        [-0.2880, -0.2548, -0.2146,  ..., -0.2383, -0.2276, -0.2105],\n",
      "        [-0.1172, -0.1115, -0.1047,  ..., -0.0160, -0.0155, -0.0151],\n",
      "        [-0.0929, -0.1000, -0.0868,  ...,  0.0088,  0.0095,  0.0070]]) tensor([16, 27, 15, 37,  5, 35, 39, 30, 30, 10, 27, 26, 40,  0,  7, 17,  7, 25,\n",
      "        37, 15, 18, 32, 13,  0, 21,  0,  1, 12, 36,  4,  5, 23])\n",
      "torch.Size([32, 25600])\n",
      "32\n"
     ]
    }
   ],
   "source": [
    "if(use_mixup):\n",
    "    X, labels, used_mixup = next(iter(train_loader))\n",
    "    print(used_mixup.sum().item()/X.size(0))# batch_size = X.size(0)\n",
    "else:\n",
    "    X, labels = next(iter(train_loader))\n",
    "\n",
    "print(X, labels)\n",
    "print(X.shape)\n",
    "print(X.shape[0])\n"
   ]
  },
  {
   "cell_type": "code",
   "execution_count": 22,
   "metadata": {},
   "outputs": [
    {
     "name": "stdout",
     "output_type": "stream",
     "text": [
      "tensor([[-0.1218, -0.1462, -0.1257,  ..., -0.2727, -0.3080, -0.3364],\n",
      "        [ 0.1029,  0.0696,  0.0426,  ...,  0.1946,  0.1648,  0.1294],\n",
      "        [-0.2260, -0.2151, -0.1955,  ..., -0.1181, -0.1349, -0.1238],\n",
      "        ...,\n",
      "        [-0.1387, -0.1330, -0.1819,  ..., -0.0331, -0.0456, -0.0531],\n",
      "        [ 0.0393,  0.0207,  0.0356,  ...,  0.1600,  0.1813,  0.1893],\n",
      "        [ 0.0207, -0.1766, -0.1892,  ..., -0.0103, -0.0624, -0.0856]]) tensor([33, 33, 33, 33, 33, 33, 33, 33, 33, 33, 33, 33, 33, 38, 38, 38, 38, 38,\n",
      "        38, 38, 38, 38, 38, 38, 38, 38, 38, 38, 38, 38, 38, 38])\n",
      "torch.Size([32, 25600])\n",
      "torch.Size([32])\n",
      "tensor([33, 33, 33, 33, 33, 33, 33, 33, 33, 33, 33, 33, 33, 38, 38, 38, 38, 38,\n",
      "        38, 38, 38, 38, 38, 38, 38, 38, 38, 38, 38, 38, 38, 38])\n",
      "tensor([0, 0, 0, 0, 0, 0, 0, 0, 0, 0, 0, 0, 0, 1, 1, 1, 1, 1, 1, 1, 1, 1, 1, 1,\n",
      "        1, 1, 1, 1, 1, 1, 1, 1])\n"
     ]
    }
   ],
   "source": [
    "X_valid, labels_valid, tensor_ids = next(iter(valid_loader))\n",
    "print(X_valid, \"\\n\", labels_valid)\n",
    "print(X_valid.shape)\n",
    "print(labels_valid.shape)\n",
    "print(tensor_ids)"
   ]
  },
  {
   "cell_type": "code",
   "execution_count": 23,
   "metadata": {},
   "outputs": [
    {
     "name": "stdout",
     "output_type": "stream",
     "text": [
      "[13, 19]\n"
     ]
    },
    {
     "data": {
      "text/plain": [
       "[0, 1]"
      ]
     },
     "execution_count": 23,
     "metadata": {},
     "output_type": "execute_result"
    }
   ],
   "source": [
    "## Algorithm that detects a shift in file and stores the index of first appearence in list:\n",
    "section = []\n",
    "ids_list = []\n",
    "current_idx = tensor_ids[0].item()\n",
    "ids_list.append(current_idx)\n",
    "for i, el in enumerate(tensor_ids):\n",
    "    current_el = el.item()\n",
    "    if current_el != current_idx:\n",
    "        current_idx = current_el\n",
    "        ids_list.append(current_idx)\n",
    "        section.append(i - sum(section))\n",
    "\n",
    "## Last section is added:    \n",
    "section.append(X.size(0) - sum(section))\n",
    "print(section)\n",
    "ids_list"
   ]
  },
  {
   "cell_type": "code",
   "execution_count": 24,
   "metadata": {},
   "outputs": [
    {
     "data": {
      "text/plain": [
       "0.103199232"
      ]
     },
     "execution_count": 24,
     "metadata": {},
     "output_type": "execute_result"
    }
   ],
   "source": [
    "torch.cuda.memory_allocated('cuda') * 1.e-9"
   ]
  },
  {
   "cell_type": "markdown",
   "metadata": {},
   "source": [
    "## Tests for SincNet2D:"
   ]
  },
  {
   "cell_type": "code",
   "execution_count": 25,
   "metadata": {},
   "outputs": [
    {
     "name": "stdout",
     "output_type": "stream",
     "text": [
      "80 563\n",
      "39 187\n",
      "18 61\n"
     ]
    },
    {
     "data": {
      "text/plain": [
       "SincNet2D(\n",
       "  (conv): ModuleList(\n",
       "    (0): SincConv_fast()\n",
       "    (1): Conv2d(1, 10, kernel_size=(3, 3), stride=(1, 1))\n",
       "    (2): Conv2d(10, 20, kernel_size=(3, 3), stride=(1, 1))\n",
       "  )\n",
       "  (bn): ModuleList(\n",
       "    (0): BatchNorm1d(80, eps=1e-05, momentum=0.05, affine=True, track_running_stats=True)\n",
       "    (1): BatchNorm2d(10, eps=1e-05, momentum=0.05, affine=True, track_running_stats=True)\n",
       "    (2): BatchNorm2d(20, eps=1e-05, momentum=0.05, affine=True, track_running_stats=True)\n",
       "  )\n",
       "  (ln): ModuleList(\n",
       "    (0): LayerNorm(torch.Size([80, 8450]), eps=1e-05, elementwise_affine=True)\n",
       "    (1): LayerNorm(torch.Size([10, 39, 187]), eps=1e-05, elementwise_affine=True)\n",
       "    (2): LayerNorm(torch.Size([20, 18, 61]), eps=1e-05, elementwise_affine=True)\n",
       "  )\n",
       "  (act): ModuleList(\n",
       "    (0): LeakyReLU(negative_slope=0.2)\n",
       "    (1): LeakyReLU(negative_slope=0.2)\n",
       "    (2): LeakyReLU(negative_slope=0.2)\n",
       "  )\n",
       "  (drop): ModuleList(\n",
       "    (0): Dropout(p=0.0)\n",
       "    (1): Dropout(p=0.0)\n",
       "    (2): Dropout(p=0.0)\n",
       "  )\n",
       "  (ln0): LayerNorm(torch.Size([25600]), eps=1e-05, elementwise_affine=True)\n",
       ")"
      ]
     },
     "execution_count": 25,
     "metadata": {},
     "output_type": "execute_result"
    }
   ],
   "source": [
    "test_net = SincNet2D(CNN_arch, print_spec = True)\n",
    "test_net.cuda()"
   ]
  },
  {
   "cell_type": "code",
   "execution_count": 26,
   "metadata": {},
   "outputs": [
    {
     "data": {
      "text/plain": [
       "SincNet2D(\n",
       "  (conv): ModuleList(\n",
       "    (0): SincConv_fast()\n",
       "    (1): Conv2d(1, 10, kernel_size=(3, 3), stride=(1, 1))\n",
       "    (2): Conv2d(10, 20, kernel_size=(3, 3), stride=(1, 1))\n",
       "  )\n",
       "  (bn): ModuleList(\n",
       "    (0): BatchNorm1d(80, eps=1e-05, momentum=0.05, affine=True, track_running_stats=True)\n",
       "    (1): BatchNorm2d(10, eps=1e-05, momentum=0.05, affine=True, track_running_stats=True)\n",
       "    (2): BatchNorm2d(20, eps=1e-05, momentum=0.05, affine=True, track_running_stats=True)\n",
       "  )\n",
       "  (ln): ModuleList(\n",
       "    (0): LayerNorm(torch.Size([80, 8450]), eps=1e-05, elementwise_affine=True)\n",
       "    (1): LayerNorm(torch.Size([10, 39, 187]), eps=1e-05, elementwise_affine=True)\n",
       "    (2): LayerNorm(torch.Size([20, 18, 61]), eps=1e-05, elementwise_affine=True)\n",
       "  )\n",
       "  (act): ModuleList(\n",
       "    (0): LeakyReLU(negative_slope=0.2)\n",
       "    (1): LeakyReLU(negative_slope=0.2)\n",
       "    (2): LeakyReLU(negative_slope=0.2)\n",
       "  )\n",
       "  (drop): ModuleList(\n",
       "    (0): Dropout(p=0.0)\n",
       "    (1): Dropout(p=0.0)\n",
       "    (2): Dropout(p=0.0)\n",
       "  )\n",
       "  (ln0): LayerNorm(torch.Size([25600]), eps=1e-05, elementwise_affine=True)\n",
       ")"
      ]
     },
     "execution_count": 26,
     "metadata": {},
     "output_type": "execute_result"
    }
   ],
   "source": [
    "test_net.eval()"
   ]
  },
  {
   "cell_type": "code",
   "execution_count": 27,
   "metadata": {},
   "outputs": [
    {
     "name": "stdout",
     "output_type": "stream",
     "text": [
      "Temps de calcul pour la inp layernorm : 2.4942557017008462e-05min\n",
      "Temps de calcul pour la conv : 0.002318720022837321min\n",
      "Temps de calcul pour maxpool : 1.1241436004638672e-05min\n",
      "Temps de calcul pour batchnorm : 4.7047932942708336e-06min\n",
      "Temps de calcul pour la conv : 2.4437904357910156e-06min\n",
      "Temps de calcul pour la conv : 2.181529998779297e-06min\n",
      "Temps de calcul pour l'Energie : 4.907449086507161e-06min\n"
     ]
    },
    {
     "data": {
      "image/png": "[encoded data removed]",
      "text/plain": [
       "<Figure size 1008x504 with 64 Axes>"
      ]
     },
     "metadata": {
      "needs_background": "light"
     },
     "output_type": "display_data"
    },
    {
     "name": "stdout",
     "output_type": "stream",
     "text": [
      "torch.Size([32, 1, 80, 563])\n",
      "Temps de calcul pour la conv : 6.012121836344401e-06min\n",
      "Temps de calcul pour maxpool : 2.110004425048828e-06min\n",
      "Temps de calcul pour batchnorm : 2.516508102416992e-05min\n",
      "Temps de calcul pour la conv : 7.95125961303711e-06min\n",
      "Temps de calcul pour la conv : 6.874402364095052e-07min\n",
      "torch.Size([32, 10, 39, 187])\n",
      "Temps de calcul pour la conv : 2.777576446533203e-06min\n",
      "Temps de calcul pour maxpool : 2.272923787434896e-06min\n",
      "Temps de calcul pour batchnorm : 3.3895174662272136e-06min\n",
      "Temps de calcul pour la conv : 1.933177312215169e-05min\n",
      "Temps de calcul pour la conv : 6.755193074544271e-07min\n",
      "torch.Size([32, 20, 18, 61])\n",
      "torch.Size([32, 21960])\n"
     ]
    }
   ],
   "source": [
    "with torch.no_grad():\n",
    "    print(test_net.forward(X.cuda()).shape)"
   ]
  },
  {
   "cell_type": "code",
   "execution_count": 28,
   "metadata": {},
   "outputs": [
    {
     "data": {
      "text/plain": [
       "21960"
      ]
     },
     "execution_count": 28,
     "metadata": {},
     "output_type": "execute_result"
    }
   ],
   "source": [
    "test_net.out_dim"
   ]
  },
  {
   "cell_type": "code",
   "execution_count": 29,
   "metadata": {},
   "outputs": [],
   "source": [
    "del test_net"
   ]
  },
  {
   "cell_type": "code",
   "execution_count": 30,
   "metadata": {},
   "outputs": [
    {
     "name": "stdout",
     "output_type": "stream",
     "text": [
      "torch.Size([32, 41])\n",
      "{'input_dim': 25600, 'fs': 32000, 'cnn_N_filt': [80, 10, 20], 'cnn_len_filt_W': [251, 3, 3], 'cnn_len_filt_H': [0, 3, 3], 'cnn_energy_L': 30, 'cnn_energy_stride': 15, 'cnn_max_pool_len_W': [3, 3, 3], 'cnn_max_pool_len_H': [1, 2, 2], 'cnn_use_laynorm_inp': True, 'cnn_use_batchnorm_inp': False, 'cnn_use_laynorm': [False, False, False], 'cnn_use_batchnorm': [True, True, True], 'cnn_act': ['leaky_relu', 'leaky_relu', 'leaky_relu'], 'cnn_drop': [0.0, 0.0, 0.0]}\n"
     ]
    }
   ],
   "source": [
    "Main_net.eval()\n",
    "with torch.no_grad():\n",
    "    print(Main_net.forward(X.cuda()).shape)\n",
    "Main_net.train()\n",
    "print(CNN_arch)"
   ]
  },
  {
   "cell_type": "markdown",
   "metadata": {},
   "source": [
    "## Learning rate finder:\n",
    "\n",
    "The thread where the idea originated from is accessible [here.](https://discuss.pytorch.org/t/get-the-best-learning-rate-automatically/58269/7) <br>\n",
    "The thread where the code originated from is accessible [here.](https://forums.fast.ai/t/automated-learning-rate-suggester/44199)"
   ]
  },
  {
   "cell_type": "code",
   "execution_count": 31,
   "metadata": {},
   "outputs": [],
   "source": [
    "## import the tools from fastai:\n",
    "from fastai.basics import *"
   ]
  },
  {
   "cell_type": "code",
   "execution_count": 32,
   "metadata": {},
   "outputs": [],
   "source": [
    "valid_dataset.is_fastai = True\n",
    "\n",
    "databunch = DataBunch.create(train_dataset, valid_dataset, bs=32, device = torch.device('cuda'))\n",
    "learn = Learner(databunch, Main_net, loss_func = cost, metrics = accuracy)"
   ]
  },
  {
   "cell_type": "code",
   "execution_count": 33,
   "metadata": {},
   "outputs": [],
   "source": [
    "def find_appropriate_lr(model:Learner, lr_diff:int = 15, loss_threshold:float = .05, adjust_value:float = 1, plot:bool = False) -> float:\n",
    "    #Run the Learning Rate Finder\n",
    "    model.lr_find()\n",
    "    \n",
    "    #Get loss values and their corresponding gradients, and get lr values\n",
    "    losses = np.array(model.recorder.losses)\n",
    "    assert(lr_diff < len(losses))\n",
    "    loss_grad = np.gradient(losses)\n",
    "    lrs = model.recorder.lrs\n",
    "    \n",
    "    #Search for index in gradients where loss is lowest before the loss spike\n",
    "    #Initialize right and left idx using the lr_diff as a spacing unit\n",
    "    #Set the local min lr as -1 to signify if threshold is too low\n",
    "    r_idx = -1\n",
    "    l_idx = r_idx - lr_diff\n",
    "    while (l_idx >= -len(losses)) and (abs(loss_grad[r_idx] - loss_grad[l_idx]) > loss_threshold):\n",
    "        local_min_lr = lrs[l_idx]\n",
    "        r_idx -= 1\n",
    "        l_idx -= 1\n",
    "\n",
    "    lr_to_use = local_min_lr * adjust_value\n",
    "    \n",
    "    if plot:\n",
    "        # plots the gradients of the losses in respect to the learning rate change\n",
    "        plt.plot(loss_grad)\n",
    "        plt.plot(len(losses)+l_idx, loss_grad[l_idx],markersize=10,marker='o',color='red')\n",
    "        plt.ylabel(\"Loss\")\n",
    "        plt.xlabel(\"Index of LRs\")\n",
    "        plt.show()\n",
    "\n",
    "        plt.plot(np.log10(lrs), losses)\n",
    "        plt.ylabel(\"Loss\")\n",
    "        plt.xlabel(\"Log 10 Transform of Learning Rate\")\n",
    "        loss_coord = np.interp(np.log10(lr_to_use), np.log10(lrs), losses)\n",
    "        plt.plot(np.log10(lr_to_use), loss_coord, markersize=10,marker='o',color='red')\n",
    "        plt.show()\n",
    "        \n",
    "    return lr_to_use"
   ]
  },
  {
   "cell_type": "code",
   "execution_count": 34,
   "metadata": {},
   "outputs": [
    {
     "data": {
      "text/html": [
       "\n",
       "    <div>\n",
       "        <style>\n",
       "            /* Turns off some styling */\n",
       "            progress {\n",
       "                /* gets rid of default border in Firefox and Opera. */\n",
       "                border: none;\n",
       "                /* Needs to be in here for Safari polyfill so background images work as expected. */\n",
       "                background-size: auto;\n",
       "            }\n",
       "            .progress-bar-interrupted, .progress-bar-interrupted::-webkit-progress-bar {\n",
       "                background: #F44336;\n",
       "            }\n",
       "        </style>\n",
       "      <progress value='0' class='' max='1', style='width:300px; height:20px; vertical-align: middle;'></progress>\n",
       "      0.00% [0/1 00:00<00:00]\n",
       "    </div>\n",
       "    \n",
       "<table border=\"1\" class=\"dataframe\">\n",
       "  <thead>\n",
       "    <tr style=\"text-align: left;\">\n",
       "      <th>epoch</th>\n",
       "      <th>train_loss</th>\n",
       "      <th>valid_loss</th>\n",
       "      <th>accuracy</th>\n",
       "      <th>time</th>\n",
       "    </tr>\n",
       "  </thead>\n",
       "  <tbody>\n",
       "  </tbody>\n",
       "</table><p>\n",
       "\n",
       "    <div>\n",
       "        <style>\n",
       "            /* Turns off some styling */\n",
       "            progress {\n",
       "                /* gets rid of default border in Firefox and Opera. */\n",
       "                border: none;\n",
       "                /* Needs to be in here for Safari polyfill so background images work as expected. */\n",
       "                background-size: auto;\n",
       "            }\n",
       "            .progress-bar-interrupted, .progress-bar-interrupted::-webkit-progress-bar {\n",
       "                background: #F44336;\n",
       "            }\n",
       "        </style>\n",
       "      <progress value='90' class='' max='236', style='width:300px; height:20px; vertical-align: middle;'></progress>\n",
       "      38.14% [90/236 00:07<00:12 9.6451]\n",
       "    </div>\n",
       "    "
      ],
      "text/plain": [
       "<IPython.core.display.HTML object>"
      ]
     },
     "metadata": {},
     "output_type": "display_data"
    },
    {
     "name": "stdout",
     "output_type": "stream",
     "text": [
      "LR Finder is complete, type {learner_name}.recorder.plot() to see the graph.\n",
      "0.022908676527677745\n"
     ]
    },
    {
     "data": {
      "image/png": "[encoded data removed]",
      "text/plain": [
       "<Figure size 432x288 with 1 Axes>"
      ]
     },
     "metadata": {
      "needs_background": "light"
     },
     "output_type": "display_data"
    }
   ],
   "source": [
    "lr = find_appropriate_lr(learn)\n",
    "learn.recorder.plot()\n",
    "print(lr)"
   ]
  },
  {
   "cell_type": "code",
   "execution_count": 35,
   "metadata": {},
   "outputs": [
    {
     "data": {
      "text/plain": [
       "'learn.fit(1)'"
      ]
     },
     "execution_count": 35,
     "metadata": {},
     "output_type": "execute_result"
    }
   ],
   "source": [
    "\"learn.fit(1)\""
   ]
  },
  {
   "cell_type": "code",
   "execution_count": 37,
   "metadata": {},
   "outputs": [
    {
     "data": {
      "text/html": [
       "\n",
       "    <div>\n",
       "        <style>\n",
       "            /* Turns off some styling */\n",
       "            progress {\n",
       "                /* gets rid of default border in Firefox and Opera. */\n",
       "                border: none;\n",
       "                /* Needs to be in here for Safari polyfill so background images work as expected. */\n",
       "                background-size: auto;\n",
       "            }\n",
       "            .progress-bar-interrupted, .progress-bar-interrupted::-webkit-progress-bar {\n",
       "                background: #F44336;\n",
       "            }\n",
       "        </style>\n",
       "      <progress value='0' class='' max='1', style='width:300px; height:20px; vertical-align: middle;'></progress>\n",
       "      0.00% [0/1 00:00<00:00]\n",
       "    </div>\n",
       "    \n",
       "<table border=\"1\" class=\"dataframe\">\n",
       "  <thead>\n",
       "    <tr style=\"text-align: left;\">\n",
       "      <th>epoch</th>\n",
       "      <th>train_loss</th>\n",
       "      <th>valid_loss</th>\n",
       "      <th>accuracy</th>\n",
       "      <th>time</th>\n",
       "    </tr>\n",
       "  </thead>\n",
       "  <tbody>\n",
       "  </tbody>\n",
       "</table><p>\n",
       "\n",
       "    <div>\n",
       "        <style>\n",
       "            /* Turns off some styling */\n",
       "            progress {\n",
       "                /* gets rid of default border in Firefox and Opera. */\n",
       "                border: none;\n",
       "                /* Needs to be in here for Safari polyfill so background images work as expected. */\n",
       "                background-size: auto;\n",
       "            }\n",
       "            .progress-bar-interrupted, .progress-bar-interrupted::-webkit-progress-bar {\n",
       "                background: #F44336;\n",
       "            }\n",
       "        </style>\n",
       "      <progress value='89' class='' max='236', style='width:300px; height:20px; vertical-align: middle;'></progress>\n",
       "      37.71% [89/236 00:07<00:12 11.6146]\n",
       "    </div>\n",
       "    "
      ],
      "text/plain": [
       "<IPython.core.display.HTML object>"
      ]
     },
     "metadata": {},
     "output_type": "display_data"
    },
    {
     "name": "stdout",
     "output_type": "stream",
     "text": [
      "LR Finder is complete, type {learner_name}.recorder.plot() to see the graph.\n"
     ]
    },
    {
     "data": {
      "image/png": "[encoded data removed]",
      "text/plain": [
       "<Figure size 432x288 with 1 Axes>"
      ]
     },
     "metadata": {
      "needs_background": "light"
     },
     "output_type": "display_data"
    }
   ],
   "source": [
    "## Fast ai modules finish here, so we switch back to old dataset:\n",
    "learn.lr_find()\n",
    "learn.recorder.plot()\n",
    "valid_dataset.is_fastai = False"
   ]
  },
  {
   "cell_type": "code",
   "execution_count": 36,
   "metadata": {},
   "outputs": [],
   "source": [
    "#lr=0.005"
   ]
  },
  {
   "cell_type": "markdown",
   "metadata": {},
   "source": [
    "## Optim and Net learning:\n",
    "\n",
    "For a **theoretical perspective** of optimization functions, see <cite>Goodfellow, Ian. Deep Learning. Cambridge, Massachusetts, The MIT Press, Publication Date</cite> chapter 8, paragraph 5.\n",
    "<br>\n",
    "For the **pytorch documentation** of these functions see [here.](https://pytorch.org/docs/stable/optim.html)<br>\n",
    "For a brief explication on each optimizer see [here](https://blog.paperspace.com/intro-to-optimization-momentum-rmsprop-adam/#:~:text=While%20momentum%20accelerates%20our%20search,of%20both%20Momentum%20and%20RMSProp.). **RMSProp vs Adam**, both have adaptive Learning Rates. \n",
    "![Optimization evolution figure](Images/optims.jpg)<br>\n",
    "<center><b>Thanks Paul for the Image!</b></center>"
   ]
  },
  {
   "cell_type": "code",
   "execution_count": 38,
   "metadata": {},
   "outputs": [],
   "source": [
    "\n",
    "## Uses by default RMSprop optimization\n",
    "# Maybe use adam Like Paul ??? Faire des tests (chapitre 8 paragraphe 5) + SGD\n",
    "\n",
    "# Added momentum:\n",
    "momentum = 0.9 if use_mixup else 0\n",
    "## Try Adam\n",
    "optimizer_CNN  = optim.RMSprop(CNN_net.parameters(), lr=lr,alpha=0.95, eps=1e-8, momentum=momentum) \n",
    "optimizer_DNN1 = optim.RMSprop(DNN1_net.parameters(), lr=lr,alpha=0.95, eps=1e-8, momentum=momentum) \n",
    "optimizer_DNN2 = optim.RMSprop(DNN2_net.parameters(), lr=lr,alpha=0.95, eps=1e-8, momentum=momentum) \n"
   ]
  },
  {
   "cell_type": "code",
   "execution_count": 39,
   "metadata": {},
   "outputs": [],
   "source": [
    "# Dummy class Created to regroup all optimizers into a single object:\n",
    "\n",
    "class Optimizers(object):\n",
    "\n",
    "    def __init__(self, optimizer_CNN, optimizer_DNN1, optimizer_DNN2):\n",
    "        self.optimizer_CNN  = optimizer_CNN\n",
    "        self.optimizer_DNN1 = optimizer_DNN1\n",
    "        self.optimizer_DNN2 = optimizer_DNN2\n",
    "    \n",
    "    def step(self):\n",
    "        self.optimizer_CNN.step()\n",
    "        self.optimizer_DNN1.step()\n",
    "        self.optimizer_DNN2.step()\n",
    "        \n",
    "    def zero_grad(self):\n",
    "        self.optimizer_CNN.zero_grad() \n",
    "        self.optimizer_DNN1.zero_grad()\n",
    "        self.optimizer_DNN2.zero_grad()"
   ]
  },
  {
   "cell_type": "code",
   "execution_count": 40,
   "metadata": {},
   "outputs": [],
   "source": [
    "optimizers = Optimizers(optimizer_CNN, optimizer_DNN1, optimizer_DNN2)\n"
   ]
  },
  {
   "cell_type": "markdown",
   "metadata": {},
   "source": [
    "### Defining schedulers for each optimizers:\n",
    "\n",
    "The documentation of the scheduler used can be accessed [here](https://pytorch.org/docs/stable/optim.html#torch.optim.lr_scheduler.ReduceLROnPlateau)."
   ]
  },
  {
   "cell_type": "code",
   "execution_count": 41,
   "metadata": {},
   "outputs": [],
   "source": [
    "\n",
    "## Initializing all schedulers for optims:\n",
    "scheduler_CNN  = optim.lr_scheduler.ReduceLROnPlateau(optimizer_CNN, mode='min', factor=scheduler_factor, patience=scheduler_patience, verbose=True, threshold=0.0001, threshold_mode='rel', cooldown=0, min_lr=0, eps=1e-08)\n",
    "scheduler_DNN1 = optim.lr_scheduler.ReduceLROnPlateau(optimizer_DNN1, mode='min', factor=scheduler_factor, patience=scheduler_patience, verbose=False, threshold=0.0001, threshold_mode='rel', cooldown=0, min_lr=0, eps=1e-08)\n",
    "scheduler_DNN2 = optim.lr_scheduler.ReduceLROnPlateau(optimizer_DNN2, mode='min', factor=scheduler_factor, patience=scheduler_patience, verbose=False, threshold=0.0001, threshold_mode='rel', cooldown=0, min_lr=0, eps=1e-08)\n",
    "\n",
    "#nbre of training batches per epoch:\n",
    "#nbre_batch_epoch = snt_tr / batch_size\n",
    "#step_in_epoch    = 8\n",
    "\n",
    "#base_lr = max_lr/4 for triangular\n",
    "#optim.lr_scheduler.CyclicLR(optimizer_CNN, base_lr=0.0001, max_lr=0.001, step_size_up=nbre_batch_epoch*step_in_epoch, step_size_down=None, mode='triangular2', gamma=1.0, scale_fn=None, scale_mode='cycle', cycle_momentum=True, base_momentum=0.8, max_momentum=0.9, last_epoch=-1)"
   ]
  },
  {
   "cell_type": "code",
   "execution_count": 42,
   "metadata": {},
   "outputs": [],
   "source": [
    "# Dummy class Created to regroup all schedulers into a single object:\n",
    "\n",
    "class Schedulers(object):\n",
    "    \n",
    "    def __init__(self, scheduler_CNN, scheduler_DNN1, scheduler_DNN2):\n",
    "        self.scheduler_CNN  = scheduler_CNN\n",
    "        self.scheduler_DNN1 = scheduler_DNN1\n",
    "        self.scheduler_DNN2 = scheduler_DNN2\n",
    "        \n",
    "    def step(self, metric):\n",
    "        self.scheduler_CNN.step(metric)\n",
    "        self.scheduler_DNN1.step(metric)\n",
    "        self.scheduler_DNN2.step(metric)"
   ]
  },
  {
   "cell_type": "code",
   "execution_count": 43,
   "metadata": {},
   "outputs": [],
   "source": [
    "schedulers = Schedulers(scheduler_CNN, scheduler_DNN1, scheduler_DNN2)"
   ]
  },
  {
   "cell_type": "markdown",
   "metadata": {},
   "source": [
    "### Monitoring the gradient:\n",
    "\n",
    "This code is taken from a pytorch discussion that you can find [here](https://discuss.pytorch.org/t/check-gradient-flow-in-network/15063). \n",
    "\n",
    "**Remarks:**\n",
    "\n",
    "   * We added `and (p.grad is not None)` to each function because some parameters are initialized and named but not learned or used. Therefore their grad is None and has no attribute abs()!\n",
    "   * It affects parameters like `bn.1.bias`who are initialized but not used in forward and disabled because the config file their are set as so in the config file. We chose to use layernorm instead."
   ]
  },
  {
   "cell_type": "markdown",
   "metadata": {},
   "source": [
    "#### Simple function, plots the values:"
   ]
  },
  {
   "cell_type": "code",
   "execution_count": 44,
   "metadata": {},
   "outputs": [],
   "source": [
    "def plot_grad_flow_simple(named_parameters):\n",
    "    ave_grads = []\n",
    "    layers = []\n",
    "    for n, p in named_parameters:\n",
    "        if(p.requires_grad) and (\"bias\" not in n) and (p.grad is not None):\n",
    "            layers.append(n)\n",
    "            ave_grads.append(p.grad.abs().mean())\n",
    "    plt.plot(ave_grads, alpha=0.3, color=\"b\")\n",
    "    plt.hlines(0, 0, len(ave_grads)+1, linewidth=1, color=\"k\" )\n",
    "    plt.xticks(range(0,len(ave_grads), 1), layers, rotation=\"vertical\")\n",
    "    plt.xlim(xmin=0, xmax=len(ave_grads))\n",
    "    plt.xlabel(\"Layers\")\n",
    "    plt.ylabel(\"average gradient\")\n",
    "    plt.title(\"Gradient flow\")\n",
    "    plt.grid(True)"
   ]
  },
  {
   "cell_type": "markdown",
   "metadata": {},
   "source": [
    "#### More complex functions in order to plot hist:"
   ]
  },
  {
   "cell_type": "code",
   "execution_count": 45,
   "metadata": {},
   "outputs": [],
   "source": [
    "from matplotlib.lines import Line2D\n",
    "\n",
    "## Gradient histogram rep, Calot's suggestion:\n",
    "def plot_grad_flow(named_parameters, plot_both = False):\n",
    "    '''Plots the gradients flowing through different layers in the net during training.\n",
    "    Can be used for checking for possible gradient vanishing / exploding problems.\n",
    "    \n",
    "    Usage: Plug this function in Trainer class after loss.backwards() as \n",
    "    \"plot_grad_flow(self.model.named_parameters())\" to visualize the gradient flow'''\n",
    "    ave_grads = []\n",
    "    max_grads= []\n",
    "    layers = []\n",
    "    for n, p in named_parameters:\n",
    "        if(p.requires_grad) and (\"bias\" not in n) and (p.grad is not None):\n",
    "            layers.append(n)\n",
    "            ave_grads.append(p.grad.abs().mean())\n",
    "            max_grads.append(p.grad.abs().max())\n",
    "    plt.bar(np.arange(len(max_grads)), max_grads, alpha=0.1, lw=1, color=\"c\")\n",
    "    plt.bar(np.arange(len(max_grads)), ave_grads, alpha=0.1, lw=1, color=\"b\")\n",
    "    plt.hlines(0, 0, len(ave_grads)+1, lw=2, color=\"k\" )\n",
    "    plt.xticks(range(0,len(ave_grads), 1), layers, rotation=\"vertical\")\n",
    "    plt.xlim(left=0, right=len(ave_grads))\n",
    "    plt.ylim(bottom = -0.001, top=0.02) # zoom in on the lower gradient regions\n",
    "    plt.xlabel(\"Layers\")\n",
    "    plt.ylabel(\"average gradient\")\n",
    "    plt.title(\"Gradient flow\")\n",
    "    \n",
    "    ## Plotting also lines like in plot_grad_flow_simple:\n",
    "    if(plot_both):\n",
    "        plt.plot(ave_grads, alpha=0.3, color=\"b\")\n",
    "        plt.hlines(0, 0, len(ave_grads)+1, linewidth=1, color=\"k\" )\n",
    "        plt.xticks(range(0,len(ave_grads), 1), layers, rotation=\"vertical\")\n",
    "        plt.xlim(xmin=0, xmax=len(ave_grads))\n",
    "    \n",
    "    plt.grid(True)\n",
    "    plt.legend([Line2D([0], [0], color=\"c\", lw=4),\n",
    "                Line2D([0], [0], color=\"b\", lw=4),\n",
    "                Line2D([0], [0], color=\"k\", lw=4)], ['max-gradient', 'mean-gradient', 'zero-gradient'])\n",
    "    \n",
    "    \n"
   ]
  },
  {
   "cell_type": "markdown",
   "metadata": {},
   "source": [
    "### Confusion Matrix API:"
   ]
  },
  {
   "cell_type": "code",
   "execution_count": 46,
   "metadata": {},
   "outputs": [],
   "source": [
    "import seaborn as sn\n",
    "import pandas as pd\n",
    "\n",
    "\n",
    "## Loaded the list of indexes I already created:\n",
    "dictOfLabels = np.load(\"data_lists/labelsToNumberDict.npy\").item()\n",
    "\n",
    "## List of labels\n",
    "index = [0 for i in range (0, len(dictOfLabels))]\n",
    "\n",
    "## Putting the label in the right order\n",
    "for label, i in  dictOfLabels.items():\n",
    "    index[i] = label\n",
    "\n",
    "    \n",
    "def confusion_matrix(mat, qty, pred=None, labels=None, index = index, write_results = False, name = \"Test\", cuda = True): \n",
    "    size = len(index)\n",
    "    \n",
    "    if(write_results):\n",
    "        \n",
    "        ## Dividing by total number:\n",
    "        for k in range(size):\n",
    "            if(qty[k]!= 0):\n",
    "                mat[k] *= 1/qty[k]\n",
    "                \n",
    "        ## Converting mat into data frame in order to use seaborn:\n",
    "        dataframe = pd.DataFrame(mat, index=index)\n",
    "        sn.set(font_scale=1)\n",
    "\n",
    "        # Creates the heatmap:\n",
    "        fig=plt.figure(figsize=(15, 12), dpi= 400, facecolor='w', edgecolor='k')\n",
    "        svm = sn.heatmap(dataframe, annot=False)\n",
    "\n",
    "        # Saves the figure than plots it:\n",
    "        figure = svm.get_figure()\n",
    "        figure.savefig('Images/Confusion_Matrices/Conf_Mat_' + name +'.png', dpi=400)\n",
    "        \n",
    "        del figure\n",
    "        #plt.show()\n",
    "        \n",
    "    else:\n",
    "    \n",
    "        if(pred is None or labels is None):\n",
    "            print(\"Error, inputs can't be None if not in write results mode.\")\n",
    "            return -1\n",
    "\n",
    "        if(mat is None):\n",
    "            #print(\"Initialize confusion matrix\")\n",
    "            mat = np.zeros([size,size])\n",
    "        \n",
    "        if(qty is None):\n",
    "            qty = [0]*size\n",
    "        \n",
    "        if cuda and (not pred.is_cuda or not labels.is_cuda):\n",
    "            pred   = pred.type(torch.cuda.FloatTensor)\n",
    "            labels = labels.type(torch.cuda.LongTensor)\n",
    "        \n",
    "        \n",
    "        for k in range(labels.size(0)): # ground truth first (row) and then prediction (col)\n",
    "         # print(\"Here : \" +str(labels[k].item()) + \" ; \" + str(predicted[k].item()))\n",
    "            mat[labels[k].item(),pred[k].item()] +=1\n",
    "            qty[labels[k].item()]                +=1\n",
    "            \n",
    "        \n",
    "            \n",
    "    return mat, qty"
   ]
  },
  {
   "cell_type": "markdown",
   "metadata": {},
   "source": [
    "### Mixup Augmentation:\n",
    "\n",
    "Credit to Lionel, see original file [here](https://gitlab.tech.orange/lionel.delphinpoulat/dcase2018_task5/-/blob/master/datagenerator.py).<br>\n",
    "Also, this repos helped, see [here](https://github.com/hysts/pytorch_mixup/blob/master/utils.py).<br>\n",
    "To convert into one_hot encoded we use `tensor.scatter_(dim, index, src)`. Its documentation is available [here](https://pytorch.org/docs/stable/tensors.html#torch.Tensor.scatter_).<br>\n",
    "\n",
    "    Brief description :\n",
    "> Writes all values from the tensor `src` into `self` at the indices specified in the `index` tensor. For each value in `src`, its output index is specified by its index in `src` for `dimension != dim` and by the corresponding value in `index` for `dimension = dim`."
   ]
  },
  {
   "cell_type": "code",
   "execution_count": 47,
   "metadata": {},
   "outputs": [],
   "source": [
    "def onehot(label, n_classes):\n",
    "    return torch.zeros(label.size(0), n_classes).scatter_(\n",
    "        1, label.view(-1, 1), 1)\n",
    "\n",
    "def mixup(data, targets, beta_coef, n_classes, sameClasses = False, debug = False):\n",
    "    if(data.size(0) != targets.size(0)):\n",
    "        print(\"The amount of data and labels are not the same !\")\n",
    "        return -1\n",
    "    \n",
    "    if(sameClasses):\n",
    "        indices_by_labels = {}\n",
    "        \n",
    "        for i, el in enumerate(targets):\n",
    "            ## Gets the value in the tensor:\n",
    "            el = el.item()\n",
    "            \n",
    "            if indices_by_labels.get(el) is None:\n",
    "                indices_by_labels[el] = [i]\n",
    "            else:\n",
    "                l = indices_by_labels[el]\n",
    "                l.append(i)\n",
    "                indices_by_labels[el] = l\n",
    "                        \n",
    "        indices = torch.zeros(targets.size(0), dtype = torch.long)\n",
    "        \n",
    "        for key in indices_by_labels.keys():\n",
    "            \n",
    "            initial_ids = np.array(indices_by_labels[key])\n",
    "            \n",
    "            perm        = np.random.permutation(initial_ids.size)\n",
    "            \n",
    "            new_ids     = initial_ids[perm]\n",
    "            \n",
    "            indices[torch.from_numpy(initial_ids)] = torch.from_numpy(new_ids)\n",
    "            \n",
    "        #print(targets == targets[indices])\n",
    "        \n",
    "    else:\n",
    "        # Creates a random permutation for the data:\n",
    "        indices = torch.randperm(data.size(0))\n",
    "\n",
    "        \n",
    "    # Creates mixed up data:\n",
    "    data_mix    = data[indices]\n",
    "    targets_mix = targets[indices]\n",
    "\n",
    "    # Converts labels into one_hot encoded labels:\n",
    "    targets     = onehot(targets, n_classes)    \n",
    "    targets_mix = onehot(targets_mix, n_classes)\n",
    "    \n",
    "    # draws the mixup coefficient\n",
    "    mixup_var = torch.FloatTensor(np.random.beta(beta_coef, beta_coef, data.size(0)))\n",
    "    \n",
    "    # Computes the percentage of data that are affected by the mixup:\n",
    "    mixup_percentage = np.array([i for i in range (data.size(0))]) != np.array([el.item() for el in indices])\n",
    "    \n",
    "    for i, el in enumerate(mixup_var):\n",
    "        mixup_percentage[i] = (mixup_percentage[i] and (el < 0.9999))\n",
    "\n",
    "    mixup_percentage = sum(mixup_percentage)/data.size(0)\n",
    "    \n",
    "    if debug:\n",
    "        print(\"mix_var shape %s\" % str(mixup_var.shape))\n",
    "        print(\"X shape %s\" % str(data.shape))\n",
    "        print(\"labels %s\" % str(targets))\n",
    "        print(\"mixup vars :\", mixup_var)\n",
    "        print(\"Indices :\", indices)\n",
    "        \n",
    "    # applies mixup to both input data and one-hot encoded labels\n",
    "    X = torch.rand(data.shape, dtype = torch.float)\n",
    "    \n",
    "    for i in range (data.size(0)):\n",
    "        X[i] = data[i] * mixup_var[i] + data_mix[i] * (1. - mixup_var[i])\n",
    "        \n",
    "    y = torch.rand((data.size(0), n_classes), dtype = torch.float)\n",
    "    \n",
    "    for i in range (targets.size(0)):    \n",
    "        y[i] = (targets[i] * mixup_var[i] + targets_mix[i] * (1. - mixup_var[i]))\n",
    "    \n",
    "    if debug:\n",
    "        print(\"mix label shape %s\" % str(y.shape))\n",
    "        print(\"%s\" % str(y[0]))\n",
    "    \n",
    "    return X, y, mixup_percentage\n"
   ]
  },
  {
   "cell_type": "markdown",
   "metadata": {},
   "source": [
    "#### Beta density plot:"
   ]
  },
  {
   "cell_type": "code",
   "execution_count": 48,
   "metadata": {},
   "outputs": [
    {
     "data": {
      "image/png": "[encoded data removed]",
      "text/plain": [
       "<Figure size 432x288 with 1 Axes>"
      ]
     },
     "metadata": {
      "needs_background": "light"
     },
     "output_type": "display_data"
    }
   ],
   "source": [
    "from scipy.stats import beta\n",
    "import matplotlib.pyplot as plt\n",
    "fig, ax = plt.subplots(1, 1)\n",
    "\n",
    "a, b = 0.4, 0.4\n",
    "mean, var, skew, kurt = beta.stats(a, b, moments='mvsk')\n",
    "\n",
    "x = np.linspace(beta.ppf(0.00001, a, b),\n",
    "                beta.ppf(0.99999, a, b), 100)\n",
    "\n",
    "ax.plot(x, beta.pdf(x, a, b),\n",
    "       'r-', lw=5, alpha=0.6, label='beta pdf')\n",
    "\n",
    "plt.legend()\n",
    "plt.show()"
   ]
  },
  {
   "cell_type": "markdown",
   "metadata": {},
   "source": [
    "#### Redefining cost function for one hot encoded labels:"
   ]
  },
  {
   "cell_type": "code",
   "execution_count": 49,
   "metadata": {},
   "outputs": [],
   "source": [
    "def NLLL_onehot(input, target, reduction= \"mean\"):\n",
    "\n",
    "    loss = -torch.sum(input[:,:target.size(1)] * target.float())\n",
    "    \n",
    "    if \"mean\" in reduction:\n",
    "        return loss / input.size(0)\n",
    "    else:\n",
    "        return loss\n",
    "\n",
    "\n",
    "class NLLL_OneHot(object):\n",
    "    def __init__(self, reduction= \"mean\"):\n",
    "        self.reduction = reduction\n",
    "\n",
    "    def __call__(self, input, target):\n",
    "        return NLLL_onehot(input, target, self.reduction)"
   ]
  },
  {
   "cell_type": "code",
   "execution_count": 50,
   "metadata": {},
   "outputs": [],
   "source": [
    "## Initializing new cost function:\n",
    "cost_onehot = NLLL_OneHot()"
   ]
  },
  {
   "cell_type": "markdown",
   "metadata": {},
   "source": [
    "### Early Stopping:\n",
    "\n",
    "For a **theoretical perspective**, please refer to <cite>Goodfellow, Ian. Deep Learning. Cambridge, Massachusetts, The MIT Press, Publication Date</cite> chapter 7, paragraph 8, page 240, algorithm $7.1$.<br>\n"
   ]
  },
  {
   "cell_type": "code",
   "execution_count": 51,
   "metadata": {},
   "outputs": [],
   "source": [
    "\"\"\"\n",
    "@Batch_dev is the number of test tensors that are stored at once\n",
    "\"\"\"\n",
    "def accuracy(net, test_loader, criterion, \n",
    "             ## SincNet Params\n",
    "             Batch_dev, wlen, wshift,\n",
    "             ## Confusion_Matrix param:\n",
    "             matrix_name, compute_matrix = False,\n",
    "             cuda=True):\n",
    "    \n",
    "    ## Modifs pour SincNet\n",
    "    net.eval()\n",
    "    \n",
    "\n",
    "    loss_sum=0\n",
    "    err_sum=0\n",
    "    err_sum_snt=0\n",
    "    ## End\n",
    "    \n",
    "    with torch.no_grad():\n",
    "        \n",
    "        # Initializes confusion matrix and quantity to None:\n",
    "        mat = None\n",
    "        qty = None\n",
    "        \n",
    "        ## Initialisation of storing units for testing:\n",
    "        stored_outs   = 0\n",
    "        stored_labels = 0\n",
    "        stored_idx    = 0\n",
    "            \n",
    "        \n",
    "        ## For SincNet, information in testloader is raw and can be of various lengths!\n",
    "        for data in test_loader:\n",
    "            ## Stores data from test_loader:\n",
    "            audios, labels, file_ids = data\n",
    "            \n",
    "            ## Switches to cuda:\n",
    "            if cuda:\n",
    "                audios = audios.type(torch.cuda.FloatTensor)\n",
    "                labels = labels.type(torch.cuda.LongTensor)\n",
    "            \n",
    "            \n",
    "            ## <!> Splits the data by file: time_complexity = O(batch_size) and space_complexity = O(Number_Of_Files)\n",
    "            section  = []\n",
    "            ids_list = []\n",
    "            current_idx = file_ids[0].item()\n",
    "            ids_list.append(current_idx)\n",
    "            for i, el in enumerate(file_ids):\n",
    "                current_el = el.item()\n",
    "                if current_el != current_idx:\n",
    "                    current_idx = current_el\n",
    "                    ids_list.append(current_idx)\n",
    "                    section.append(i - sum(section))\n",
    "\n",
    "            ## Last section is added:    \n",
    "            section.append(audios.size(0) - sum(section))\n",
    "            #print(section)\n",
    "            #print(ids_list)\n",
    "\n",
    "            ## Algorithm that splits the tensors by file:\n",
    "            X_split = torch.split(audios, section)\n",
    "            y_split = torch.split(labels, section)\n",
    "\n",
    "            assert(len(X_split) == len(y_split))\n",
    "            ## <!> EndSplit <!>\n",
    "\n",
    "            \n",
    "            ## Processes file by file the data:\n",
    "            for i in range(len(X_split)):# nbre_fichier_par_batch= len(X_split)\n",
    "                ## Stores the current id:\n",
    "                current_idx    = ids_list[i]\n",
    "                current_data   = X_split[i] if len(X_split) >= 1 else X_split\n",
    "                current_labels = y_split[i] if len(y_split) >= 1 else y_split\n",
    "\n",
    "                if type(stored_outs) is not torch.Tensor:\n",
    "                    stored_idx    = current_idx\n",
    "                    stored_outs   = net(current_data)\n",
    "                    stored_labels = current_labels\n",
    "\n",
    "                    ## Updates the number of signals\n",
    "                    #nbr_snt      += 1\n",
    "                else:\n",
    "\n",
    "                    if(stored_idx == current_idx):\n",
    "                        stored_outs   = torch.cat([stored_outs, net(current_data)], dim=0)\n",
    "                        stored_labels = torch.cat([stored_labels, current_labels], dim=0)\n",
    "\n",
    "                    else:\n",
    "\n",
    "                        #pout = stored_outs\n",
    "\n",
    "                        ## Predicts for every chunk of audio the label and counts how many time it got it correctly\n",
    "                        pred = torch.max(stored_outs,dim=1)[1]\n",
    "                        loss = criterion(stored_outs, stored_labels.long())\n",
    "                        err  = torch.mean((pred!=stored_labels.long()).float())\n",
    "\n",
    "                        ## Updates the confusion matrix:\n",
    "                        if(compute_matrix):\n",
    "                            mat, qty = confusion_matrix(mat, qty, pred=pred, labels=stored_labels, write_results = False, name = \"Pas Important\", cuda = True)\n",
    "\n",
    "                        ## Updates the error that I use here:\n",
    "                        loss_sum=loss_sum+loss.detach()\n",
    "                        err_sum=err_sum+err.detach()\n",
    "\n",
    "                        ## Sum the probability over the columns, then it stores the value and the position of the max. (Lionel's Method)\n",
    "                        [val,best_class]=torch.max(torch.sum(stored_outs,dim=0), 0)\n",
    "                        err_sum_snt=err_sum_snt+(best_class!=stored_labels[0]).float()\n",
    "\n",
    "                        ## Stores new data:\n",
    "                        stored_outs   = net(current_data)\n",
    "                        stored_labels = y_split[i] if len(y_split) >= 1 else y_split\n",
    "                        stored_idx    = current_idx\n",
    "        \n",
    "        ## Last File is not processed by the algorithm above...\n",
    "        if(stored_outs.size(0) != 0):\n",
    "            ## Predicts for every chunk of audio the label and counts how many time it got it correctly\n",
    "            pred = torch.max(stored_outs,dim=1)[1]\n",
    "            loss = criterion(stored_outs, stored_labels.long())\n",
    "            err  = torch.mean((pred!=stored_labels.long()).float())\n",
    "\n",
    "            ## Updates the confusion matrix:\n",
    "            if(compute_matrix):\n",
    "                mat, qty = confusion_matrix(mat, qty, pred=pred, labels=stored_labels, write_results = False, name = \"Pas Important\", cuda = True)\n",
    "\n",
    "            ## Updates the error that I use here:\n",
    "            loss_sum=loss_sum+loss.detach()\n",
    "            err_sum=err_sum+err.detach()\n",
    "\n",
    "            ## Sum the probability over the columns, then it stores the value and the position of the max. (Lionel's Method)\n",
    "            [val,best_class]=torch.max(torch.sum(stored_outs,dim=0), 0)\n",
    "            err_sum_snt=err_sum_snt+(best_class!=stored_labels[0]).float()\n",
    "        \n",
    "        ## mean Error of best class:\n",
    "        err_tot_dev_snt=err_sum_snt/snt_te\n",
    "        \n",
    "        ## mean Loss:\n",
    "        loss_tot_dev=loss_sum/snt_te\n",
    "        \n",
    "        ## mean Error on each window:\n",
    "        err_tot_dev=err_sum/snt_te\n",
    "\n",
    "        ## Plots and saves the confusion matrix:\n",
    "        if(compute_matrix):\n",
    "            mat = confusion_matrix(mat, qty, write_results = True, name = matrix_name, cuda = True)\n",
    "            \n",
    "            \n",
    "    net.train()\n",
    "\n",
    "    return (err_tot_dev_snt, loss_tot_dev, err_tot_dev)\n",
    "\n",
    "def train(net, optimizer, train_loader, valid_loader, criterion, criterion_onehot,\n",
    "          ## SincNet variables:\n",
    "          wlen,\n",
    "          wshift,\n",
    "          n_classes,\n",
    "          ## File variables:\n",
    "          output_folder,\n",
    "          fname,\n",
    "          Models_file_extension,\n",
    "          ## Hyper param:\n",
    "          n_epoch = 5,\n",
    "          patience = 4,\n",
    "          Batch_dev = 32,#Number of batches for testing set\n",
    "          train_acc_period = 100,\n",
    "          test_acc_period = 5,\n",
    "          ## For mixup:\n",
    "          beta_coef = 0.5,\n",
    "          use_mixup = False,\n",
    "          same_classes = False,\n",
    "          ## If a Net was loaded:\n",
    "          starting_epoch = 0,\n",
    "          ## If user wishes to plot grad:\n",
    "          plotGrad = False,\n",
    "          ## If user wishes to use a scheduler:\n",
    "          use_scheduler = False,\n",
    "          scheduler = None,\n",
    "          ## If user wishes to save and compute confusion matrix:\n",
    "          compute_matrix = False,\n",
    "          ## Indicates if the network that is trained is SincNet\n",
    "          is_SincNet = False,\n",
    "          ## Is Cuda activated?\n",
    "          cuda=True):\n",
    "    \n",
    "    net.train()\n",
    "\n",
    "    ## Initialization:\n",
    "    min_loss = float(\"inf\")\n",
    "    \n",
    "    ## best_epoch_number is a var that stores the number of epoch required for best performance:\n",
    "    best_epoch_number = 0\n",
    "    \n",
    "    ## p is a counter for how many accuracy checks we made without any improvement on validation loss:\n",
    "    p=0\n",
    "    \n",
    "    ## Declaring to the user that training has begun\n",
    "    print(\"Trainining begun with a patience of {} accuracy periods\".format(patience), end=\"\")\n",
    "    if(use_mixup):\n",
    "        string = \"\"\n",
    "        if(same_classes):\n",
    "            string = \"Same Class \"\n",
    "        print(\" and using {1}mixup with a Beta({0}, {0}) distribution.\".format(beta_coef, string))\n",
    "    else:\n",
    "        print(\".\")\n",
    "    if use_scheduler:\n",
    "        print(\"Training is optimized with a scheduler.\")\n",
    "    print(\"Total number of classes is equal to : {}\".format(n_classes))\n",
    "    \n",
    "    ## Continues training beyond n_epoch if algorithm did not converge:\n",
    "    while(p < patience):\n",
    "        \n",
    "        for epoch in tqdm.tqdm(range(starting_epoch + 1, n_epoch + starting_epoch + 1)):  # loop over the dataset multiple times\n",
    "\n",
    "            ## Stops the training if we exceeded its patience!\n",
    "            if(p >= patience):\n",
    "                break\n",
    "\n",
    "\n",
    "            running_loss = 0.0\n",
    "            running_acc = 0.0\n",
    "            running_mixup_percentage = 0.0\n",
    "\n",
    "            for i, data in enumerate(train_loader, 0):\n",
    "\n",
    "                # Getting Mixed up data if required by user:\n",
    "                if(use_mixup):\n",
    "                    inputs, labels, mixup_states     = data\n",
    "                    mixup_percentage                 = mixup_states.sum().item() / inputs.size(0)\n",
    "                    running_mixup_percentage         = 0.33*mixup_percentage + 0.66*running_mixup_percentage\n",
    "                else:\n",
    "                    # gets the regular inputs\n",
    "                    inputs, labels = data\n",
    "                    \n",
    "                    \n",
    "\n",
    "                if cuda:\n",
    "                    inputs = inputs.type(torch.cuda.FloatTensor)\n",
    "                    labels = labels.type(torch.cuda.LongTensor)\n",
    "\n",
    "                # print(inputs.shape)\n",
    "                # zero the parameter gradients\n",
    "                optimizer.zero_grad()\n",
    "\n",
    "                # forward + backward + optimize\n",
    "                outputs = net(inputs)\n",
    "\n",
    "                ## Loss evaluation:\n",
    "                    # We use custom made function if there is mixup envolved\n",
    "                    # Else, we use regular criterion from pytorch\n",
    "                if(use_mixup):\n",
    "                    loss = criterion_onehot(outputs, labels.long())\n",
    "                else:\n",
    "                    loss = criterion(outputs, labels.long())\n",
    "                    \n",
    "                    \n",
    "                loss.backward()\n",
    "\n",
    "                ## Plotting the grad for frequencies and second layer 1Dconv:\n",
    "                if(plotGrad):\n",
    "                    plot_grad_flow(net.named_parameters())   \n",
    "                    #plot_grad_flow_simple(net.named_parameters())\n",
    "\n",
    "                optimizer.step()\n",
    "                    \n",
    "                ## If we used mixup, we need to convert back labels to og format.\n",
    "                if(use_mixup):\n",
    "                    labels = torch.max(labels, dim = 1)[1]\n",
    "\n",
    "                running_loss = 0.33*loss.detach() + 0.66*running_loss\n",
    "                predicted = torch.max(outputs.data, dim = 1)[1]\n",
    "\n",
    "                ## @correct is the percentage of correct answers by the Net.\n",
    "                correct = (predicted == labels).sum().item()/labels.size(0)\n",
    "                running_acc = 0.33*correct + 0.66*running_acc\n",
    "\n",
    "                # prints statistics during epoch!\n",
    "                if i % train_acc_period == train_acc_period-1:\n",
    "                    print(\"Training set : \")\n",
    "                    print('[%d, %5d] running loss: %.3f' %(epoch, i + 1, running_loss))\n",
    "                    print('[%d, %5d] running acc: %.3f' %(epoch, i + 1, running_acc))\n",
    "                    \n",
    "                    if use_mixup:\n",
    "                        print('[%d, %5d] running mixup percentage: %.3f' %(epoch, i + 1, running_mixup_percentage))\n",
    "\n",
    "\n",
    "\n",
    "            ## Validation loop part:\n",
    "            if epoch % test_acc_period == 0:\n",
    "                best_class_error, cur_loss, window_error = accuracy(net, valid_loader, criterion, \n",
    "                                                                    Batch_dev, wlen, wshift,\n",
    "                                                                    matrix_name = fname, compute_matrix = compute_matrix,\n",
    "                                                                    cuda=cuda)\n",
    "                \n",
    "                \n",
    "                \n",
    "                ## If user wishes to use a scheduler:\n",
    "                if(use_scheduler):\n",
    "                    scheduler.step(cur_loss)\n",
    "\n",
    "\n",
    "                ## Writing the results in the specified file:\n",
    "                with open(output_folder+\"/\" + fname + \".res\", \"a\") as res_file:\n",
    "                    res_file.write(\"epoch %i, running_loss_tr=%f running_acc_tr=%f best_class_acc_te=%f loss_te=%f window_acc_te=%f \\n\" % \n",
    "                                                                                                 (epoch,\n",
    "                                                                                                 running_loss,\n",
    "                                                                                                 running_acc,\n",
    "                                                                                                 1-best_class_error,\n",
    "                                                                                                 cur_loss,\n",
    "                                                                                                 1-window_error))   \n",
    "\n",
    "                print(\"\\n\")\n",
    "                print(\"Validation set : \")\n",
    "                print('[%d] test loss: %.3f'       %(epoch, cur_loss))\n",
    "                print('[%d] window acc: %.3f'      %(epoch, 1-window_error))\n",
    "                print('[%d] best class acc: %.3f'  %(epoch, 1-best_class_error))\n",
    "\n",
    "\n",
    "                if(cur_loss < min_loss):\n",
    "                    ## Saves the new loss:\n",
    "                    min_loss = cur_loss\n",
    "\n",
    "                    ## Saves the parameters if they are better:\n",
    "                    # SincNet saving method:\n",
    "                    if is_SincNet:\n",
    "                        torch.save(net.CNN_net.state_dict(), output_folder + '/' + fname + \"_CNN\" + Models_file_extension)\n",
    "                        torch.save(net.DNN1_net.state_dict(), output_folder+ '/' + fname + \"_DNN1\" + Models_file_extension)\n",
    "                        torch.save(net.DNN2_net.state_dict(), output_folder+ '/' + fname + \"_DNN2\" + Models_file_extension)\n",
    "                    \n",
    "                    # Regular save:\n",
    "                    torch.save(net.state_dict(), output_folder+ '/' + fname + \"_Main_net\" + Models_file_extension)\n",
    "\n",
    "                    ## Resets the patience, we found a better net.\n",
    "                    p = 0\n",
    "\n",
    "                    ## Stores the best number of epoch:\n",
    "                    best_epoch_number = epoch\n",
    "\n",
    "                else:\n",
    "                    p +=1\n",
    "        \n",
    "        ## Inside While scope:\n",
    "        starting_epoch += n_epoch#Here we go again...\n",
    "\n",
    "\n",
    "      \n",
    "    print('Finished Training, the best number of epoch was {}.'.format(best_epoch_number))\n",
    "    \n",
    "    # If user wants to plot grad: \n",
    "    if(plotGrad):\n",
    "        ## Saves figure:\n",
    "        plt.savefig(\"Images/\" + fname + \"_GradFlow.png\", format = 'png')\n",
    "        \n",
    "        ## Then shows the figure:\n",
    "        plt.show()\n",
    "        \n"
   ]
  },
  {
   "cell_type": "markdown",
   "metadata": {},
   "source": [
    "#### Loading previously trained model if needed:"
   ]
  },
  {
   "cell_type": "code",
   "execution_count": 52,
   "metadata": {},
   "outputs": [],
   "source": [
    "def LoadPrevModel(model_file_path, Models_file_extension, Load, evalMode = False, inSameFile = True, at_epoch = N_epochs):\n",
    "    if(Load == False):\n",
    "        return 0\n",
    "    \n",
    "    \n",
    "    ## Setting the parameters of the previously defined networks \n",
    "    global Main_net, CNN_net, DNN1_net, DNN2_net\n",
    "    \n",
    "    \n",
    "    if(inSameFile):\n",
    "        ## Loading the pretrained setup file\n",
    "        pretrainedSetup = torch.load(model_file_path + Models_file_extension)\n",
    "        #print(pretrainedSetup['CNN_model_par'])\n",
    "        \n",
    "        ## Loading net parameters one by one:\n",
    "        CNN_net.load_state_dict(pretrainedSetup['CNN_model_par'])\n",
    "        if(evalMode):CNN_net.eval()\n",
    "\n",
    "        DNN1_net.load_state_dict(pretrainedSetup['DNN1_model_par'])\n",
    "        if(evalMode):DNN1_net.eval()\n",
    "\n",
    "        DNN2_net.load_state_dict(pretrainedSetup['DNN2_model_par'])\n",
    "        if(evalMode):DNN2_net.eval()\n",
    "                    \n",
    "    else:\n",
    "        ## Loading all the pretrained setup file\n",
    "        \n",
    "        pretrainedSetup_CNN  = torch.load(model_file_path + \"_CNN\" + Models_file_extension)\n",
    "        pretrainedSetup_DNN1 = torch.load(model_file_path + \"_DNN1\" + Models_file_extension)\n",
    "        pretrainedSetup_DNN2 = torch.load(model_file_path + \"_DNN2\" + Models_file_extension)\n",
    "        \n",
    "        ## Loading net parameters one by one:\n",
    "        CNN_net.load_state_dict(pretrainedSetup_CNN)\n",
    "        if(evalMode):CNN_net.eval()\n",
    "\n",
    "        DNN1_net.load_state_dict(pretrainedSetup_DNN1)\n",
    "        if(evalMode):DNN1_net.eval()\n",
    "\n",
    "        DNN2_net.load_state_dict(pretrainedSetup_DNN2)\n",
    "        if(evalMode):DNN2_net.eval()\n",
    "    \n",
    "    \n",
    "    \n",
    "    ## Putting all the nets into Main_net:\n",
    "    Main_net = Main_net = MainNet(CNN_net, DNN1_net, DNN2_net)\n",
    "    if(evalMode):Main_net.eval()\n",
    "\n",
    "    \n",
    "    #print(CNN_net.state_dict()['conv.0.low_hz_'][0])\n",
    "    \n",
    "    print(\"Models from \" + model_file_path + \" were loaded successfully!\")\n",
    "    \n",
    "    return at_epoch + 1"
   ]
  },
  {
   "cell_type": "code",
   "execution_count": 53,
   "metadata": {},
   "outputs": [],
   "source": [
    "## Parameters that needs to change each execution:\n",
    "Training_model_file   = output_folder.split(\"/\")[-2] if output_folder.split(\"/\")[-1]==\"\" else output_folder.split(\"/\")[-1]\n",
    "Training_model_file  += \"_Notebook\"\n",
    "Models_file_extension = \".pkl\" if pt_file == 'none' else pt_file.split(\".\")[1]\n",
    "previous_model_path   = output_folder+ '/' + Training_model_file if pt_file == 'none' else pt_file.split(\".\")[0]\n",
    "Load_previous_model   = False if pt_file == 'none' else True\n",
    "at_epoch              = 0\n",
    "inTheSameFile         = False\n",
    "plotGrad              = False\n",
    "n_classes             = class_lay[-1]#41 for SincNet\n",
    "same_classes          = same_classes\n",
    "compute_matrix        = False\n",
    "is_SincNet            = True\n",
    "#use_scheduler         = True\n",
    "\n",
    "\n",
    "## are in cfg:\n",
    "#beta_coef=0.4\n",
    "#use_mixup\n",
    "#N_eval_epoch = 1\n",
    "#same_classes = True\n",
    "\n",
    "\n",
    "## Loading previously trained model if needed:\n",
    "previous_epoch = LoadPrevModel(previous_model_path, \n",
    "                               Models_file_extension, \n",
    "                               Load= Load_previous_model, \n",
    "                               inSameFile = inTheSameFile,\n",
    "                               at_epoch = at_epoch,\n",
    "                               evalMode = True)\n",
    "\n",
    "\n",
    "## Training parameters available in the SincNet_TIMIT.cfg file section [optimization]:\n",
    "# batch_size\n",
    "# N_epochs     = 1500\n",
    "# N_batches    = 800\n",
    "# N_eval_epoch = 8\n",
    "\n",
    "## Overwriting N_epochs just bcz flemme:\n",
    "#N_epochs = 58\n",
    "\n"
   ]
  },
  {
   "cell_type": "markdown",
   "metadata": {},
   "source": [
    "#### Training occurs below:"
   ]
  },
  {
   "cell_type": "code",
   "execution_count": null,
   "metadata": {
    "scrolled": true
   },
   "outputs": [
    {
     "name": "stderr",
     "output_type": "stream",
     "text": [
      "  0%|          | 0/100 [00:00<?, ?it/s]"
     ]
    },
    {
     "name": "stdout",
     "output_type": "stream",
     "text": [
      "Trainining begun with a patience of 7 accuracy periods.\n",
      "Training is optimized with a scheduler.\n",
      "Total number of classes is equal to : 41\n",
      "Training set : \n",
      "[1,   100] running loss: 2.701\n",
      "[1,   100] running acc: 0.216\n",
      "Training set : \n",
      "[1,   200] running loss: 2.521\n",
      "[1,   200] running acc: 0.262\n"
     ]
    },
    {
     "name": "stderr",
     "output_type": "stream",
     "text": [
      "  1%|          | 1/100 [00:22<36:43, 22.26s/it]"
     ]
    },
    {
     "name": "stdout",
     "output_type": "stream",
     "text": [
      "Training set : \n",
      "[2,   100] running loss: 2.207\n",
      "[2,   100] running acc: 0.378\n",
      "Training set : \n",
      "[2,   200] running loss: 2.159\n",
      "[2,   200] running acc: 0.364\n"
     ]
    },
    {
     "name": "stderr",
     "output_type": "stream",
     "text": [
      "  2%|▏         | 2/100 [00:44<36:21, 22.26s/it]"
     ]
    },
    {
     "name": "stdout",
     "output_type": "stream",
     "text": [
      "Training set : \n",
      "[3,   100] running loss: 2.169\n",
      "[3,   100] running acc: 0.393\n",
      "Training set : \n",
      "[3,   200] running loss: 2.088\n",
      "[3,   200] running acc: 0.384\n"
     ]
    },
    {
     "name": "stderr",
     "output_type": "stream",
     "text": [
      "  3%|▎         | 3/100 [01:06<36:02, 22.29s/it]"
     ]
    },
    {
     "name": "stdout",
     "output_type": "stream",
     "text": [
      "Training set : \n",
      "[4,   100] running loss: 2.150\n",
      "[4,   100] running acc: 0.329\n",
      "Training set : \n",
      "[4,   200] running loss: 1.737\n",
      "[4,   200] running acc: 0.523\n"
     ]
    },
    {
     "name": "stderr",
     "output_type": "stream",
     "text": [
      "  4%|▍         | 4/100 [01:29<35:38, 22.28s/it]"
     ]
    },
    {
     "name": "stdout",
     "output_type": "stream",
     "text": [
      "Training set : \n",
      "[5,   100] running loss: 2.018\n",
      "[5,   100] running acc: 0.419\n",
      "Training set : \n",
      "[5,   200] running loss: 1.874\n",
      "[5,   200] running acc: 0.477\n"
     ]
    },
    {
     "name": "stderr",
     "output_type": "stream",
     "text": [
      "  5%|▌         | 5/100 [02:53<1:04:36, 40.81s/it]"
     ]
    },
    {
     "name": "stdout",
     "output_type": "stream",
     "text": [
      "\n",
      "\n",
      "Validation set : \n",
      "[5] test loss: 1.923\n",
      "[5] window acc: 0.466\n",
      "[5] best class acc: 0.519\n",
      "Training set : \n",
      "[6,   100] running loss: 1.845\n",
      "[6,   100] running acc: 0.462\n",
      "Training set : \n",
      "[6,   200] running loss: 1.708\n",
      "[6,   200] running acc: 0.498\n"
     ]
    },
    {
     "name": "stderr",
     "output_type": "stream",
     "text": [
      "  6%|▌         | 6/100 [03:15<55:20, 35.32s/it]  "
     ]
    },
    {
     "name": "stdout",
     "output_type": "stream",
     "text": [
      "Training set : \n",
      "[7,   100] running loss: 1.852\n",
      "[7,   100] running acc: 0.451\n",
      "Training set : \n",
      "[7,   200] running loss: 1.760\n",
      "[7,   200] running acc: 0.501\n"
     ]
    },
    {
     "name": "stderr",
     "output_type": "stream",
     "text": [
      "  7%|▋         | 7/100 [03:38<48:50, 31.51s/it]"
     ]
    },
    {
     "name": "stdout",
     "output_type": "stream",
     "text": [
      "Training set : \n",
      "[8,   100] running loss: 1.579\n",
      "[8,   100] running acc: 0.542\n",
      "Training set : \n",
      "[8,   200] running loss: 1.831\n",
      "[8,   200] running acc: 0.438\n"
     ]
    },
    {
     "name": "stderr",
     "output_type": "stream",
     "text": [
      "  8%|▊         | 8/100 [04:00<44:12, 28.84s/it]"
     ]
    },
    {
     "name": "stdout",
     "output_type": "stream",
     "text": [
      "Training set : \n",
      "[9,   100] running loss: 1.704\n",
      "[9,   100] running acc: 0.486\n",
      "Training set : \n",
      "[9,   200] running loss: 1.604\n",
      "[9,   200] running acc: 0.557\n"
     ]
    },
    {
     "name": "stderr",
     "output_type": "stream",
     "text": [
      "  9%|▉         | 9/100 [04:23<40:48, 26.90s/it]"
     ]
    },
    {
     "name": "stdout",
     "output_type": "stream",
     "text": [
      "Training set : \n",
      "[10,   100] running loss: 1.607\n",
      "[10,   100] running acc: 0.546\n",
      "Training set : \n",
      "[10,   200] running loss: 1.649\n",
      "[10,   200] running acc: 0.507\n",
      "\n",
      "\n",
      "Validation set : \n",
      "[10] test loss: 1.707\n",
      "[10] window acc: 0.524\n",
      "[10] best class acc: 0.588\n"
     ]
    },
    {
     "name": "stderr",
     "output_type": "stream",
     "text": [
      " 10%|█         | 10/100 [05:49<1:07:02, 44.70s/it]"
     ]
    },
    {
     "name": "stdout",
     "output_type": "stream",
     "text": [
      "Training set : \n",
      "[11,   100] running loss: 1.573\n",
      "[11,   100] running acc: 0.513\n",
      "Training set : \n",
      "[11,   200] running loss: 1.842\n",
      "[11,   200] running acc: 0.426\n"
     ]
    },
    {
     "name": "stderr",
     "output_type": "stream",
     "text": [
      " 11%|█         | 11/100 [06:12<56:33, 38.13s/it]  "
     ]
    },
    {
     "name": "stdout",
     "output_type": "stream",
     "text": [
      "Training set : \n",
      "[12,   100] running loss: 1.469\n",
      "[12,   100] running acc: 0.590\n",
      "Training set : \n",
      "[12,   200] running loss: 1.495\n",
      "[12,   200] running acc: 0.579\n"
     ]
    },
    {
     "name": "stderr",
     "output_type": "stream",
     "text": [
      " 12%|█▏        | 12/100 [06:35<49:13, 33.56s/it]"
     ]
    },
    {
     "name": "stdout",
     "output_type": "stream",
     "text": [
      "Training set : \n",
      "[13,   100] running loss: 1.814\n",
      "[13,   100] running acc: 0.475\n",
      "Training set : \n",
      "[13,   200] running loss: 1.766\n",
      "[13,   200] running acc: 0.482\n"
     ]
    },
    {
     "name": "stderr",
     "output_type": "stream",
     "text": [
      " 13%|█▎        | 13/100 [06:58<44:01, 30.36s/it]"
     ]
    },
    {
     "name": "stdout",
     "output_type": "stream",
     "text": [
      "Training set : \n",
      "[14,   100] running loss: 1.508\n",
      "[14,   100] running acc: 0.550\n",
      "Training set : \n",
      "[14,   200] running loss: 1.724\n",
      "[14,   200] running acc: 0.480\n"
     ]
    },
    {
     "name": "stderr",
     "output_type": "stream",
     "text": [
      " 14%|█▍        | 14/100 [07:21<40:18, 28.12s/it]"
     ]
    },
    {
     "name": "stdout",
     "output_type": "stream",
     "text": [
      "Training set : \n",
      "[15,   100] running loss: 1.487\n",
      "[15,   100] running acc: 0.564\n",
      "Training set : \n",
      "[15,   200] running loss: 1.406\n",
      "[15,   200] running acc: 0.626\n",
      "\n",
      "\n",
      "Validation set : \n",
      "[15] test loss: 1.675\n",
      "[15] window acc: 0.546\n",
      "[15] best class acc: 0.608\n"
     ]
    },
    {
     "name": "stderr",
     "output_type": "stream",
     "text": [
      " 15%|█▌        | 15/100 [08:47<1:04:32, 45.56s/it]"
     ]
    },
    {
     "name": "stdout",
     "output_type": "stream",
     "text": [
      "Training set : \n",
      "[16,   100] running loss: 1.648\n",
      "[16,   100] running acc: 0.472\n",
      "Training set : \n",
      "[16,   200] running loss: 1.696\n",
      "[16,   200] running acc: 0.501\n"
     ]
    },
    {
     "name": "stderr",
     "output_type": "stream",
     "text": [
      " 16%|█▌        | 16/100 [09:10<54:17, 38.78s/it]  "
     ]
    },
    {
     "name": "stdout",
     "output_type": "stream",
     "text": [
      "Training set : \n",
      "[17,   100] running loss: 1.477\n",
      "[17,   100] running acc: 0.563\n",
      "Training set : \n",
      "[17,   200] running loss: 1.648\n",
      "[17,   200] running acc: 0.450\n"
     ]
    },
    {
     "name": "stderr",
     "output_type": "stream",
     "text": [
      " 17%|█▋        | 17/100 [09:33<47:01, 34.00s/it]"
     ]
    },
    {
     "name": "stdout",
     "output_type": "stream",
     "text": [
      "Training set : \n",
      "[18,   100] running loss: 1.488\n",
      "[18,   100] running acc: 0.553\n",
      "Training set : \n",
      "[18,   200] running loss: 1.352\n",
      "[18,   200] running acc: 0.534\n"
     ]
    },
    {
     "name": "stderr",
     "output_type": "stream",
     "text": [
      " 18%|█▊        | 18/100 [09:55<41:55, 30.67s/it]"
     ]
    },
    {
     "name": "stdout",
     "output_type": "stream",
     "text": [
      "Training set : \n",
      "[19,   100] running loss: 1.574\n",
      "[19,   100] running acc: 0.555\n",
      "Training set : \n",
      "[19,   200] running loss: 1.546\n",
      "[19,   200] running acc: 0.524\n"
     ]
    },
    {
     "name": "stderr",
     "output_type": "stream",
     "text": [
      " 19%|█▉        | 19/100 [10:18<38:16, 28.35s/it]"
     ]
    },
    {
     "name": "stdout",
     "output_type": "stream",
     "text": [
      "Training set : \n",
      "[20,   100] running loss: 1.478\n",
      "[20,   100] running acc: 0.527\n",
      "Training set : \n",
      "[20,   200] running loss: 1.823\n",
      "[20,   200] running acc: 0.472\n",
      "\n",
      "\n",
      "Validation set : \n",
      "[20] test loss: 1.647\n",
      "[20] window acc: 0.549\n",
      "[20] best class acc: 0.613\n"
     ]
    },
    {
     "name": "stderr",
     "output_type": "stream",
     "text": [
      " 20%|██        | 20/100 [11:44<1:00:52, 45.66s/it]"
     ]
    },
    {
     "name": "stdout",
     "output_type": "stream",
     "text": [
      "Training set : \n",
      "[21,   100] running loss: 1.642\n",
      "[21,   100] running acc: 0.555\n",
      "Training set : \n",
      "[21,   200] running loss: 1.681\n",
      "[21,   200] running acc: 0.506\n"
     ]
    },
    {
     "name": "stderr",
     "output_type": "stream",
     "text": [
      " 21%|██        | 21/100 [12:05<50:17, 38.20s/it]  "
     ]
    },
    {
     "name": "stdout",
     "output_type": "stream",
     "text": [
      "Training set : \n",
      "[22,   100] running loss: 1.644\n",
      "[22,   100] running acc: 0.497\n",
      "Training set : \n",
      "[22,   200] running loss: 1.484\n",
      "[22,   200] running acc: 0.555\n"
     ]
    },
    {
     "name": "stderr",
     "output_type": "stream",
     "text": [
      " 22%|██▏       | 22/100 [12:27<43:05, 33.15s/it]"
     ]
    },
    {
     "name": "stdout",
     "output_type": "stream",
     "text": [
      "Training set : \n",
      "[23,   100] running loss: 1.081\n",
      "[23,   100] running acc: 0.662\n",
      "Training set : \n",
      "[23,   200] running loss: 1.199\n",
      "[23,   200] running acc: 0.666\n"
     ]
    },
    {
     "name": "stderr",
     "output_type": "stream",
     "text": [
      " 23%|██▎       | 23/100 [12:49<38:21, 29.89s/it]"
     ]
    },
    {
     "name": "stdout",
     "output_type": "stream",
     "text": [
      "Training set : \n",
      "[24,   100] running loss: 1.397\n",
      "[24,   100] running acc: 0.555\n",
      "Training set : \n",
      "[24,   200] running loss: 1.259\n",
      "[24,   200] running acc: 0.619\n"
     ]
    },
    {
     "name": "stderr",
     "output_type": "stream",
     "text": [
      " 24%|██▍       | 24/100 [13:11<34:59, 27.63s/it]"
     ]
    },
    {
     "name": "stdout",
     "output_type": "stream",
     "text": [
      "Training set : \n",
      "[25,   100] running loss: 1.239\n",
      "[25,   100] running acc: 0.615\n",
      "Training set : \n",
      "[25,   200] running loss: 1.247\n",
      "[25,   200] running acc: 0.613\n"
     ]
    },
    {
     "name": "stderr",
     "output_type": "stream",
     "text": [
      " 25%|██▌       | 25/100 [14:37<56:22, 45.10s/it]"
     ]
    },
    {
     "name": "stdout",
     "output_type": "stream",
     "text": [
      "\n",
      "\n",
      "Validation set : \n",
      "[25] test loss: 1.674\n",
      "[25] window acc: 0.565\n",
      "[25] best class acc: 0.630\n",
      "Training set : \n",
      "[26,   100] running loss: 1.519\n",
      "[26,   100] running acc: 0.542\n",
      "Training set : \n",
      "[26,   200] running loss: 1.334\n",
      "[26,   200] running acc: 0.565\n"
     ]
    },
    {
     "name": "stderr",
     "output_type": "stream",
     "text": [
      " 26%|██▌       | 26/100 [14:59<47:09, 38.24s/it]"
     ]
    },
    {
     "name": "stdout",
     "output_type": "stream",
     "text": [
      "Training set : \n",
      "[27,   100] running loss: 1.358\n",
      "[27,   100] running acc: 0.560\n",
      "Training set : \n",
      "[27,   200] running loss: 1.203\n",
      "[27,   200] running acc: 0.598\n"
     ]
    },
    {
     "name": "stderr",
     "output_type": "stream",
     "text": [
      " 27%|██▋       | 27/100 [15:22<40:46, 33.51s/it]"
     ]
    },
    {
     "name": "stdout",
     "output_type": "stream",
     "text": [
      "Training set : \n",
      "[28,   100] running loss: 1.166\n",
      "[28,   100] running acc: 0.675\n",
      "Training set : \n",
      "[28,   200] running loss: 1.310\n",
      "[28,   200] running acc: 0.619\n"
     ]
    },
    {
     "name": "stderr",
     "output_type": "stream",
     "text": [
      " 28%|██▊       | 28/100 [15:44<36:13, 30.19s/it]"
     ]
    },
    {
     "name": "stdout",
     "output_type": "stream",
     "text": [
      "Training set : \n",
      "[29,   100] running loss: 1.469\n",
      "[29,   100] running acc: 0.559\n",
      "Training set : \n",
      "[29,   200] running loss: 1.246\n",
      "[29,   200] running acc: 0.656\n"
     ]
    },
    {
     "name": "stderr",
     "output_type": "stream",
     "text": [
      " 29%|██▉       | 29/100 [16:07<32:58, 27.86s/it]"
     ]
    },
    {
     "name": "stdout",
     "output_type": "stream",
     "text": [
      "Training set : \n",
      "[30,   100] running loss: 1.244\n",
      "[30,   100] running acc: 0.596\n",
      "Training set : \n",
      "[30,   200] running loss: 1.572\n",
      "[30,   200] running acc: 0.548\n",
      "\n",
      "\n",
      "Validation set : \n",
      "[30] test loss: 1.547\n",
      "[30] window acc: 0.586\n",
      "[30] best class acc: 0.646\n"
     ]
    },
    {
     "name": "stderr",
     "output_type": "stream",
     "text": [
      " 30%|███       | 30/100 [17:33<52:50, 45.29s/it]"
     ]
    },
    {
     "name": "stdout",
     "output_type": "stream",
     "text": [
      "Training set : \n",
      "[31,   100] running loss: 1.073\n",
      "[31,   100] running acc: 0.647\n",
      "Training set : \n",
      "[31,   200] running loss: 1.371\n",
      "[31,   200] running acc: 0.618\n"
     ]
    },
    {
     "name": "stderr",
     "output_type": "stream",
     "text": [
      " 31%|███       | 31/100 [17:55<44:14, 38.47s/it]"
     ]
    },
    {
     "name": "stdout",
     "output_type": "stream",
     "text": [
      "Training set : \n",
      "[32,   100] running loss: 1.113\n",
      "[32,   100] running acc: 0.707\n",
      "Training set : \n",
      "[32,   200] running loss: 1.296\n",
      "[32,   200] running acc: 0.599\n"
     ]
    },
    {
     "name": "stderr",
     "output_type": "stream",
     "text": [
      " 32%|███▏      | 32/100 [18:18<38:11, 33.70s/it]"
     ]
    },
    {
     "name": "stdout",
     "output_type": "stream",
     "text": [
      "Training set : \n",
      "[33,   100] running loss: 1.258\n",
      "[33,   100] running acc: 0.614\n",
      "Training set : \n",
      "[33,   200] running loss: 1.272\n",
      "[33,   200] running acc: 0.615\n"
     ]
    },
    {
     "name": "stderr",
     "output_type": "stream",
     "text": [
      " 33%|███▎      | 33/100 [18:40<33:53, 30.35s/it]"
     ]
    },
    {
     "name": "stdout",
     "output_type": "stream",
     "text": [
      "Training set : \n",
      "[34,   100] running loss: 1.175\n",
      "[34,   100] running acc: 0.613\n",
      "Training set : \n",
      "[34,   200] running loss: 1.508\n",
      "[34,   200] running acc: 0.575\n"
     ]
    },
    {
     "name": "stderr",
     "output_type": "stream",
     "text": [
      " 34%|███▍      | 34/100 [19:03<30:44, 27.94s/it]"
     ]
    },
    {
     "name": "stdout",
     "output_type": "stream",
     "text": [
      "Training set : \n",
      "[35,   100] running loss: 1.299\n",
      "[35,   100] running acc: 0.616\n",
      "Training set : \n",
      "[35,   200] running loss: 1.346\n",
      "[35,   200] running acc: 0.605\n",
      "\n",
      "\n",
      "Validation set : \n",
      "[35] test loss: 1.459\n",
      "[35] window acc: 0.606\n",
      "[35] best class acc: 0.670\n"
     ]
    },
    {
     "name": "stderr",
     "output_type": "stream",
     "text": [
      " 35%|███▌      | 35/100 [20:29<49:10, 45.39s/it]"
     ]
    },
    {
     "name": "stdout",
     "output_type": "stream",
     "text": [
      "Training set : \n",
      "[36,   100] running loss: 1.240\n",
      "[36,   100] running acc: 0.639\n",
      "Training set : \n",
      "[36,   200] running loss: 1.248\n",
      "[36,   200] running acc: 0.641\n"
     ]
    },
    {
     "name": "stderr",
     "output_type": "stream",
     "text": [
      " 36%|███▌      | 36/100 [20:51<41:06, 38.54s/it]"
     ]
    },
    {
     "name": "stdout",
     "output_type": "stream",
     "text": [
      "Training set : \n",
      "[37,   100] running loss: 1.191\n",
      "[37,   100] running acc: 0.623\n",
      "Training set : \n",
      "[37,   200] running loss: 1.292\n",
      "[37,   200] running acc: 0.606\n"
     ]
    },
    {
     "name": "stderr",
     "output_type": "stream",
     "text": [
      " 37%|███▋      | 37/100 [21:14<35:26, 33.76s/it]"
     ]
    },
    {
     "name": "stdout",
     "output_type": "stream",
     "text": [
      "Training set : \n",
      "[38,   100] running loss: 1.625\n",
      "[38,   100] running acc: 0.561\n",
      "Training set : \n",
      "[38,   200] running loss: 1.282\n",
      "[38,   200] running acc: 0.620\n"
     ]
    },
    {
     "name": "stderr",
     "output_type": "stream",
     "text": [
      " 38%|███▊      | 38/100 [21:36<31:22, 30.37s/it]"
     ]
    },
    {
     "name": "stdout",
     "output_type": "stream",
     "text": [
      "Training set : \n",
      "[39,   100] running loss: 1.179\n",
      "[39,   100] running acc: 0.660\n",
      "Training set : \n",
      "[39,   200] running loss: 1.203\n",
      "[39,   200] running acc: 0.607\n"
     ]
    },
    {
     "name": "stderr",
     "output_type": "stream",
     "text": [
      " 39%|███▉      | 39/100 [21:59<28:27, 27.99s/it]"
     ]
    },
    {
     "name": "stdout",
     "output_type": "stream",
     "text": [
      "Training set : \n",
      "[40,   100] running loss: 1.292\n",
      "[40,   100] running acc: 0.626\n",
      "Training set : \n",
      "[40,   200] running loss: 1.153\n",
      "[40,   200] running acc: 0.694\n"
     ]
    },
    {
     "name": "stderr",
     "output_type": "stream",
     "text": [
      " 40%|████      | 40/100 [23:25<45:22, 45.38s/it]"
     ]
    },
    {
     "name": "stdout",
     "output_type": "stream",
     "text": [
      "\n",
      "\n",
      "Validation set : \n",
      "[40] test loss: 1.512\n",
      "[40] window acc: 0.613\n",
      "[40] best class acc: 0.681\n",
      "Training set : \n",
      "[41,   100] running loss: 1.276\n",
      "[41,   100] running acc: 0.632\n",
      "Training set : \n",
      "[41,   200] running loss: 1.279\n",
      "[41,   200] running acc: 0.625\n"
     ]
    },
    {
     "name": "stderr",
     "output_type": "stream",
     "text": [
      " 41%|████      | 41/100 [23:47<37:54, 38.55s/it]"
     ]
    },
    {
     "name": "stdout",
     "output_type": "stream",
     "text": [
      "Training set : \n",
      "[42,   100] running loss: 1.148\n",
      "[42,   100] running acc: 0.673\n",
      "Training set : \n",
      "[42,   200] running loss: 1.460\n",
      "[42,   200] running acc: 0.586\n"
     ]
    },
    {
     "name": "stderr",
     "output_type": "stream",
     "text": [
      " 42%|████▏     | 42/100 [24:10<32:37, 33.74s/it]"
     ]
    },
    {
     "name": "stdout",
     "output_type": "stream",
     "text": [
      "Training set : \n",
      "[43,   100] running loss: 1.204\n",
      "[43,   100] running acc: 0.622\n",
      "Training set : \n",
      "[43,   200] running loss: 1.256\n",
      "[43,   200] running acc: 0.624\n"
     ]
    },
    {
     "name": "stderr",
     "output_type": "stream",
     "text": [
      " 43%|████▎     | 43/100 [24:32<28:50, 30.37s/it]"
     ]
    },
    {
     "name": "stdout",
     "output_type": "stream",
     "text": [
      "Training set : \n",
      "[44,   100] running loss: 1.260\n",
      "[44,   100] running acc: 0.648\n",
      "Training set : \n",
      "[44,   200] running loss: 1.204\n",
      "[44,   200] running acc: 0.681\n"
     ]
    },
    {
     "name": "stderr",
     "output_type": "stream",
     "text": [
      " 44%|████▍     | 44/100 [24:55<26:09, 28.02s/it]"
     ]
    },
    {
     "name": "stdout",
     "output_type": "stream",
     "text": [
      "Training set : \n",
      "[45,   100] running loss: 1.128\n",
      "[45,   100] running acc: 0.670\n",
      "Training set : \n",
      "[45,   200] running loss: 1.310\n",
      "[45,   200] running acc: 0.662\n"
     ]
    },
    {
     "name": "stderr",
     "output_type": "stream",
     "text": [
      " 45%|████▌     | 45/100 [26:21<41:33, 45.33s/it]"
     ]
    },
    {
     "name": "stdout",
     "output_type": "stream",
     "text": [
      "\n",
      "\n",
      "Validation set : \n",
      "[45] test loss: 1.525\n",
      "[45] window acc: 0.596\n",
      "[45] best class acc: 0.665\n",
      "Training set : \n",
      "[46,   100] running loss: 1.129\n",
      "[46,   100] running acc: 0.658\n",
      "Training set : \n",
      "[46,   200] running loss: 1.096\n",
      "[46,   200] running acc: 0.664\n"
     ]
    },
    {
     "name": "stderr",
     "output_type": "stream",
     "text": [
      " 46%|████▌     | 46/100 [26:43<34:39, 38.51s/it]"
     ]
    },
    {
     "name": "stdout",
     "output_type": "stream",
     "text": [
      "Training set : \n",
      "[47,   100] running loss: 1.213\n",
      "[47,   100] running acc: 0.657\n",
      "Training set : \n",
      "[47,   200] running loss: 1.232\n",
      "[47,   200] running acc: 0.632\n"
     ]
    },
    {
     "name": "stderr",
     "output_type": "stream",
     "text": [
      " 47%|████▋     | 47/100 [27:06<29:49, 33.76s/it]"
     ]
    },
    {
     "name": "stdout",
     "output_type": "stream",
     "text": [
      "Training set : \n",
      "[48,   100] running loss: 1.203\n",
      "[48,   100] running acc: 0.648\n",
      "Training set : \n",
      "[48,   200] running loss: 1.249\n",
      "[48,   200] running acc: 0.622\n"
     ]
    },
    {
     "name": "stderr",
     "output_type": "stream",
     "text": [
      " 48%|████▊     | 48/100 [27:28<26:19, 30.37s/it]"
     ]
    },
    {
     "name": "stdout",
     "output_type": "stream",
     "text": [
      "Training set : \n",
      "[49,   100] running loss: 1.210\n",
      "[49,   100] running acc: 0.615\n",
      "Training set : \n",
      "[49,   200] running loss: 1.477\n",
      "[49,   200] running acc: 0.556\n"
     ]
    },
    {
     "name": "stderr",
     "output_type": "stream",
     "text": [
      " 49%|████▉     | 49/100 [27:51<23:51, 28.06s/it]"
     ]
    },
    {
     "name": "stdout",
     "output_type": "stream",
     "text": [
      "Training set : \n",
      "[50,   100] running loss: 1.238\n",
      "[50,   100] running acc: 0.603\n",
      "Training set : \n",
      "[50,   200] running loss: 1.538\n",
      "[50,   200] running acc: 0.602\n"
     ]
    },
    {
     "name": "stderr",
     "output_type": "stream",
     "text": [
      " 50%|█████     | 50/100 [29:17<37:49, 45.40s/it]"
     ]
    },
    {
     "name": "stdout",
     "output_type": "stream",
     "text": [
      "Epoch     9: reducing learning rate of group 0 to 1.0000e-03.\n",
      "\n",
      "\n",
      "Validation set : \n",
      "[50] test loss: 1.637\n",
      "[50] window acc: 0.587\n",
      "[50] best class acc: 0.659\n",
      "Training set : \n",
      "[51,   100] running loss: 0.917\n",
      "[51,   100] running acc: 0.706\n",
      "Training set : \n",
      "[51,   200] running loss: 0.942\n",
      "[51,   200] running acc: 0.723\n"
     ]
    },
    {
     "name": "stderr",
     "output_type": "stream",
     "text": [
      " 51%|█████     | 51/100 [29:40<31:31, 38.60s/it]"
     ]
    },
    {
     "name": "stdout",
     "output_type": "stream",
     "text": [
      "Training set : \n",
      "[52,   100] running loss: 1.269\n",
      "[52,   100] running acc: 0.597\n",
      "Training set : \n",
      "[52,   200] running loss: 0.770\n",
      "[52,   200] running acc: 0.766\n"
     ]
    },
    {
     "name": "stderr",
     "output_type": "stream",
     "text": [
      " 52%|█████▏    | 52/100 [30:02<27:03, 33.81s/it]"
     ]
    },
    {
     "name": "stdout",
     "output_type": "stream",
     "text": [
      "Training set : \n",
      "[53,   100] running loss: 1.102\n",
      "[53,   100] running acc: 0.681\n",
      "Training set : \n",
      "[53,   200] running loss: 0.998\n",
      "[53,   200] running acc: 0.686\n"
     ]
    },
    {
     "name": "stderr",
     "output_type": "stream",
     "text": [
      " 53%|█████▎    | 53/100 [30:25<23:49, 30.41s/it]"
     ]
    },
    {
     "name": "stdout",
     "output_type": "stream",
     "text": [
      "Training set : \n",
      "[54,   100] running loss: 1.054\n",
      "[54,   100] running acc: 0.666\n",
      "Training set : \n",
      "[54,   200] running loss: 1.259\n",
      "[54,   200] running acc: 0.622\n"
     ]
    },
    {
     "name": "stderr",
     "output_type": "stream",
     "text": [
      " 54%|█████▍    | 54/100 [30:47<21:31, 28.08s/it]"
     ]
    },
    {
     "name": "stdout",
     "output_type": "stream",
     "text": [
      "Training set : \n",
      "[55,   100] running loss: 0.867\n",
      "[55,   100] running acc: 0.702\n",
      "Training set : \n",
      "[55,   200] running loss: 1.007\n",
      "[55,   200] running acc: 0.683\n",
      "\n",
      "\n",
      "Validation set : \n",
      "[55] test loss: 1.340\n",
      "[55] window acc: 0.654\n",
      "[55] best class acc: 0.726\n"
     ]
    },
    {
     "name": "stderr",
     "output_type": "stream",
     "text": [
      " 55%|█████▌    | 55/100 [32:14<34:10, 45.58s/it]"
     ]
    },
    {
     "name": "stdout",
     "output_type": "stream",
     "text": [
      "Training set : \n",
      "[56,   100] running loss: 0.973\n",
      "[56,   100] running acc: 0.681\n",
      "Training set : \n",
      "[56,   200] running loss: 0.949\n",
      "[56,   200] running acc: 0.692\n"
     ]
    },
    {
     "name": "stderr",
     "output_type": "stream",
     "text": [
      " 56%|█████▌    | 56/100 [32:35<28:00, 38.20s/it]"
     ]
    },
    {
     "name": "stdout",
     "output_type": "stream",
     "text": [
      "Training set : \n",
      "[57,   100] running loss: 0.836\n",
      "[57,   100] running acc: 0.746\n",
      "Training set : \n",
      "[57,   200] running loss: 0.917\n",
      "[57,   200] running acc: 0.729\n"
     ]
    },
    {
     "name": "stderr",
     "output_type": "stream",
     "text": [
      " 57%|█████▋    | 57/100 [32:56<23:41, 33.05s/it]"
     ]
    },
    {
     "name": "stdout",
     "output_type": "stream",
     "text": [
      "Training set : \n",
      "[58,   100] running loss: 0.845\n",
      "[58,   100] running acc: 0.715\n",
      "Training set : \n",
      "[58,   200] running loss: 0.850\n",
      "[58,   200] running acc: 0.703\n"
     ]
    },
    {
     "name": "stderr",
     "output_type": "stream",
     "text": [
      " 58%|█████▊    | 58/100 [33:17<20:36, 29.45s/it]"
     ]
    },
    {
     "name": "stdout",
     "output_type": "stream",
     "text": [
      "Training set : \n",
      "[59,   100] running loss: 1.040\n",
      "[59,   100] running acc: 0.689\n",
      "Training set : \n",
      "[59,   200] running loss: 0.709\n",
      "[59,   200] running acc: 0.767\n"
     ]
    },
    {
     "name": "stderr",
     "output_type": "stream",
     "text": [
      " 59%|█████▉    | 59/100 [33:38<18:24, 26.93s/it]"
     ]
    },
    {
     "name": "stdout",
     "output_type": "stream",
     "text": [
      "Training set : \n",
      "[60,   100] running loss: 1.039\n",
      "[60,   100] running acc: 0.638\n",
      "Training set : \n",
      "[60,   200] running loss: 0.970\n",
      "[60,   200] running acc: 0.706\n"
     ]
    },
    {
     "name": "stderr",
     "output_type": "stream",
     "text": [
      " 60%|██████    | 60/100 [35:03<29:38, 44.46s/it]"
     ]
    },
    {
     "name": "stdout",
     "output_type": "stream",
     "text": [
      "\n",
      "\n",
      "Validation set : \n",
      "[60] test loss: 1.341\n",
      "[60] window acc: 0.656\n",
      "[60] best class acc: 0.723\n",
      "Training set : \n",
      "[61,   100] running loss: 0.859\n",
      "[61,   100] running acc: 0.706\n",
      "Training set : \n",
      "[61,   200] running loss: 1.056\n",
      "[61,   200] running acc: 0.675\n"
     ]
    },
    {
     "name": "stderr",
     "output_type": "stream",
     "text": [
      " 61%|██████    | 61/100 [35:25<24:29, 37.69s/it]"
     ]
    },
    {
     "name": "stdout",
     "output_type": "stream",
     "text": [
      "Training set : \n",
      "[62,   100] running loss: 1.047\n",
      "[62,   100] running acc: 0.704\n",
      "Training set : \n",
      "[62,   200] running loss: 0.918\n",
      "[62,   200] running acc: 0.726\n"
     ]
    },
    {
     "name": "stderr",
     "output_type": "stream",
     "text": [
      " 62%|██████▏   | 62/100 [35:47<20:48, 32.86s/it]"
     ]
    },
    {
     "name": "stdout",
     "output_type": "stream",
     "text": [
      "Training set : \n",
      "[63,   100] running loss: 0.816\n",
      "[63,   100] running acc: 0.761\n",
      "Training set : \n",
      "[63,   200] running loss: 1.046\n",
      "[63,   200] running acc: 0.699\n"
     ]
    },
    {
     "name": "stderr",
     "output_type": "stream",
     "text": [
      " 63%|██████▎   | 63/100 [36:08<18:07, 29.40s/it]"
     ]
    },
    {
     "name": "stdout",
     "output_type": "stream",
     "text": [
      "Training set : \n",
      "[64,   100] running loss: 0.816\n",
      "[64,   100] running acc: 0.753\n",
      "Training set : \n",
      "[64,   200] running loss: 0.885\n",
      "[64,   200] running acc: 0.733\n"
     ]
    },
    {
     "name": "stderr",
     "output_type": "stream",
     "text": [
      " 64%|██████▍   | 64/100 [36:30<16:13, 27.05s/it]"
     ]
    },
    {
     "name": "stdout",
     "output_type": "stream",
     "text": [
      "Training set : \n",
      "[65,   100] running loss: 0.922\n",
      "[65,   100] running acc: 0.708\n",
      "Training set : \n",
      "[65,   200] running loss: 0.947\n",
      "[65,   200] running acc: 0.703\n"
     ]
    },
    {
     "name": "stderr",
     "output_type": "stream",
     "text": [
      " 65%|██████▌   | 65/100 [37:56<26:08, 44.82s/it]"
     ]
    },
    {
     "name": "stdout",
     "output_type": "stream",
     "text": [
      "\n",
      "\n",
      "Validation set : \n",
      "[65] test loss: 1.346\n",
      "[65] window acc: 0.659\n",
      "[65] best class acc: 0.728\n",
      "Training set : \n",
      "[66,   100] running loss: 0.933\n",
      "[66,   100] running acc: 0.689\n",
      "Training set : \n",
      "[66,   200] running loss: 0.856\n",
      "[66,   200] running acc: 0.755\n"
     ]
    },
    {
     "name": "stderr",
     "output_type": "stream",
     "text": [
      " 66%|██████▌   | 66/100 [38:20<21:47, 38.45s/it]"
     ]
    },
    {
     "name": "stdout",
     "output_type": "stream",
     "text": [
      "Training set : \n",
      "[67,   100] running loss: 0.826\n",
      "[67,   100] running acc: 0.757\n",
      "Training set : \n",
      "[67,   200] running loss: 0.742\n",
      "[67,   200] running acc: 0.774\n"
     ]
    },
    {
     "name": "stderr",
     "output_type": "stream",
     "text": [
      " 67%|██████▋   | 67/100 [38:43<18:41, 34.00s/it]"
     ]
    },
    {
     "name": "stdout",
     "output_type": "stream",
     "text": [
      "Training set : \n",
      "[68,   100] running loss: 0.888\n",
      "[68,   100] running acc: 0.722\n",
      "Training set : \n",
      "[68,   200] running loss: 0.675\n",
      "[68,   200] running acc: 0.802\n"
     ]
    },
    {
     "name": "stderr",
     "output_type": "stream",
     "text": [
      " 68%|██████▊   | 68/100 [39:06<16:24, 30.78s/it]"
     ]
    },
    {
     "name": "stdout",
     "output_type": "stream",
     "text": [
      "Training set : \n",
      "[69,   100] running loss: 1.031\n",
      "[69,   100] running acc: 0.723\n",
      "Training set : \n",
      "[69,   200] running loss: 0.969\n",
      "[69,   200] running acc: 0.713\n"
     ]
    },
    {
     "name": "stderr",
     "output_type": "stream",
     "text": [
      " 69%|██████▉   | 69/100 [39:29<14:38, 28.33s/it]"
     ]
    },
    {
     "name": "stdout",
     "output_type": "stream",
     "text": [
      "Training set : \n",
      "[70,   100] running loss: 1.034\n",
      "[70,   100] running acc: 0.707\n",
      "Training set : \n",
      "[70,   200] running loss: 0.909\n",
      "[70,   200] running acc: 0.719\n"
     ]
    },
    {
     "name": "stderr",
     "output_type": "stream",
     "text": [
      " 70%|███████   | 70/100 [40:55<22:50, 45.68s/it]"
     ]
    },
    {
     "name": "stdout",
     "output_type": "stream",
     "text": [
      "Epoch    13: reducing learning rate of group 0 to 2.0000e-04.\n",
      "\n",
      "\n",
      "Validation set : \n",
      "[70] test loss: 1.355\n",
      "[70] window acc: 0.659\n",
      "[70] best class acc: 0.724\n",
      "Training set : \n",
      "[71,   100] running loss: 0.784\n",
      "[71,   100] running acc: 0.725\n",
      "Training set : \n",
      "[71,   200] running loss: 0.863\n",
      "[71,   200] running acc: 0.757\n"
     ]
    },
    {
     "name": "stderr",
     "output_type": "stream",
     "text": [
      " 71%|███████   | 71/100 [41:17<18:35, 38.46s/it]"
     ]
    },
    {
     "name": "stdout",
     "output_type": "stream",
     "text": [
      "Training set : \n",
      "[72,   100] running loss: 0.738\n",
      "[72,   100] running acc: 0.752\n",
      "Training set : \n",
      "[72,   200] running loss: 0.980\n",
      "[72,   200] running acc: 0.684\n"
     ]
    },
    {
     "name": "stderr",
     "output_type": "stream",
     "text": [
      " 72%|███████▏  | 72/100 [41:38<15:34, 33.38s/it]"
     ]
    },
    {
     "name": "stdout",
     "output_type": "stream",
     "text": [
      "Training set : \n",
      "[73,   100] running loss: 0.741\n",
      "[73,   100] running acc: 0.728\n",
      "Training set : \n",
      "[73,   200] running loss: 0.661\n",
      "[73,   200] running acc: 0.750\n"
     ]
    },
    {
     "name": "stderr",
     "output_type": "stream",
     "text": [
      " 73%|███████▎  | 73/100 [42:00<13:25, 29.82s/it]"
     ]
    },
    {
     "name": "stdout",
     "output_type": "stream",
     "text": [
      "Training set : \n",
      "[74,   100] running loss: 0.898\n",
      "[74,   100] running acc: 0.743\n",
      "Training set : \n",
      "[74,   200] running loss: 0.776\n",
      "[74,   200] running acc: 0.750\n"
     ]
    },
    {
     "name": "stderr",
     "output_type": "stream",
     "text": [
      " 74%|███████▍  | 74/100 [42:21<11:50, 27.34s/it]"
     ]
    },
    {
     "name": "stdout",
     "output_type": "stream",
     "text": [
      "Training set : \n",
      "[75,   100] running loss: 0.713\n",
      "[75,   100] running acc: 0.791\n",
      "Training set : \n",
      "[75,   200] running loss: 0.780\n",
      "[75,   200] running acc: 0.740\n",
      "\n",
      "\n",
      "Validation set : \n",
      "[75] test loss: 1.338\n",
      "[75] window acc: 0.667\n",
      "[75] best class acc: 0.738\n"
     ]
    },
    {
     "name": "stderr",
     "output_type": "stream",
     "text": [
      " 75%|███████▌  | 75/100 [43:48<18:45, 45.03s/it]"
     ]
    },
    {
     "name": "stdout",
     "output_type": "stream",
     "text": [
      "Training set : \n",
      "[76,   100] running loss: 0.859\n",
      "[76,   100] running acc: 0.679\n",
      "Training set : \n",
      "[76,   200] running loss: 0.833\n",
      "[76,   200] running acc: 0.760\n"
     ]
    },
    {
     "name": "stderr",
     "output_type": "stream",
     "text": [
      " 76%|███████▌  | 76/100 [44:09<15:11, 37.99s/it]"
     ]
    },
    {
     "name": "stdout",
     "output_type": "stream",
     "text": [
      "Training set : \n",
      "[77,   100] running loss: 0.860\n",
      "[77,   100] running acc: 0.759\n",
      "Training set : \n",
      "[77,   200] running loss: 0.780\n",
      "[77,   200] running acc: 0.733\n"
     ]
    },
    {
     "name": "stderr",
     "output_type": "stream",
     "text": [
      " 77%|███████▋  | 77/100 [44:31<12:40, 33.06s/it]"
     ]
    },
    {
     "name": "stdout",
     "output_type": "stream",
     "text": [
      "Training set : \n",
      "[78,   100] running loss: 0.949\n",
      "[78,   100] running acc: 0.709\n",
      "Training set : \n",
      "[78,   200] running loss: 0.849\n",
      "[78,   200] running acc: 0.704\n"
     ]
    },
    {
     "name": "stderr",
     "output_type": "stream",
     "text": [
      " 78%|███████▊  | 78/100 [44:53<10:54, 29.77s/it]"
     ]
    },
    {
     "name": "stdout",
     "output_type": "stream",
     "text": [
      "Training set : \n",
      "[79,   100] running loss: 0.801\n",
      "[79,   100] running acc: 0.700\n",
      "Training set : \n",
      "[79,   200] running loss: 0.844\n",
      "[79,   200] running acc: 0.724\n"
     ]
    },
    {
     "name": "stderr",
     "output_type": "stream",
     "text": [
      " 79%|███████▉  | 79/100 [45:16<09:46, 27.91s/it]"
     ]
    },
    {
     "name": "stdout",
     "output_type": "stream",
     "text": [
      "Training set : \n",
      "[80,   100] running loss: 0.827\n",
      "[80,   100] running acc: 0.720\n",
      "Training set : \n",
      "[80,   200] running loss: 0.721\n",
      "[80,   200] running acc: 0.741\n",
      "\n",
      "\n",
      "Validation set : \n",
      "[80] test loss: 1.327\n",
      "[80] window acc: 0.666\n",
      "[80] best class acc: 0.737\n"
     ]
    },
    {
     "name": "stderr",
     "output_type": "stream",
     "text": [
      " 80%|████████  | 80/100 [46:44<15:15, 45.76s/it]"
     ]
    },
    {
     "name": "stdout",
     "output_type": "stream",
     "text": [
      "Training set : \n",
      "[81,   100] running loss: 0.872\n",
      "[81,   100] running acc: 0.730\n",
      "Training set : \n",
      "[81,   200] running loss: 0.773\n",
      "[81,   200] running acc: 0.767\n"
     ]
    },
    {
     "name": "stderr",
     "output_type": "stream",
     "text": [
      " 81%|████████  | 81/100 [47:06<12:15, 38.72s/it]"
     ]
    },
    {
     "name": "stdout",
     "output_type": "stream",
     "text": [
      "Training set : \n",
      "[82,   100] running loss: 1.194\n",
      "[82,   100] running acc: 0.650\n",
      "Training set : \n",
      "[82,   200] running loss: 0.801\n",
      "[82,   200] running acc: 0.722\n"
     ]
    },
    {
     "name": "stderr",
     "output_type": "stream",
     "text": [
      " 82%|████████▏ | 82/100 [47:28<10:07, 33.77s/it]"
     ]
    },
    {
     "name": "stdout",
     "output_type": "stream",
     "text": [
      "Training set : \n",
      "[83,   100] running loss: 0.917\n",
      "[83,   100] running acc: 0.762\n",
      "Training set : \n",
      "[83,   200] running loss: 0.799\n",
      "[83,   200] running acc: 0.743\n"
     ]
    },
    {
     "name": "stderr",
     "output_type": "stream",
     "text": [
      " 83%|████████▎ | 83/100 [47:51<08:35, 30.32s/it]"
     ]
    },
    {
     "name": "stdout",
     "output_type": "stream",
     "text": [
      "Training set : \n",
      "[84,   100] running loss: 0.962\n",
      "[84,   100] running acc: 0.680\n",
      "Training set : \n",
      "[84,   200] running loss: 0.897\n",
      "[84,   200] running acc: 0.749\n"
     ]
    },
    {
     "name": "stderr",
     "output_type": "stream",
     "text": [
      " 84%|████████▍ | 84/100 [48:13<07:26, 27.92s/it]"
     ]
    },
    {
     "name": "stdout",
     "output_type": "stream",
     "text": [
      "Training set : \n",
      "[85,   100] running loss: 0.685\n",
      "[85,   100] running acc: 0.806\n",
      "Training set : \n",
      "[85,   200] running loss: 0.760\n",
      "[85,   200] running acc: 0.755\n",
      "\n",
      "\n",
      "Validation set : \n",
      "[85] test loss: 1.322\n",
      "[85] window acc: 0.670\n",
      "[85] best class acc: 0.745\n"
     ]
    },
    {
     "name": "stderr",
     "output_type": "stream",
     "text": [
      " 85%|████████▌ | 85/100 [50:12<13:48, 55.25s/it]"
     ]
    },
    {
     "name": "stdout",
     "output_type": "stream",
     "text": [
      "Training set : \n",
      "[86,   100] running loss: 0.894\n",
      "[86,   100] running acc: 0.737\n",
      "Training set : \n",
      "[86,   200] running loss: 0.967\n",
      "[86,   200] running acc: 0.700\n"
     ]
    },
    {
     "name": "stderr",
     "output_type": "stream",
     "text": [
      " 86%|████████▌ | 86/100 [50:37<10:46, 46.15s/it]"
     ]
    },
    {
     "name": "stdout",
     "output_type": "stream",
     "text": [
      "Training set : \n",
      "[87,   100] running loss: 0.731\n",
      "[87,   100] running acc: 0.769\n",
      "Training set : \n",
      "[87,   200] running loss: 0.729\n",
      "[87,   200] running acc: 0.755\n"
     ]
    },
    {
     "name": "stderr",
     "output_type": "stream",
     "text": [
      " 87%|████████▋ | 87/100 [50:59<08:24, 38.80s/it]"
     ]
    },
    {
     "name": "stdout",
     "output_type": "stream",
     "text": [
      "Training set : \n",
      "[88,   100] running loss: 0.843\n",
      "[88,   100] running acc: 0.720\n",
      "Training set : \n",
      "[88,   200] running loss: 0.896\n",
      "[88,   200] running acc: 0.730\n"
     ]
    },
    {
     "name": "stderr",
     "output_type": "stream",
     "text": [
      " 88%|████████▊ | 88/100 [51:20<06:43, 33.60s/it]"
     ]
    },
    {
     "name": "stdout",
     "output_type": "stream",
     "text": [
      "Training set : \n",
      "[89,   100] running loss: 0.824\n",
      "[89,   100] running acc: 0.722\n",
      "Training set : \n",
      "[89,   200] running loss: 0.827\n",
      "[89,   200] running acc: 0.744\n"
     ]
    },
    {
     "name": "stderr",
     "output_type": "stream",
     "text": [
      " 89%|████████▉ | 89/100 [51:41<05:28, 29.88s/it]"
     ]
    },
    {
     "name": "stdout",
     "output_type": "stream",
     "text": [
      "Training set : \n",
      "[90,   100] running loss: 0.747\n",
      "[90,   100] running acc: 0.773\n",
      "Training set : \n",
      "[90,   200] running loss: 0.736\n",
      "[90,   200] running acc: 0.721\n"
     ]
    },
    {
     "name": "stderr",
     "output_type": "stream",
     "text": [
      " 90%|█████████ | 90/100 [53:07<07:45, 46.56s/it]"
     ]
    },
    {
     "name": "stdout",
     "output_type": "stream",
     "text": [
      "\n",
      "\n",
      "Validation set : \n",
      "[90] test loss: 1.328\n",
      "[90] window acc: 0.666\n",
      "[90] best class acc: 0.737\n",
      "Training set : \n",
      "[91,   100] running loss: 0.839\n",
      "[91,   100] running acc: 0.739\n",
      "Training set : \n",
      "[91,   200] running loss: 0.961\n",
      "[91,   200] running acc: 0.724\n"
     ]
    },
    {
     "name": "stderr",
     "output_type": "stream",
     "text": [
      " 91%|█████████ | 91/100 [53:28<05:51, 39.06s/it]"
     ]
    },
    {
     "name": "stdout",
     "output_type": "stream",
     "text": [
      "Training set : \n",
      "[92,   100] running loss: 0.839\n",
      "[92,   100] running acc: 0.723\n",
      "Training set : \n",
      "[92,   200] running loss: 0.963\n",
      "[92,   200] running acc: 0.687\n"
     ]
    },
    {
     "name": "stderr",
     "output_type": "stream",
     "text": [
      " 92%|█████████▏| 92/100 [53:50<04:30, 33.82s/it]"
     ]
    },
    {
     "name": "stdout",
     "output_type": "stream",
     "text": [
      "Training set : \n",
      "[93,   100] running loss: 0.894\n",
      "[93,   100] running acc: 0.728\n",
      "Training set : \n",
      "[93,   200] running loss: 0.723\n",
      "[93,   200] running acc: 0.772\n"
     ]
    },
    {
     "name": "stderr",
     "output_type": "stream",
     "text": [
      " 93%|█████████▎| 93/100 [54:11<03:31, 30.14s/it]"
     ]
    },
    {
     "name": "stdout",
     "output_type": "stream",
     "text": [
      "Training set : \n",
      "[94,   100] running loss: 0.985\n",
      "[94,   100] running acc: 0.682\n",
      "Training set : \n",
      "[94,   200] running loss: 0.805\n",
      "[94,   200] running acc: 0.689\n"
     ]
    },
    {
     "name": "stderr",
     "output_type": "stream",
     "text": [
      " 94%|█████████▍| 94/100 [54:35<02:48, 28.12s/it]"
     ]
    },
    {
     "name": "stdout",
     "output_type": "stream",
     "text": [
      "Training set : \n",
      "[95,   100] running loss: 0.955\n",
      "[95,   100] running acc: 0.698\n",
      "Training set : \n",
      "[95,   200] running loss: 0.954\n",
      "[95,   200] running acc: 0.709\n",
      "\n",
      "\n",
      "Validation set : \n",
      "[95] test loss: 1.310\n",
      "[95] window acc: 0.668\n",
      "[95] best class acc: 0.743\n"
     ]
    },
    {
     "name": "stderr",
     "output_type": "stream",
     "text": [
      " 95%|█████████▌| 95/100 [56:03<03:51, 46.28s/it]"
     ]
    },
    {
     "name": "stdout",
     "output_type": "stream",
     "text": [
      "Training set : \n",
      "[96,   100] running loss: 0.746\n",
      "[96,   100] running acc: 0.724\n",
      "Training set : \n",
      "[96,   200] running loss: 0.823\n",
      "[96,   200] running acc: 0.696\n"
     ]
    },
    {
     "name": "stderr",
     "output_type": "stream",
     "text": [
      " 96%|█████████▌| 96/100 [56:26<02:36, 39.08s/it]"
     ]
    },
    {
     "name": "stdout",
     "output_type": "stream",
     "text": [
      "Training set : \n",
      "[97,   100] running loss: 0.672\n",
      "[97,   100] running acc: 0.790\n",
      "Training set : \n",
      "[97,   200] running loss: 0.874\n",
      "[97,   200] running acc: 0.735\n"
     ]
    },
    {
     "name": "stderr",
     "output_type": "stream",
     "text": [
      " 97%|█████████▋| 97/100 [56:48<01:42, 34.03s/it]"
     ]
    },
    {
     "name": "stdout",
     "output_type": "stream",
     "text": [
      "Training set : \n",
      "[98,   100] running loss: 0.875\n",
      "[98,   100] running acc: 0.721\n",
      "Training set : \n",
      "[98,   200] running loss: 0.817\n",
      "[98,   200] running acc: 0.713\n"
     ]
    },
    {
     "name": "stderr",
     "output_type": "stream",
     "text": [
      " 98%|█████████▊| 98/100 [57:10<01:01, 30.52s/it]"
     ]
    },
    {
     "name": "stdout",
     "output_type": "stream",
     "text": [
      "Training set : \n",
      "[99,   100] running loss: 0.788\n",
      "[99,   100] running acc: 0.745\n",
      "Training set : \n",
      "[99,   200] running loss: 0.786\n",
      "[99,   200] running acc: 0.738\n"
     ]
    },
    {
     "name": "stderr",
     "output_type": "stream",
     "text": [
      " 99%|█████████▉| 99/100 [57:33<00:28, 28.05s/it]"
     ]
    },
    {
     "name": "stdout",
     "output_type": "stream",
     "text": [
      "Training set : \n",
      "[100,   100] running loss: 1.050\n",
      "[100,   100] running acc: 0.722\n",
      "Training set : \n",
      "[100,   200] running loss: 0.947\n",
      "[100,   200] running acc: 0.697\n"
     ]
    },
    {
     "name": "stderr",
     "output_type": "stream",
     "text": [
      "100%|██████████| 100/100 [59:00<00:00, 35.40s/it]\n",
      "  0%|          | 0/100 [00:00<?, ?it/s]"
     ]
    },
    {
     "name": "stdout",
     "output_type": "stream",
     "text": [
      "\n",
      "\n",
      "Validation set : \n",
      "[100] test loss: 1.331\n",
      "[100] window acc: 0.668\n",
      "[100] best class acc: 0.736\n",
      "Training set : \n",
      "[101,   100] running loss: 0.805\n",
      "[101,   100] running acc: 0.732\n",
      "Training set : \n",
      "[101,   200] running loss: 0.642\n",
      "[101,   200] running acc: 0.774\n"
     ]
    },
    {
     "name": "stderr",
     "output_type": "stream",
     "text": [
      "  1%|          | 1/100 [00:21<35:36, 21.58s/it]"
     ]
    },
    {
     "name": "stdout",
     "output_type": "stream",
     "text": [
      "Training set : \n",
      "[102,   100] running loss: 0.804\n",
      "[102,   100] running acc: 0.723\n",
      "Training set : \n",
      "[102,   200] running loss: 0.944\n",
      "[102,   200] running acc: 0.741\n"
     ]
    },
    {
     "name": "stderr",
     "output_type": "stream",
     "text": [
      "  2%|▏         | 2/100 [00:43<35:23, 21.67s/it]"
     ]
    },
    {
     "name": "stdout",
     "output_type": "stream",
     "text": [
      "Training set : \n",
      "[103,   100] running loss: 0.633\n",
      "[103,   100] running acc: 0.797\n",
      "Training set : \n",
      "[103,   200] running loss: 0.790\n",
      "[103,   200] running acc: 0.749\n"
     ]
    },
    {
     "name": "stderr",
     "output_type": "stream",
     "text": [
      "  3%|▎         | 3/100 [01:05<35:05, 21.71s/it]"
     ]
    },
    {
     "name": "stdout",
     "output_type": "stream",
     "text": [
      "Training set : \n",
      "[104,   100] running loss: 0.849\n",
      "[104,   100] running acc: 0.741\n",
      "Training set : \n",
      "[104,   200] running loss: 0.751\n",
      "[104,   200] running acc: 0.753\n"
     ]
    },
    {
     "name": "stderr",
     "output_type": "stream",
     "text": [
      "  4%|▍         | 4/100 [01:26<34:39, 21.66s/it]"
     ]
    },
    {
     "name": "stdout",
     "output_type": "stream",
     "text": [
      "Training set : \n",
      "[105,   100] running loss: 0.942\n",
      "[105,   100] running acc: 0.710\n",
      "Training set : \n",
      "[105,   200] running loss: 0.876\n",
      "[105,   200] running acc: 0.745\n"
     ]
    }
   ],
   "source": [
    "train(Main_net, optimizers, train_loader, valid_loader, cost, cost_onehot,\n",
    "          ## SincNet variables:\n",
    "          wlen,\n",
    "          wshift,\n",
    "          n_classes,\n",
    "          ## File variables:\n",
    "          output_folder,\n",
    "          Training_model_file,\n",
    "          Models_file_extension,\n",
    "          ## Hyper param:\n",
    "          n_epoch = N_epochs,\n",
    "          patience = patience,\n",
    "          Batch_dev = Batch_dev,#Number of batches for testing set\n",
    "          train_acc_period = train_acc_period,\n",
    "          test_acc_period = N_eval_epoch,\n",
    "          ## For Mixup\n",
    "          beta_coef = beta_coef,\n",
    "          use_mixup = use_mixup,\n",
    "          same_classes = same_classes,\n",
    "          ## Loaded model params:\n",
    "          starting_epoch = previous_epoch,\n",
    "          ## Tracking gradient\n",
    "          plotGrad = plotGrad,\n",
    "          ## If user wishes to use scheduler:\n",
    "          use_scheduler = use_scheduler,\n",
    "          scheduler = schedulers,\n",
    "          ## If user wishes to save and compute confusion matrix:\n",
    "          compute_matrix = compute_matrix,\n",
    "          ## Indicates if the network that is trained is SincNet\n",
    "          is_SincNet = is_SincNet,\n",
    "          cuda=True)\n"
   ]
  },
  {
   "cell_type": "markdown",
   "metadata": {},
   "source": [
    "### Magical Line of code that empties the cache:"
   ]
  },
  {
   "cell_type": "code",
   "execution_count": null,
   "metadata": {},
   "outputs": [],
   "source": [
    "torch.cuda.empty_cache()"
   ]
  },
  {
   "cell_type": "markdown",
   "metadata": {},
   "source": [
    "## Annexes:\n",
    "\n",
    "> This part is for unused algorithms that were at some point useful."
   ]
  },
  {
   "cell_type": "markdown",
   "metadata": {},
   "source": [
    "### Brut force method:\n",
    " We load everything on RAM because we can..."
   ]
  },
  {
   "cell_type": "code",
   "execution_count": null,
   "metadata": {},
   "outputs": [],
   "source": [
    "def load_dataset_on_Ram(data_folder,wav_lst,N_snt,lab_dict, fact_amp, wlen):\n",
    "    \n",
    "    # Initialization of the minibatch (batch_size,[0=>x_t,1=>x_t+N,1=>random_samp])\n",
    "    sig_batch = []\n",
    "    lab_batch = []\n",
    "    \n",
    "    \n",
    "    rand_amp_arr = np.random.uniform(1.0-fact_amp,1+fact_amp,N_snt)\n",
    "    \n",
    "    for i in range(N_snt):\n",
    "        \n",
    "        ## Small Hotfix on windows, we do not put the / before the path.\n",
    "        [signal, fs] = librosa.core.load(data_folder + wav_lst[i], sr=None)\n",
    "        \n",
    "        ## Get signal length:\n",
    "        snt_len = len(signal)\n",
    "        \n",
    "        if(snt_len-wlen < 0): \n",
    "            raise Exception(\"error len is too small {0} < {1}\".format(snt_len, wlen))\n",
    "            print(\"error\")\n",
    "            break\n",
    "            \n",
    "\n",
    "        channels = len(signal.shape)\n",
    "        \n",
    "        ## Their conversion stereo Mono is not taking the mean, like I did, \n",
    "        ## but rather taking the first columns\n",
    "        if channels == 2:\n",
    "            print('WARNING: stereo to mono: '+data_folder+wav_lst[i])\n",
    "            signal = signal[:,0]\n",
    "            \n",
    "        snt_beg= 0 if snt_len-wlen-1 in (0, -1) else np.random.randint(snt_len-wlen-1) #randint(0, snt_len-2*wlen-1)\n",
    "        snt_end=snt_beg+wlen\n",
    "\n",
    "        \n",
    "        ## Signal is stored and randomly amplified\n",
    "        #Time complexity of copy operation is O(fs* wlen/1000)\n",
    "        #https://wiki.python.org/moin/TimeComplexity\n",
    "        singal = [el * rand_amp_arr[i] for el in signal.tolist()[snt_beg: snt_end]]\n",
    "        \n",
    "        sig_batch.append(signal.tolist()[snt_beg: snt_end])\n",
    "        lab_batch.append(lab_dict[wav_lst[i]])\n",
    "        if(i<5):print(len(sig_batch[i]), lab_batch)\n",
    "\n",
    "        \n",
    "    \n",
    "    tensor_x = torch.FloatTensor(sig_batch) # transform to torch tensor\n",
    "    del sig_batch\n",
    "    tensor_y = torch.FloatTensor(lab_batch)\n",
    "    del lab_batch\n",
    "    \n",
    "\n",
    "    dataset = torch.utils.data.TensorDataset(tensor_x,tensor_y)\n",
    "    \n",
    "    return dataset  "
   ]
  },
  {
   "cell_type": "code",
   "execution_count": null,
   "metadata": {
    "scrolled": true
   },
   "outputs": [],
   "source": [
    "## Loading all the training dataset on RAM, beceause we can with 64 GB of RAM!\n",
    "train_dataset = load_dataset_on_Ram(data_folder, wav_lst_tr, 5,#len(wav_lst_tr),\n",
    "                                    lab_dict, 0.2, wlen)\n",
    "test_dataset  = load_dataset_on_Ram(data_folder, wav_lst_te, 5,#len(wav_lst_te),\n",
    "                                    lab_dict, 0.2, wlen)\n",
    "#print(train_dataset[0])"
   ]
  },
  {
   "cell_type": "code",
   "execution_count": null,
   "metadata": {},
   "outputs": [],
   "source": [
    "## Defines the loaders:\n",
    "train_loader = torch.utils.data.DataLoader(dataset=train_dataset,\n",
    "                                          batch_size=batch_size,\n",
    "                                          shuffle=True)\n",
    "\n",
    "valid_loader  = torch.utils.data.DataLoader(dataset=test_dataset,\n",
    "                                          batch_size=batch_size,\n",
    "                                          shuffle=False)\n"
   ]
  },
  {
   "cell_type": "markdown",
   "metadata": {},
   "source": [
    "## Algorithm That was used for new dataset:"
   ]
  },
  {
   "cell_type": "code",
   "execution_count": 31,
   "metadata": {},
   "outputs": [
    {
     "name": "stdout",
     "output_type": "stream",
     "text": [
      "[12, 20]\n",
      "[0, 1]\n",
      "(tensor([[-0.1218, -0.1462, -0.1257,  ..., -0.2727, -0.3080, -0.3364],\n",
      "        [ 0.1029,  0.0696,  0.0426,  ...,  0.1946,  0.1648,  0.1294],\n",
      "        [-0.2260, -0.2151, -0.1955,  ..., -0.1181, -0.1349, -0.1238],\n",
      "        ...,\n",
      "        [-0.1667, -0.2136, -0.2070,  ...,  0.0901,  0.0955,  0.0840],\n",
      "        [-0.3293, -0.3412, -0.3814,  ...,  0.3096,  0.3188,  0.3355],\n",
      "        [ 0.0308, -0.0971, -0.1494,  ..., -0.1729, -0.2203, -0.2404]]), tensor([[-3.1162e-05, -3.3168e-07,  3.2861e-05,  ...,  3.2443e-02,\n",
      "          1.3248e-02,  1.8848e-03],\n",
      "        [ 1.4278e-02, -3.9172e-03, -4.4962e-02,  ..., -1.2917e-01,\n",
      "         -1.3032e-01, -1.3979e-01],\n",
      "        [-1.6374e-02,  2.6467e-02,  1.7332e-02,  ...,  1.6865e-01,\n",
      "          1.7071e-01,  1.6238e-01],\n",
      "        ...,\n",
      "        [ 3.9253e-02,  2.0674e-02,  3.5646e-02,  ...,  1.5996e-01,\n",
      "          1.8126e-01,  1.8925e-01],\n",
      "        [ 2.0677e-02, -1.7662e-01, -1.8921e-01,  ..., -1.0287e-02,\n",
      "         -6.2360e-02, -8.5594e-02],\n",
      "        [ 1.7213e-01,  2.0488e-01,  1.3005e-01,  ..., -1.9878e-01,\n",
      "         -2.0655e-01, -1.5247e-01]]))\n",
      "1\n",
      "tensor(3.7136, device='cuda:1') tensor(1., device='cuda:1') tensor(1., device='cuda:1')\n",
      "20\n",
      "[32]\n",
      "[1]\n",
      "(tensor([[-0.1143, -0.1088, -0.1286,  ...,  0.0267, -0.0971, -0.0948],\n",
      "        [-0.1218, -0.2342, -0.2587,  ..., -0.0743, -0.1285, -0.2882],\n",
      "        [-0.2616, -0.2390, -0.2728,  ..., -0.1058, -0.0435,  0.0032],\n",
      "        ...,\n",
      "        [-0.0030, -0.0319, -0.0798,  ..., -0.2780, -0.2221, -0.1120],\n",
      "        [ 0.0409,  0.0724,  0.0578,  ..., -0.3602, -0.4073, -0.3991],\n",
      "        [ 0.1996,  0.1068, -0.0166,  ...,  0.0926,  0.1418,  0.1642]]),)\n",
      "1\n",
      "tensor(3.7136, device='cuda:1') tensor(1., device='cuda:1') tensor(1., device='cuda:1')\n",
      "20\n",
      "[32]\n",
      "[1]\n",
      "(tensor([[ 0.0978,  0.0288, -0.0022,  ...,  0.6494,  0.6263,  0.7159],\n",
      "        [ 0.0701,  0.0526,  0.0378,  ...,  0.2711,  0.2876,  0.3016],\n",
      "        [ 0.0737,  0.0490, -0.0085,  ...,  0.0450,  0.0523,  0.0634],\n",
      "        ...,\n",
      "        [-0.3695, -0.2993, -0.2965,  ...,  0.3093,  0.3292,  0.3262],\n",
      "        [-0.0131,  0.0169,  0.0843,  ...,  0.1225,  0.0741,  0.0566],\n",
      "        [ 0.1825,  0.0711, -0.0238,  ..., -0.0938,  0.0211, -0.1960]]),)\n",
      "1\n",
      "tensor(3.7136, device='cuda:1') tensor(1., device='cuda:1') tensor(1., device='cuda:1')\n",
      "20\n",
      "[32]\n",
      "[1]\n",
      "(tensor([[ 0.3090,  0.2795,  0.2204,  ...,  0.0996,  0.0091, -0.0308],\n",
      "        [ 0.1776,  0.1952,  0.2189,  ..., -0.0039, -0.0222, -0.0463],\n",
      "        [ 0.1341,  0.1312,  0.1309,  ...,  0.4931,  0.5065, -0.0594],\n",
      "        ...,\n",
      "        [-0.2349, -0.2190, -0.1962,  ..., -0.1642, -0.1599, -0.1553],\n",
      "        [ 0.0043,  0.0054,  0.0108,  ..., -0.2487, -0.2361, -0.2230],\n",
      "        [-0.0462, -0.0477, -0.0459,  ..., -0.0091, -0.1099, -0.1772]]),)\n",
      "1\n",
      "tensor(3.7136, device='cuda:1') tensor(1., device='cuda:1') tensor(1., device='cuda:1')\n",
      "20\n",
      "[32]\n",
      "[1]\n",
      "(tensor([[ 0.2095,  0.2042,  0.1860,  ...,  0.0205,  0.0203,  0.0198],\n",
      "        [-0.0578, -0.0593, -0.0610,  ...,  0.0478,  0.0529,  0.0498],\n",
      "        [-0.1665, -0.1138, -0.0524,  ...,  0.0337,  0.0566,  0.0666],\n",
      "        ...,\n",
      "        [-0.0679, -0.0705, -0.0679,  ...,  0.0388,  0.0998,  0.1356],\n",
      "        [ 0.0944,  0.1855,  0.1117,  ..., -0.0832,  0.3058,  0.2752],\n",
      "        [-0.5426, -0.5444, -0.3812,  ..., -0.3011, -0.4031, -0.4820]]),)\n",
      "1\n",
      "tensor(3.7136, device='cuda:1') tensor(1., device='cuda:1') tensor(1., device='cuda:1')\n",
      "20\n",
      "[32]\n",
      "[1]\n",
      "(tensor([[-0.1191, -0.1407, -0.1249,  ..., -0.0461, -0.0467, -0.0449],\n",
      "        [ 0.2906,  0.2849,  0.2880,  ...,  0.0481,  0.0717,  0.0600],\n",
      "        [-0.2145, -0.2601, -0.2697,  ..., -0.5081, -0.4901, -0.5101],\n",
      "        ...,\n",
      "        [-0.0962, -0.0744, -0.0616,  ..., -0.3556, -0.4488, -0.3373],\n",
      "        [ 0.0899, -0.0188, -0.0112,  ...,  0.2314,  0.1523,  0.0741],\n",
      "        [ 0.3777,  0.3999,  0.4160,  ..., -0.1834, -0.2083, -0.2312]]),)\n",
      "1\n",
      "tensor(3.7136, device='cuda:1') tensor(1., device='cuda:1') tensor(1., device='cuda:1')\n",
      "20\n",
      "[10, 22]\n",
      "[1, 2]\n",
      "(tensor([[ 0.1292,  0.1465,  0.1665,  ..., -0.1037,  0.0573, -0.0131],\n",
      "        [-0.1105,  0.1236,  0.2160,  ..., -0.2141, -0.2026, -0.1838],\n",
      "        [ 0.3307,  0.3724,  0.5014,  ...,  0.0659,  0.0830,  0.1031],\n",
      "        ...,\n",
      "        [-0.1517, -0.1435, -0.3491,  ..., -0.2282, -0.2745, -0.2528],\n",
      "        [ 0.0347,  0.0409,  0.0718,  ..., -0.2679, -0.2552, -0.2634],\n",
      "        [-0.2447, -0.2600, -0.2765,  ...,  0.1928,  0.1884,  0.1932]]), tensor([[-0.0017, -0.0202, -0.0331,  ...,  0.0410,  0.0696,  0.0945],\n",
      "        [-0.0681, -0.0609, -0.0558,  ...,  0.0325,  0.0388,  0.0462],\n",
      "        [ 0.1432,  0.1364,  0.1248,  ...,  0.0861,  0.0985,  0.1080],\n",
      "        ...,\n",
      "        [ 0.0297,  0.0264,  0.0242,  ...,  0.1156,  0.0994,  0.0796],\n",
      "        [ 0.3579,  0.3585,  0.3497,  ...,  0.0842,  0.0882,  0.0889],\n",
      "        [ 0.4232,  0.4275,  0.4213,  ...,  0.0201,  0.0204,  0.0204]]))\n",
      "2\n",
      "tensor(7.4271, device='cuda:1') tensor(1.9632, device='cuda:1') tensor(2., device='cuda:1')\n",
      "20\n"
     ]
    }
   ],
   "source": [
    "criterion = cost\n",
    "\n",
    "## To remove:\n",
    "CNN_net.eval()\n",
    "DNN1_net.eval()\n",
    "DNN2_net.eval()\n",
    "\n",
    "\n",
    "## Initialisation before forloop\n",
    "stored_labels = 0\n",
    "stored_outs   = 0\n",
    "stored_idx    = 0\n",
    "\n",
    "loss_sum    = 0\n",
    "err_sum     = 0\n",
    "err_sum_snt = 0\n",
    "\n",
    "\n",
    "current_idx = 0\n",
    "\n",
    "nbr_snt = 0\n",
    "\n",
    "with torch.no_grad():\n",
    "    for i, data in enumerate(valid_loader):\n",
    "\n",
    "        if(i >= 7):\n",
    "            break\n",
    "\n",
    "        X, labels, tensor_ids = data\n",
    "\n",
    "        section = []\n",
    "        ids_list = []\n",
    "        current_idx = tensor_ids[0].item()\n",
    "        ids_list.append(current_idx)\n",
    "        for i, el in enumerate(tensor_ids):\n",
    "            current_el = el.item()\n",
    "            if current_el != current_idx:\n",
    "                current_idx = current_el\n",
    "                ids_list.append(current_idx)\n",
    "                section.append(i - sum(section))\n",
    "\n",
    "        ## Last section is added:    \n",
    "        section.append(X.size(0) - sum(section))\n",
    "        print(section)\n",
    "        print(ids_list)\n",
    "\n",
    "        ## Algorithm that splits the tensors by file:\n",
    "        X_split = torch.split(X, section)\n",
    "        y_split = torch.split(labels, section)\n",
    "\n",
    "        assert(len(X_split) == len(y_split))\n",
    "\n",
    "        for i in range(len(X_split)):\n",
    "            ## Stores the current id:\n",
    "            current_idx    = ids_list[i]\n",
    "            current_data   = X_split[i] if len(X_split) >= 1 else X_split\n",
    "            current_labels = y_split[i] if len(y_split) >= 1 else y_split\n",
    "            \n",
    "            ## To delete:\n",
    "            current_data   = current_data.type(torch.cuda.FloatTensor)\n",
    "            current_labels = current_labels.type(torch.cuda.LongTensor)\n",
    "            \n",
    "\n",
    "            if type(stored_outs) is not torch.Tensor:\n",
    "                stored_idx    = current_idx\n",
    "                stored_outs   = DNN2_net(DNN1_net(CNN_net(current_data)))\n",
    "                stored_labels = current_labels\n",
    "\n",
    "                ## Updates the number of signals\n",
    "                nbr_snt      += 1\n",
    "            else:\n",
    "\n",
    "                if(stored_idx == current_idx):\n",
    "                     ## To delete:\n",
    "                    stored_outs   = stored_outs.type(torch.cuda.FloatTensor)\n",
    "                    stored_labels = stored_labels.type(torch.cuda.LongTensor)\n",
    "                    \n",
    "                    \n",
    "                    stored_outs   = torch.cat([stored_outs, DNN2_net(DNN1_net(CNN_net(current_data)))], dim=0)\n",
    "                    stored_labels = torch.cat([stored_labels, current_labels], dim=0)\n",
    "\n",
    "                else:\n",
    "                    ## To delete:\n",
    "                    stored_outs   = stored_outs.type(torch.cuda.FloatTensor)\n",
    "                    stored_labels = stored_labels.type(torch.cuda.LongTensor)\n",
    "                    compute_matrix = False\n",
    "                    ## End to delete--\n",
    "\n",
    "                    #pout = stored_outs\n",
    "\n",
    "                    ## Predicts for every chunk of audio the label and counts how many time it got it correctly\n",
    "                    pred = torch.max(stored_outs,dim=1)[1]\n",
    "                    loss = criterion(stored_outs, stored_labels.long())\n",
    "                    err  = torch.mean((pred!=stored_labels.long()).float())\n",
    "\n",
    "                    ## Updates the confusion matrix:\n",
    "                    if(compute_matrix):\n",
    "                        mat, qty = confusion_matrix(mat, qty, pred=pred, labels=stored_labels, write_results = False, name = \"Pas Important\", cuda = True)\n",
    "\n",
    "                    ## Updates the error that I use here:\n",
    "                    loss_sum=loss_sum+loss.detach()\n",
    "                    err_sum=err_sum+err.detach()\n",
    "\n",
    "                    ## Sum the probability over the columns, then it stores the value and the position of the max. (Lionel's Method)\n",
    "                    [val,best_class]=torch.max(torch.sum(stored_outs,dim=0), 0)\n",
    "                    err_sum_snt=err_sum_snt+(best_class!=stored_labels[0]).float()\n",
    "\n",
    "                    ## Stores new data:\n",
    "                    stored_outs   = DNN2_net(DNN1_net(CNN_net(current_data)))\n",
    "                    stored_labels = y_split[i] if len(y_split) >= 1 else y_split\n",
    "                    stored_idx    = current_idx\n",
    "                    nbr_snt      += 1\n",
    "\n",
    "\n",
    "\n",
    "        print(X_split)\n",
    "        print(current_idx)\n",
    "        print(loss_sum, err_sum, err_sum_snt)\n",
    "        print(stored_data.size(0))\n",
    "    nbr_snt"
   ]
  },
  {
   "cell_type": "markdown",
   "metadata": {},
   "source": [
    "### First method used to create Tensors:"
   ]
  },
  {
   "cell_type": "code",
   "execution_count": null,
   "metadata": {},
   "outputs": [],
   "source": [
    "\"\"\"\n",
    "Objective: (will change, I am thinking of putting it with preprocessing functions)\n",
    "    We want to convert the audio files at @data_folder that are in @wav_lst into tensors and then store them on the Hard disk.\n",
    "    It will save us some RAM, but also will allow us to have a dataset of tensors with != shapes.\n",
    "\n",
    "Args:\n",
    "    @lab_dict     is a dictionary that contains the true labels of the audio files, keys are the file names and values are the label.\n",
    "    @data_folder  is the path to the folder containing the audio files\n",
    "    @wav_lst      is the list of audio files to transform into tensors\n",
    "    @N_snt        is the number of files to transform\n",
    "    @path_to_save is the path where the tensors need to be written at\n",
    "\"\"\"\n",
    "\n",
    "## Maybe move it to preprocessing ? Lionel's aproval.\n",
    "def create_audio_tensors(lab_dict, data_folder, wav_lst, N_snt, path_to_save):\n",
    "    \n",
    "    tensors_lst = []\n",
    "    \n",
    "    for i in range(N_snt):\n",
    "        \n",
    "        current_file_name = wav_lst[i]\n",
    "        \n",
    "        [signal, fs] = librosa.core.load(data_folder + current_file_name, sr=None)\n",
    "        \n",
    "        temp_t = torch.tensor(signal).float()\n",
    "        \n",
    "        new_name = current_file_name.split(\".\")[0] + \".pt\"\n",
    "        \n",
    "        tensors_lst.append(new_name)\n",
    "        \n",
    "        torch.save(temp_t, path_to_save + new_name)\n",
    "    \n",
    "    print(\"finished writing in the \" + path_to_save + \" folder!\")\n",
    "    \n",
    "    return tensors_lst\n",
    "        "
   ]
  },
  {
   "cell_type": "code",
   "execution_count": null,
   "metadata": {},
   "outputs": [],
   "source": [
    "nbre_of_classes = 41 \n",
    "b = torch.rand(32,nbre_of_classes, dtype=torch.float)\n",
    "print(b)"
   ]
  },
  {
   "cell_type": "code",
   "execution_count": null,
   "metadata": {},
   "outputs": [],
   "source": [
    "\n",
    "lab = torch.randint(0, nbre_of_classes, (b.size(0),))\n",
    "print(lab)"
   ]
  },
  {
   "cell_type": "code",
   "execution_count": null,
   "metadata": {},
   "outputs": [],
   "source": [
    "b.shape"
   ]
  },
  {
   "cell_type": "code",
   "execution_count": null,
   "metadata": {},
   "outputs": [],
   "source": [
    "X, y, mixup_percentage = mixup(b, lab, 0.4, nbre_of_classes, True, True)\n",
    "print(X)\n",
    "print(y)\n",
    "print(\"The mixup percentage is {}\".format(mixup_percentage))"
   ]
  },
  {
   "cell_type": "code",
   "execution_count": null,
   "metadata": {},
   "outputs": [],
   "source": [
    "## Then we take the max of the labels after loss evaluation:\n",
    "\n",
    "y.max(dim=1)[1]"
   ]
  },
  {
   "cell_type": "code",
   "execution_count": null,
   "metadata": {},
   "outputs": [],
   "source": [
    "## Scatter\n",
    "#torch.zeros(5, nbre_of_classes).scatter_(1, torch.zeros(5, nbre_of_classes).view(-1, 1).long(), 1)\n",
    "\n",
    "## Converts lab into onehot manually:\n",
    "one_hot = torch.zeros(lab.size(0), nbre_of_classes)\n",
    "for i in range (one_hot.size(0)):\n",
    "    one_hot[i][lab[i]]=1\n",
    "one_hot"
   ]
  },
  {
   "cell_type": "code",
   "execution_count": null,
   "metadata": {},
   "outputs": [],
   "source": [
    "onehot(lab, nbre_of_classes)"
   ]
  },
  {
   "cell_type": "code",
   "execution_count": null,
   "metadata": {},
   "outputs": [],
   "source": [
    "m = nn.LogSoftmax(dim=1)\n",
    "loss = nn.NLLLoss()\n",
    "\n",
    "\n",
    "input = X\n",
    "\n",
    "target = y.max(dim=1)[1]\n",
    "target_onehot = y\n",
    "output = loss(m(input), target)\n",
    "print(m(input))\n",
    "print(output)\n",
    "print(cost_onehot(m(input), target_onehot) )\n"
   ]
  },
  {
   "cell_type": "markdown",
   "metadata": {},
   "source": [
    "# Assessing trained models:"
   ]
  },
  {
   "cell_type": "markdown",
   "metadata": {},
   "source": [
    "## Confusion matrix:"
   ]
  },
  {
   "cell_type": "code",
   "execution_count": null,
   "metadata": {},
   "outputs": [],
   "source": [
    "import seaborn as sn\n",
    "import pandas as pd\n",
    "\n",
    "\n",
    "## Loaded the list of indexes I already created:\n",
    "dictOfLabels = np.load(\"data_lists/labelsToNumberDict.npy\").item()\n",
    "\n",
    "## List of labels\n",
    "index = [0 for i in range (0, len(dictOfLabels))]\n",
    "\n",
    "## Putting the label in the right order\n",
    "for label, i in  dictOfLabels.items():\n",
    "    index[i] = label\n",
    "    \n",
    "print(index)\n",
    "print(' \\n')\n",
    "print(\"Number of different labels: {}\". format(len(index)))\n",
    "\n",
    "\n",
    "def confusion_matrix(model, dataloader, SincNetValid = False, size = len(index), name = \"Test\", cuda = True, index = index): \n",
    "    \n",
    "    model.eval()\n",
    "    \n",
    "    ## Iniotializes the confusion matrix:\n",
    "    mat = np.zeros([size,size])\n",
    "    total = 0\n",
    "    corr = 0\n",
    "    qty = [0]*size\n",
    "    \n",
    "    for inputs, labels in dataloader:\n",
    "        \n",
    "        if SincNetValid:\n",
    "            inputs = inputs[0]\n",
    "        \n",
    "        if cuda:\n",
    "            inputs = inputs.type(torch.cuda.FloatTensor)\n",
    "            labels = labels.type(torch.cuda.LongTensor)\n",
    "        \n",
    "        outputs = model(inputs)\n",
    "        _, predicted = torch.max(outputs.data, 1)\n",
    "        \n",
    "        total += labels.size(0)\n",
    "        \n",
    "        for k in range(labels.size(0)): # ground truth first (row) and then prediction (col)\n",
    "         # print(\"Here : \" +str(labels[k].item()) + \" ; \" + str(predicted[k].item()))\n",
    "            if(labels[k].item() == predicted[k].item()):\n",
    "                corr +=1\n",
    "            mat[labels[k].item(),predicted[k].item()]+=1\n",
    "            qty[labels[k].item()]+=1\n",
    "            \n",
    "    for k in range(size):\n",
    "        if(qty[k]!= 0):\n",
    "            mat[k] *= 1/qty[k]\n",
    "        \n",
    "    #model.train()\n",
    "    dataframe = pd.DataFrame(mat, index=index)\n",
    "    sn.set(font_scale=1)\n",
    "\n",
    "    fig=plt.figure(figsize=(15, 12), dpi= 400, facecolor='w', edgecolor='k')\n",
    "\n",
    "    \n",
    "    svm = sn.heatmap(dataframe, annot=False)\n",
    "    \n",
    "\n",
    "    figure = svm.get_figure()\n",
    "    figure.savefig('Images/Conf_Mat_' + name +'.png', dpi=400)\n",
    "    plt.show()\n",
    "    \n",
    "    ## Added the accuracy:\n",
    "    percentage = np.array([mat[i, i] for i in range(0, len(mat))]).sum()/mat.sum()\n",
    "    \n",
    "    print(\"The accuracy on this sample is: {}\".format(percentage))\n"
   ]
  },
  {
   "cell_type": "code",
   "execution_count": null,
   "metadata": {},
   "outputs": [],
   "source": [
    "class Net(nn.Module):\n",
    "\n",
    "    def __init__(self, CNN_net, DNN1_net, DNN2_net):\n",
    "        super(Net, self).__init__()\n",
    "        self.CNN_net  = CNN_net\n",
    "        self.DNN1_net = DNN1_net\n",
    "        self.DNN2_net = DNN2_net\n",
    "\n",
    "    def forward(self, x):\n",
    "        x = self.DNN2_net(self.DNN1_net(self.CNN_net(x)))\n",
    "        return x"
   ]
  },
  {
   "cell_type": "code",
   "execution_count": null,
   "metadata": {},
   "outputs": [],
   "source": [
    "net = Net(CNN_net, DNN1_net, DNN2_net)\n",
    "net.cuda()\n",
    "net.eval()"
   ]
  },
  {
   "cell_type": "code",
   "execution_count": null,
   "metadata": {},
   "outputs": [],
   "source": [
    "confusion_matrix(net, train_loader, SincNetValid = False, name=\"NTF_Energy_Window1000_p7_class41\")"
   ]
  }
 ],
 "metadata": {
  "kernelspec": {
   "display_name": "Python 3",
   "language": "python",
   "name": "python3"
  },
  "language_info": {
   "codemirror_mode": {
    "name": "ipython",
    "version": 3
   },
   "file_extension": ".py",
   "mimetype": "text/x-python",
   "name": "python",
   "nbconvert_exporter": "python",
   "pygments_lexer": "ipython3",
   "version": "3.6.9"
  }
 },
 "nbformat": 4,
 "nbformat_minor": 4
}
