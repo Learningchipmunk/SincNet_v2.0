{
 "cells": [
  {
   "cell_type": "markdown",
   "metadata": {},
   "source": [
    "# This is a newer version of SincNet with updated Loading and training functions"
   ]
  },
  {
   "cell_type": "code",
   "execution_count": 1,
   "metadata": {},
   "outputs": [],
   "source": [
    "import os\n",
    "import librosa \n",
    "import librosa.display\n",
    "import torch.nn as nn\n",
    "import torch.nn.functional as F\n",
    "import torch.optim as optim\n",
    "import torch.utils.data\n",
    "from torch.autograd import Variable\n",
    "import math\n",
    "\n",
    "import sys\n",
    "\n",
    "import numpy as np\n",
    "import matplotlib.pyplot as plt\n",
    "import tqdm"
   ]
  },
  {
   "cell_type": "code",
   "execution_count": 2,
   "metadata": {},
   "outputs": [],
   "source": [
    "## Local files imports:\n",
    "from Models import MLP, flip, MainNet\n",
    "from Models import SincNet as CNN \n",
    "from Models import SincNet2D as CNN2D\n",
    "from utils import Optimizers, Schedulers, Dataset, plot_grad_flow, NLLL_OneHot, InitOptimizer, test_2D_raise_or_run\n",
    "from read_conf_files import read_conf\n",
    "from ipython_exit import exit"
   ]
  },
  {
   "cell_type": "markdown",
   "metadata": {},
   "source": [
    "## Choosing Graphics Card"
   ]
  },
  {
   "cell_type": "code",
   "execution_count": 3,
   "metadata": {},
   "outputs": [
    {
     "name": "stdout",
     "output_type": "stream",
     "text": [
      "Selecting Cuda device... \t\tCuda was selected successfully!\n"
     ]
    }
   ],
   "source": [
    "Desired_cuda_device_number = 0\n",
    "\n",
    "print(\"Selecting Cuda device... \\t\\t\", end=\"\")\n",
    "if torch.cuda.is_available(): # we'll use cuda\n",
    "    device = \"cuda:\"+str(Desired_cuda_device_number)\n",
    "    torch.cuda.set_device(device)\n",
    "    if(torch.cuda.current_device() == Desired_cuda_device_number and torch.cuda.is_available()):\n",
    "        print(\"Cuda was selected successfully!\")\n",
    "    else:\n",
    "        print(\"Cuda was not selected successfully...\")\n",
    "else:\n",
    "    print(\"Cuda device(s) is(are) not available.\")"
   ]
  },
  {
   "cell_type": "markdown",
   "metadata": {},
   "source": [
    "## Loading the Model"
   ]
  },
  {
   "cell_type": "markdown",
   "metadata": {},
   "source": [
    "### Conf loader:\n",
    "\n",
    "[Link to documentation](https://docs.python.org/3/library/configparser.html)"
   ]
  },
  {
   "cell_type": "code",
   "execution_count": 4,
   "metadata": {},
   "outputs": [
    {
     "name": "stdout",
     "output_type": "stream",
     "text": [
      "`read_conf` was successfully imported from read_conf_files.py!\n"
     ]
    }
   ],
   "source": [
    "\"\"\"def read_conf(config_file_path):\n",
    "    # Removed the possibility of executing with --cfg = path\n",
    "    # Instead we feed it directly\n",
    "\n",
    "    # Initializing dummy class with cfg folder path:\n",
    "    options = Options(config_file_path)\n",
    "\n",
    "    # Reading the config file with config parser\n",
    "    Config = ConfigParser.ConfigParser()\n",
    "    Config.read(options.cfg)\n",
    "\n",
    "    #[data]\n",
    "    options.tr_lst=Config.get('data', 'tr_lst')\n",
    "    options.te_lst=Config.get('data', 'te_lst')\n",
    "    options.lab_dict=Config.get('data', 'lab_dict')\n",
    "    options.data_folder=Config.get('data', 'data_folder')\n",
    "    options.output_folder=Config.get('data', 'output_folder')\n",
    "    options.pt_file=Config.get('data', 'pt_file')\n",
    "\n",
    "    #[windowing]\n",
    "    options.fs=Config.get('windowing', 'fs')\n",
    "    options.cw_len=Config.get('windowing', 'cw_len')\n",
    "    options.cw_shift=Config.get('windowing', 'cw_shift')\n",
    "\n",
    "    if('cnn2D' in Config.sections()):\n",
    "        #[cnn2D]\n",
    "        options.is_conv2D = True\n",
    "        options.cnn_N_filt=Config.get('cnn2D', 'cnn_N_filt')\n",
    "        options.cnn_len_filt_W=Config.get('cnn2D', 'cnn_len_filt_W')\n",
    "        options.cnn_len_filt_H=Config.get('cnn2D', 'cnn_len_filt_H')\n",
    "        options.cnn_energy_L=Config.get('cnn2D', 'cnn_energy_L')\n",
    "        options.cnn_energy_stride=Config.get('cnn2D', 'cnn_energy_stride')\n",
    "        options.cnn_max_pool_len_W=Config.get('cnn2D', 'cnn_max_pool_len_W')\n",
    "        options.cnn_max_pool_len_H=Config.get('cnn2D', 'cnn_max_pool_len_H')\n",
    "        options.cnn_use_laynorm_inp=Config.get('cnn2D', 'cnn_use_laynorm_inp')\n",
    "        options.cnn_use_batchnorm_inp=Config.get('cnn2D', 'cnn_use_batchnorm_inp')\n",
    "        options.cnn_use_laynorm=Config.get('cnn2D', 'cnn_use_laynorm')\n",
    "        options.cnn_use_batchnorm=Config.get('cnn2D', 'cnn_use_batchnorm')\n",
    "        options.cnn_act=Config.get('cnn2D', 'cnn_act')\n",
    "        options.cnn_drop=Config.get('cnn2D', 'cnn_drop')\n",
    "    else:\n",
    "        #[cnn]\n",
    "        options.is_conv2D = False\n",
    "        options.cnn_N_filt=Config.get('cnn', 'cnn_N_filt')\n",
    "        options.cnn_len_filt=Config.get('cnn', 'cnn_len_filt')\n",
    "        options.cnn_max_pool_len=Config.get('cnn', 'cnn_max_pool_len')\n",
    "        options.cnn_use_laynorm_inp=Config.get('cnn', 'cnn_use_laynorm_inp')\n",
    "        options.cnn_use_batchnorm_inp=Config.get('cnn', 'cnn_use_batchnorm_inp')\n",
    "        options.cnn_use_laynorm=Config.get('cnn', 'cnn_use_laynorm')\n",
    "        options.cnn_use_batchnorm=Config.get('cnn', 'cnn_use_batchnorm')\n",
    "        options.cnn_act=Config.get('cnn', 'cnn_act')\n",
    "        options.cnn_drop=Config.get('cnn', 'cnn_drop')\n",
    "\n",
    "\n",
    "    #[dnn]\n",
    "    options.fc_lay=Config.get('dnn', 'fc_lay')\n",
    "    options.fc_drop=Config.get('dnn', 'fc_drop')\n",
    "    options.fc_use_laynorm_inp=Config.get('dnn', 'fc_use_laynorm_inp')\n",
    "    options.fc_use_batchnorm_inp=Config.get('dnn', 'fc_use_batchnorm_inp')\n",
    "    options.fc_use_batchnorm=Config.get('dnn', 'fc_use_batchnorm')\n",
    "    options.fc_use_laynorm=Config.get('dnn', 'fc_use_laynorm')\n",
    "    options.fc_act=Config.get('dnn', 'fc_act')\n",
    "\n",
    "    #[class]\n",
    "    options.class_lay=Config.get('class', 'class_lay')\n",
    "    options.class_drop=Config.get('class', 'class_drop')\n",
    "    options.class_use_laynorm_inp=Config.get('class', 'class_use_laynorm_inp')\n",
    "    options.class_use_batchnorm_inp=Config.get('class', 'class_use_batchnorm_inp')\n",
    "    options.class_use_batchnorm=Config.get('class', 'class_use_batchnorm')\n",
    "    options.class_use_laynorm=Config.get('class', 'class_use_laynorm')\n",
    "    options.class_act=Config.get('class', 'class_act')\n",
    "\n",
    "    #[optimization]\n",
    "    if('optimization' in Config.sections()):\n",
    "        if 'optimizer_type' in Config['optimization']:\n",
    "            options.optimizer_type=Config.get('optimization', 'optimizer_type')\n",
    "        else:\n",
    "            options.optimizer_type='RMSprop'\n",
    "            print(\"You did not specify the value of `optimizer_type`, it is set to {}.\".format(options.optimizer_type))\n",
    "        \n",
    "        options.lr=Config.get('optimization', 'lr')\n",
    "\n",
    "        ## use_scheduler:\n",
    "        if 'use_scheduler' in Config['optimization']:\n",
    "            options.use_scheduler=Config.get('optimization', 'use_scheduler')\n",
    "        else:\n",
    "            print(\"You did not specify the value of `use_scheduler`, it is set to False.\")\n",
    "            options.use_scheduler='False'\n",
    "\n",
    "        ## scheduler_type:\n",
    "        if 'scheduler_type' in Config['optimization']:\n",
    "            options.scheduler_type=Config.get('optimization', 'scheduler_type')\n",
    "        else:\n",
    "            options.scheduler_type='ReduceLROnPlateau'\n",
    "            print(\"You did not specify the value of `scheduler_type`, it is set to {}.\".format(options.scheduler_type))    \n",
    "        \n",
    "        ## scheduler_patience:\n",
    "        if 'scheduler_patience' in Config['optimization']:\n",
    "            options.scheduler_patience=Config.get('optimization', 'scheduler_patience')\n",
    "        else:\n",
    "            options.scheduler_patience=2\n",
    "            print(\"You did not specify the value of `scheduler_patience`, it is set to {}.\".format(options.scheduler_patience))\n",
    "\n",
    "        ## scheduler_factor:\n",
    "        if 'scheduler_factor' in Config['optimization']:\n",
    "            options.scheduler_factor=Config.get('optimization', 'scheduler_factor')\n",
    "        else:\n",
    "            options.scheduler_factor=0.5\n",
    "            print(\"You did not specify the value of `scheduler_factor`, it is set to {}.\".format(options.scheduler_factor))\n",
    "\n",
    "\n",
    "        options.batch_size=Config.get('optimization', 'batch_size')\n",
    "\n",
    "        ## Batch_dev:\n",
    "        if 'Batch_dev' in Config['optimization']:\n",
    "            options.Batch_dev=Config.get('optimization', 'Batch_dev')\n",
    "        else:\n",
    "            options.Batch_dev=32\n",
    "            print(\"You did not specify the value of `Batch_dev`, it is set to {}.\".format(options.Batch_dev))\n",
    "\n",
    "        ## patience:\n",
    "        if 'patience' in Config['optimization']:\n",
    "            options.patience=Config.get('optimization', 'patience')\n",
    "        else:\n",
    "            print(\"You did not specify the value of `patience`, it is set to 7.\")\n",
    "            options.patience=7\n",
    "\n",
    "        options.N_epochs=Config.get('optimization', 'N_epochs')\n",
    "        options.N_batches=Config.get('optimization', 'N_batches')\n",
    "        options.N_eval_epoch=Config.get('optimization', 'N_eval_epoch')\n",
    "        \n",
    "        ## train_acc_period:\n",
    "        if 'train_acc_period' in Config['optimization']:\n",
    "                options.train_acc_period=Config.get('optimization', 'train_acc_period')\n",
    "        else:\n",
    "            print(\"You did not specify the value of `train_acc_period`, it is set to 5.\")\n",
    "            options.train_acc_period=5\n",
    "        \n",
    "        ## fact_amp:        \n",
    "        if 'fact_amp' in Config['optimization']:\n",
    "                options.fact_amp=Config.get('optimization', 'fact_amp')\n",
    "        else:\n",
    "            options.fact_amp=0.2\n",
    "            print(\"You did not specify the value of `fact_amp`, it is set to {}.\".format(options.fact_amp))\n",
    "        \n",
    "        ## use_mixup:\n",
    "        if 'use_mixup' in Config['optimization']:\n",
    "            options.use_mixup=Config.get('optimization', 'use_mixup')\n",
    "        else:\n",
    "            print(\"You did not specify the value of `use_mixup`, it is set to False.\")\n",
    "            options.use_mixup='False'\n",
    "        \n",
    "        ## mixup_batch_prop:        \n",
    "        if 'mixup_batch_prop' in Config['optimization']:\n",
    "            options.mixup_batch_prop=Config.get('optimization', 'mixup_batch_prop')\n",
    "        else:\n",
    "            options.mixup_batch_prop=float(1.0) if options.use_mixup=='True' else float(0.0)\n",
    "            print(\"You did not specify the value of `mixup_batch_prop`, it is set to {}%.\".format(options.mixup_batch_prop*100))\n",
    "        \n",
    "        ## beta_coef:\n",
    "        if 'beta_coef' in Config['optimization']:\n",
    "            options.beta_coef=Config.get('optimization', 'beta_coef')\n",
    "        else:\n",
    "            print(\"You did not specify the value of `beta_coef`, it is set to 0.4.\")\n",
    "            options.beta_coef=0.4\n",
    "        \n",
    "        ## same_classes:        \n",
    "        if 'same_classes' in Config['optimization']:\n",
    "            options.same_classes=Config.get('optimization', 'same_classes')\n",
    "        else:\n",
    "            options.same_classes='False'\n",
    "            print(\"You did not specify the value of `same_classes`, it is set to {}.\".format(options.same_classes))\n",
    "            if(\"True\" in options.use_mixup):\n",
    "                print(\"Warning: you are using mixup but you did not mention which type in config file. \\n\"+\n",
    "                    \"By default it will be set to False. You are advised to add a same_class attribute to your cfg file and set it to True or False.\")    \n",
    "\n",
    "            \n",
    "        options.seed=Config.get('optimization', 'seed')\n",
    "    else:\n",
    "        print(\"Error, you did not specify optimization parameters in your cfg. Consequently, the code won't run...\")\n",
    "        \n",
    "    #[Misc]\n",
    "    ## In SincNet, we must always use SincConv_fast, it is the whole point of SincNet. But, just for testing, we added the possibility to deactivate it. \n",
    "    ## This is why we do not prompt the user if he does not have a `Misc`section.\n",
    "    options.use_SincConv_fast='True'\n",
    "    if('Misc' in Config.sections()):\n",
    "        ## use_SincConv_fast:        \n",
    "        if 'use_SincConv_fast' in Config['Misc']:\n",
    "            options.use_SincConv_fast=Config.get('Misc', 'use_SincConv_fast')\n",
    "        else:\n",
    "            print(\"You did not specify the value of `use_SincConv_fast`, but don't worry, it is set to {}.\".format(options.use_SincConv_fast))\n",
    "\n",
    "\n",
    "    return options\n",
    "\"\"\"\n",
    "\n",
    "## read_conf is now imported from read_conf_files.py:\n",
    "imported = \"`read_conf` was successfully imported from read_conf_files.py!\" if 'read_conf' in dir() else \"read_conf was not successfully imported from read_conf_files.py!\"\n",
    "print(imported)"
   ]
  },
  {
   "cell_type": "code",
   "execution_count": 5,
   "metadata": {},
   "outputs": [
    {
     "name": "stdout",
     "output_type": "stream",
     "text": [
      "You did not specify the value of `scheduler_type`, it is set to ReduceLROnPlateau.\n",
      "exp/SincNet_DCASE_v2.0/test\n",
      "Data/Audio_Tensors/Train/Preprocessed_withEnergy_AudioTensors_Window1000ms_Random0Padding/\n"
     ]
    }
   ],
   "source": [
    "# Config path location\n",
    "config_file_path = \"cfg/test.cfg\"\n",
    "\n",
    "# Reading cfg file and storing its parameters into options :\n",
    "options=read_conf(config_file_path)\n",
    "\n",
    "print(options.output_folder)\n",
    "print(options.data_folder)\n"
   ]
  },
  {
   "cell_type": "markdown",
   "metadata": {},
   "source": [
    "### Getting and storing all the info from the config file:"
   ]
  },
  {
   "cell_type": "code",
   "execution_count": 6,
   "metadata": {},
   "outputs": [],
   "source": [
    "## Here are the config data processing functions used in data_io:\n",
    "\n",
    "# Converts string to bool:\n",
    "def str_to_bool(s):\n",
    "    if s == 'True':\n",
    "         return True\n",
    "    elif s == 'False':\n",
    "         return False\n",
    "    else:\n",
    "         raise ValueError \n",
    "\n"
   ]
  },
  {
   "cell_type": "code",
   "execution_count": 7,
   "metadata": {},
   "outputs": [
    {
     "name": "stdout",
     "output_type": "stream",
     "text": [
      "The file contains the config of a 1D convolutional network.\n"
     ]
    }
   ],
   "source": [
    "\n",
    "#[data]\n",
    "tr_lst=options.tr_lst\n",
    "te_lst=options.te_lst\n",
    "pt_file=options.pt_file\n",
    "class_dict_file=options.lab_dict\n",
    "data_folder=options.data_folder\n",
    "output_folder=options.output_folder\n",
    "\n",
    "#[windowing]\n",
    "fs=int(options.fs)\n",
    "cw_len=int(options.cw_len)\n",
    "cw_shift=int(options.cw_shift)\n",
    "\n",
    "is_conv2D = options.is_conv2D\n",
    "conv_type = '2D' if is_conv2D else '1D'\n",
    "print(\"The file contains the config of a {} convolutional network.\".format(conv_type))\n",
    "if is_conv2D:\n",
    "    #[cnn2D]\n",
    "    cnn_N_filt=list(map(int, options.cnn_N_filt.split(',')))\n",
    "    cnn_len_filt_W=list(map(int, options.cnn_len_filt_W.split(',')))\n",
    "    cnn_len_filt_H=list(map(int, options.cnn_len_filt_H.split(',')))\n",
    "    cnn_energy_L=int(options.cnn_energy_L)\n",
    "    cnn_energy_stride=int(options.cnn_energy_stride)\n",
    "    cnn_max_pool_len_W=list(map(int, options.cnn_max_pool_len_W.split(',')))\n",
    "    cnn_max_pool_len_H=list(map(int, options.cnn_max_pool_len_H.split(',')))\n",
    "else:\n",
    "    #[cnn]\n",
    "    cnn_N_filt=list(map(int, options.cnn_N_filt.split(',')))\n",
    "    cnn_len_filt=list(map(int, options.cnn_len_filt.split(',')))\n",
    "    cnn_max_pool_len=list(map(int, options.cnn_max_pool_len.split(',')))\n",
    "\n",
    "cnn_use_laynorm_inp=str_to_bool(options.cnn_use_laynorm_inp)\n",
    "cnn_use_batchnorm_inp=str_to_bool(options.cnn_use_batchnorm_inp)\n",
    "cnn_use_laynorm=list(map(str_to_bool, options.cnn_use_laynorm.split(',')))\n",
    "cnn_use_batchnorm=list(map(str_to_bool, options.cnn_use_batchnorm.split(',')))\n",
    "cnn_act=list(map(str, options.cnn_act.split(',')))\n",
    "cnn_drop=list(map(float, options.cnn_drop.split(',')))\n",
    "\n",
    "    \n",
    "\n",
    "#[dnn]\n",
    "fc_lay=list(map(int, options.fc_lay.split(',')))\n",
    "fc_drop=list(map(float, options.fc_drop.split(',')))\n",
    "fc_use_laynorm_inp=str_to_bool(options.fc_use_laynorm_inp)\n",
    "fc_use_batchnorm_inp=str_to_bool(options.fc_use_batchnorm_inp)\n",
    "fc_use_batchnorm=list(map(str_to_bool, options.fc_use_batchnorm.split(',')))\n",
    "fc_use_laynorm=list(map(str_to_bool, options.fc_use_laynorm.split(',')))\n",
    "fc_act=list(map(str, options.fc_act.split(',')))\n",
    "\n",
    "#[class]\n",
    "class_lay=list(map(int, options.class_lay.split(',')))\n",
    "class_drop=list(map(float, options.class_drop.split(',')))\n",
    "class_use_laynorm_inp=str_to_bool(options.class_use_laynorm_inp)\n",
    "class_use_batchnorm_inp=str_to_bool(options.class_use_batchnorm_inp)\n",
    "class_use_batchnorm=list(map(str_to_bool, options.class_use_batchnorm.split(',')))\n",
    "class_use_laynorm=list(map(str_to_bool, options.class_use_laynorm.split(',')))\n",
    "class_act=list(map(str, options.class_act.split(',')))\n",
    "\n",
    "\n",
    "#[optimization]\n",
    "optimizer_type=str(options.optimizer_type)\n",
    "lr=float(options.lr)\n",
    "use_scheduler = str_to_bool(options.use_scheduler)\n",
    "scheduler_patience = int(options.scheduler_patience)\n",
    "scheduler_factor = float(options.scheduler_factor)\n",
    "batch_size=int(options.batch_size)\n",
    "Batch_dev=int(options.Batch_dev)\n",
    "patience=int(options.patience)\n",
    "N_epochs=int(options.N_epochs)\n",
    "N_batches=int(options.N_batches)\n",
    "N_eval_epoch=int(options.N_eval_epoch)\n",
    "train_acc_period=int(options.train_acc_period)\n",
    "fact_amp=float(options.fact_amp)\n",
    "use_mixup=str_to_bool(options.use_mixup)\n",
    "beta_coef=float(options.beta_coef)\n",
    "mixup_batch_prop=float(options.mixup_batch_prop)\n",
    "same_classes=str_to_bool(options.same_classes)\n",
    "seed=int(options.seed)\n",
    "\n",
    "\n",
    "#[Misc]\n",
    "use_SincConv_fast = str_to_bool(options.use_SincConv_fast)\n",
    "\n",
    "## The location of all the wav files are stored here:\n",
    "# training list\n",
    "tensors_lst_tr = np.load(tr_lst)\n",
    "snt_tr=len(tensors_lst_tr)\n",
    "\n",
    "# test list\n",
    "tensors_lst_te = np.load(te_lst)\n",
    "snt_te=len(tensors_lst_te)\n"
   ]
  },
  {
   "cell_type": "markdown",
   "metadata": {},
   "source": [
    "### Creates the out folder and initializes the networks with cfg file info:"
   ]
  },
  {
   "cell_type": "code",
   "execution_count": 8,
   "metadata": {},
   "outputs": [
    {
     "data": {
      "text/plain": [
       "MLP(\n",
       "  (wx): ModuleList(\n",
       "    (0): Linear(in_features=512, out_features=41, bias=True)\n",
       "  )\n",
       "  (bn): ModuleList(\n",
       "    (0): BatchNorm1d(41, eps=1e-05, momentum=0.05, affine=True, track_running_stats=True)\n",
       "  )\n",
       "  (ln): ModuleList(\n",
       "    (0): LayerNorm()\n",
       "  )\n",
       "  (act): ModuleList(\n",
       "    (0): LogSoftmax()\n",
       "  )\n",
       "  (drop): ModuleList(\n",
       "    (0): Dropout(p=0.0)\n",
       "  )\n",
       ")"
      ]
     },
     "execution_count": 8,
     "metadata": {},
     "output_type": "execute_result"
    }
   ],
   "source": [
    "\n",
    "# Folder creation\n",
    "if not os.path.exists(output_folder):\n",
    "    os.makedirs(output_folder)\n",
    " \n",
    "    \n",
    "    \n",
    "# setting seed\n",
    "torch.manual_seed(seed)\n",
    "np.random.seed(seed)\n",
    "\n",
    "# loss function\n",
    "cost = nn.NLLLoss()\n",
    "\n",
    "\n",
    "  \n",
    "# Converting context and shift in samples\n",
    "wlen=int(fs*cw_len/1000.00)\n",
    "wshift=int(fs*cw_shift/1000.00)\n",
    "\n",
    "\n",
    "\n",
    "# Feature extractor CNN\n",
    "if is_conv2D:\n",
    "    CNN_arch = {'input_dim': wlen,\n",
    "            'fs': fs,\n",
    "            'cnn_N_filt': cnn_N_filt,\n",
    "            'cnn_len_filt_W': cnn_len_filt_W,\n",
    "            'cnn_len_filt_H': cnn_len_filt_H,\n",
    "            'cnn_energy_L': cnn_energy_L,\n",
    "            'cnn_energy_stride': cnn_energy_stride,\n",
    "            'cnn_max_pool_len_W': cnn_max_pool_len_W,\n",
    "            'cnn_max_pool_len_H': cnn_max_pool_len_H,\n",
    "            'cnn_use_laynorm_inp': cnn_use_laynorm_inp,\n",
    "            'cnn_use_batchnorm_inp': cnn_use_batchnorm_inp,\n",
    "            'cnn_use_laynorm':cnn_use_laynorm,\n",
    "            'cnn_use_batchnorm':cnn_use_batchnorm,\n",
    "            'cnn_act': cnn_act,\n",
    "            'cnn_drop':cnn_drop,\n",
    "            'use_SincConv_fast': use_SincConv_fast,          \n",
    "            }\n",
    "else:\n",
    "    CNN_arch = {'input_dim': wlen,\n",
    "            'fs': fs,\n",
    "            'cnn_N_filt': cnn_N_filt,\n",
    "            'cnn_len_filt': cnn_len_filt,\n",
    "            'cnn_max_pool_len':cnn_max_pool_len,\n",
    "            'cnn_use_laynorm_inp': cnn_use_laynorm_inp,\n",
    "            'cnn_use_batchnorm_inp': cnn_use_batchnorm_inp,\n",
    "            'cnn_use_laynorm':cnn_use_laynorm,\n",
    "            'cnn_use_batchnorm':cnn_use_batchnorm,\n",
    "            'cnn_act': cnn_act,\n",
    "            'cnn_drop':cnn_drop,\n",
    "            'use_SincConv_fast': use_SincConv_fast,                      \n",
    "            }\n",
    "\n",
    "## Initializes SincNet:\n",
    "CNN_net=CNN2D(CNN_arch) if is_conv2D else CNN(CNN_arch)\n",
    "CNN_net.cuda()\n",
    "\n",
    "# Loading label dictionary\n",
    "lab_dict=np.load(class_dict_file).item()\n",
    "\n",
    "\n",
    "## First DNN, follows the config from the section [dnn] in .cfg file\n",
    "DNN1_arch = {'input_dim': CNN_net.out_dim,\n",
    "          'fc_lay': fc_lay,\n",
    "          'fc_drop': fc_drop, \n",
    "          'fc_use_batchnorm': fc_use_batchnorm,\n",
    "          'fc_use_laynorm': fc_use_laynorm,\n",
    "          'fc_use_laynorm_inp': fc_use_laynorm_inp,\n",
    "          'fc_use_batchnorm_inp':fc_use_batchnorm_inp,\n",
    "          'fc_act': fc_act,\n",
    "          }\n",
    "\n",
    "DNN1_net=MLP(DNN1_arch)\n",
    "DNN1_net.cuda()\n",
    "\n",
    "## Last trainable layer, has softmax as activation function see section [class] in .cfg\n",
    "DNN2_arch = {'input_dim':fc_lay[-1] ,\n",
    "          'fc_lay': class_lay,\n",
    "          'fc_drop': class_drop, \n",
    "          'fc_use_batchnorm': class_use_batchnorm,\n",
    "          'fc_use_laynorm': class_use_laynorm,\n",
    "          'fc_use_laynorm_inp': class_use_laynorm_inp,\n",
    "          'fc_use_batchnorm_inp':class_use_batchnorm_inp,\n",
    "          'fc_act': class_act,\n",
    "          }\n",
    "\n",
    "\n",
    "DNN2_net=MLP(DNN2_arch)\n",
    "DNN2_net.cuda()\n",
    "\n",
    "\n"
   ]
  },
  {
   "cell_type": "markdown",
   "metadata": {},
   "source": [
    "### Creates the main net:"
   ]
  },
  {
   "cell_type": "code",
   "execution_count": 9,
   "metadata": {},
   "outputs": [
    {
     "data": {
      "text/plain": [
       "MainNet(\n",
       "  (CNN_net): SincNet(\n",
       "    (conv): ModuleList(\n",
       "      (0): SincConv_fast()\n",
       "      (1): Conv1d(80, 60, kernel_size=(5,), stride=(1,))\n",
       "      (2): Conv1d(60, 60, kernel_size=(5,), stride=(1,))\n",
       "      (3): Conv1d(60, 60, kernel_size=(5,), stride=(1,))\n",
       "    )\n",
       "    (bn): ModuleList(\n",
       "      (0): BatchNorm1d(80, eps=8450, momentum=0.05, affine=True, track_running_stats=True)\n",
       "      (1): BatchNorm1d(60, eps=2815, momentum=0.05, affine=True, track_running_stats=True)\n",
       "      (2): BatchNorm1d(60, eps=937, momentum=0.05, affine=True, track_running_stats=True)\n",
       "      (3): BatchNorm1d(60, eps=311, momentum=0.05, affine=True, track_running_stats=True)\n",
       "    )\n",
       "    (ln): ModuleList(\n",
       "      (0): LayerNorm()\n",
       "      (1): LayerNorm()\n",
       "      (2): LayerNorm()\n",
       "      (3): LayerNorm()\n",
       "    )\n",
       "    (act): ModuleList(\n",
       "      (0): LeakyReLU(negative_slope=0.2)\n",
       "      (1): LeakyReLU(negative_slope=0.2)\n",
       "      (2): LeakyReLU(negative_slope=0.2)\n",
       "      (3): LeakyReLU(negative_slope=0.2)\n",
       "    )\n",
       "    (drop): ModuleList(\n",
       "      (0): Dropout(p=0.0)\n",
       "      (1): Dropout(p=0.0)\n",
       "      (2): Dropout(p=0.0)\n",
       "      (3): Dropout(p=0.0)\n",
       "    )\n",
       "    (ln0): LayerNorm()\n",
       "  )\n",
       "  (DNN1_net): MLP(\n",
       "    (wx): ModuleList(\n",
       "      (0): Linear(in_features=18660, out_features=1516, bias=True)\n",
       "      (1): Linear(in_features=1516, out_features=1024, bias=True)\n",
       "      (2): Linear(in_features=1024, out_features=512, bias=True)\n",
       "    )\n",
       "    (bn): ModuleList(\n",
       "      (0): BatchNorm1d(1516, eps=1e-05, momentum=0.05, affine=True, track_running_stats=True)\n",
       "      (1): BatchNorm1d(1024, eps=1e-05, momentum=0.05, affine=True, track_running_stats=True)\n",
       "      (2): BatchNorm1d(512, eps=1e-05, momentum=0.05, affine=True, track_running_stats=True)\n",
       "    )\n",
       "    (ln): ModuleList(\n",
       "      (0): LayerNorm()\n",
       "      (1): LayerNorm()\n",
       "      (2): LayerNorm()\n",
       "    )\n",
       "    (act): ModuleList(\n",
       "      (0): PReLU(num_parameters=1)\n",
       "      (1): PReLU(num_parameters=1)\n",
       "      (2): PReLU(num_parameters=1)\n",
       "    )\n",
       "    (drop): ModuleList(\n",
       "      (0): Dropout(p=0.3)\n",
       "      (1): Dropout(p=0.3)\n",
       "      (2): Dropout(p=0.3)\n",
       "    )\n",
       "    (ln0): LayerNorm()\n",
       "  )\n",
       "  (DNN2_net): MLP(\n",
       "    (wx): ModuleList(\n",
       "      (0): Linear(in_features=512, out_features=41, bias=True)\n",
       "    )\n",
       "    (bn): ModuleList(\n",
       "      (0): BatchNorm1d(41, eps=1e-05, momentum=0.05, affine=True, track_running_stats=True)\n",
       "    )\n",
       "    (ln): ModuleList(\n",
       "      (0): LayerNorm()\n",
       "    )\n",
       "    (act): ModuleList(\n",
       "      (0): LogSoftmax()\n",
       "    )\n",
       "    (drop): ModuleList(\n",
       "      (0): Dropout(p=0.0)\n",
       "    )\n",
       "  )\n",
       ")"
      ]
     },
     "execution_count": 9,
     "metadata": {},
     "output_type": "execute_result"
    }
   ],
   "source": [
    "Main_net = MainNet(CNN_net, DNN1_net, DNN2_net)\n",
    "Main_net.cuda()"
   ]
  },
  {
   "cell_type": "markdown",
   "metadata": {},
   "source": [
    "### Testing our dataset variant:\n",
    "\n",
    ">We use the saved tensors file on Hard Disk to save RAM. Has Random chunk generator and mixup implemented(see training fun)."
   ]
  },
  {
   "cell_type": "code",
   "execution_count": 10,
   "metadata": {},
   "outputs": [],
   "source": [
    "## Creating the datasets:\n",
    "\n",
    "train_dataset      = Dataset(tensors_lst_tr, lab_dict, data_folder, wlen, fact_amp = fact_amp, wshift = 0, using_mixup=use_mixup, beta_coef=beta_coef, mixup_prop=mixup_batch_prop, sameClasses = same_classes, train = True, is_fastai=False)\n",
    "valid_dataset      = Dataset(tensors_lst_te, lab_dict, data_folder, wlen, fact_amp = 0, wshift = wshift, train = False, is_fastai=False)\n",
    "# dataset for confusion matrix:\n",
    "#valid_dataset_conf = Dataset(tensors_lst_te, lab_dict, data_folder, wlen, 0.2, wshift = wshift, eval_mode= True, train = False)\n"
   ]
  },
  {
   "cell_type": "code",
   "execution_count": 11,
   "metadata": {},
   "outputs": [
    {
     "name": "stdout",
     "output_type": "stream",
     "text": [
      "(tensor([-0.1079, -0.0110,  0.1376,  ...,  0.0109, -0.0312,  0.0203]), 30)\n"
     ]
    }
   ],
   "source": [
    "print(train_dataset.get_item_randomly())"
   ]
  },
  {
   "cell_type": "code",
   "execution_count": 12,
   "metadata": {},
   "outputs": [],
   "source": [
    "#print(valid_dataset.tensor_by_class_dict)\n",
    "#print(valid_dataset.list_IDs_chunks)"
   ]
  },
  {
   "cell_type": "markdown",
   "metadata": {},
   "source": [
    "#### Setting up the dataloaders for training dataset and validation dataset:"
   ]
  },
  {
   "cell_type": "code",
   "execution_count": 13,
   "metadata": {},
   "outputs": [],
   "source": [
    "## Setting up the loaders:\n",
    "train_loader = torch.utils.data.DataLoader(dataset=train_dataset,\n",
    "                                          batch_size=batch_size,\n",
    "                                          shuffle=True)\n",
    "\n",
    "## Batchsize can only be 1 for valid_loader because each tensor has a different shape...\n",
    "valid_loader  = torch.utils.data.DataLoader(dataset=valid_dataset,\n",
    "                                          batch_size=Batch_dev,\n",
    "                                          shuffle=False)"
   ]
  },
  {
   "cell_type": "markdown",
   "metadata": {},
   "source": [
    "##### Tests:"
   ]
  },
  {
   "cell_type": "code",
   "execution_count": 14,
   "metadata": {},
   "outputs": [
    {
     "name": "stdout",
     "output_type": "stream",
     "text": [
      "tensor([[-0.0175,  0.0365,  0.1049,  ...,  0.0056,  0.0070,  0.0067],\n",
      "        [ 0.3105,  0.2418,  0.1631,  ..., -0.1060, -0.0816, -0.0943],\n",
      "        [ 0.1206,  0.0978,  0.0496,  ..., -0.0176, -0.0174, -0.0167],\n",
      "        ...,\n",
      "        [ 0.2094,  0.2054,  0.2000,  ..., -0.0005, -0.0004, -0.0005],\n",
      "        [ 0.0908,  0.0901,  0.0816,  ...,  0.2116,  0.2482,  0.2648],\n",
      "        [-0.1312, -0.1311, -0.1316,  ...,  0.0000,  0.0000,  0.0000]]) tensor([ 3, 37,  8, 11, 26,  7,  4,  5,  1,  1,  2, 38, 10, 14,  6,  1,  2, 26,\n",
      "        17,  1,  2, 29, 15, 15, 14,  0,  4, 40, 35,  5, 15, 21])\n",
      "torch.Size([32, 25600])\n",
      "32\n"
     ]
    }
   ],
   "source": [
    "if(use_mixup):\n",
    "    X, labels, used_mixup = next(iter(train_loader))\n",
    "    print(used_mixup.sum().item()/X.size(0))# batch_size = X.size(0)\n",
    "else:\n",
    "    X, labels = next(iter(train_loader))\n",
    "\n",
    "print(X, labels)\n",
    "print(X.shape)\n",
    "print(X.shape[0])\n"
   ]
  },
  {
   "cell_type": "code",
   "execution_count": 15,
   "metadata": {},
   "outputs": [
    {
     "name": "stdout",
     "output_type": "stream",
     "text": [
      "tensor([[-0.1218, -0.1462, -0.1257,  ..., -0.2727, -0.3080, -0.3364],\n",
      "        [ 0.1029,  0.0696,  0.0426,  ...,  0.1946,  0.1648,  0.1294],\n",
      "        [-0.2260, -0.2151, -0.1955,  ..., -0.1181, -0.1349, -0.1238],\n",
      "        ...,\n",
      "        [-0.1387, -0.1330, -0.1819,  ..., -0.0331, -0.0456, -0.0531],\n",
      "        [ 0.0393,  0.0207,  0.0356,  ...,  0.1600,  0.1813,  0.1893],\n",
      "        [ 0.0207, -0.1766, -0.1892,  ..., -0.0103, -0.0624, -0.0856]]) \n",
      " tensor([33, 33, 33, 33, 33, 33, 33, 33, 33, 33, 33, 33, 33, 38, 38, 38, 38, 38,\n",
      "        38, 38, 38, 38, 38, 38, 38, 38, 38, 38, 38, 38, 38, 38])\n",
      "torch.Size([32, 25600])\n",
      "torch.Size([32])\n",
      "tensor([0, 0, 0, 0, 0, 0, 0, 0, 0, 0, 0, 0, 0, 1, 1, 1, 1, 1, 1, 1, 1, 1, 1, 1,\n",
      "        1, 1, 1, 1, 1, 1, 1, 1])\n"
     ]
    }
   ],
   "source": [
    "X_valid, labels_valid, tensor_ids = next(iter(valid_loader))\n",
    "print(X_valid, \"\\n\", labels_valid)\n",
    "print(X_valid.shape)\n",
    "print(labels_valid.shape)\n",
    "print(tensor_ids)"
   ]
  },
  {
   "cell_type": "code",
   "execution_count": 16,
   "metadata": {},
   "outputs": [
    {
     "name": "stdout",
     "output_type": "stream",
     "text": [
      "[13, 19]\n"
     ]
    },
    {
     "data": {
      "text/plain": [
       "[0, 1]"
      ]
     },
     "execution_count": 16,
     "metadata": {},
     "output_type": "execute_result"
    }
   ],
   "source": [
    "## Algorithm that detects a shift in file and stores the index of first appearence in list:\n",
    "section = []\n",
    "ids_list = []\n",
    "current_idx = tensor_ids[0].item()\n",
    "ids_list.append(current_idx)\n",
    "for i, el in enumerate(tensor_ids):\n",
    "    current_el = el.item()\n",
    "    if current_el != current_idx:\n",
    "        current_idx = current_el\n",
    "        ids_list.append(current_idx)\n",
    "        section.append(i - sum(section))\n",
    "\n",
    "## Last section is added:    \n",
    "section.append(X.size(0) - sum(section))\n",
    "print(section)\n",
    "ids_list"
   ]
  },
  {
   "cell_type": "code",
   "execution_count": 17,
   "metadata": {},
   "outputs": [
    {
     "data": {
      "text/plain": [
       "0.12969830400000001"
      ]
     },
     "execution_count": 17,
     "metadata": {},
     "output_type": "execute_result"
    }
   ],
   "source": [
    "torch.cuda.memory_allocated('cuda') * 1.e-9"
   ]
  },
  {
   "cell_type": "markdown",
   "metadata": {},
   "source": [
    "## Plotting training set Spectrograms (Only for SincNet2D): "
   ]
  },
  {
   "cell_type": "code",
   "execution_count": 18,
   "metadata": {},
   "outputs": [
    {
     "name": "stdout",
     "output_type": "stream",
     "text": [
      "Raising exception and exiting cell.\n"
     ]
    },
    {
     "ename": "Exception",
     "evalue": "The current Network is not `SincNet2D` therefore the code won't be able to run! \nExited cell safely.",
     "output_type": "error",
     "traceback": [
      "\u001b[0;31m---------------------------------------------------------------------------\u001b[0m",
      "\u001b[0;31mException\u001b[0m                                 Traceback (most recent call last)",
      "\u001b[0;32m<ipython-input-18-5fa7e7a00107>\u001b[0m in \u001b[0;36m<module>\u001b[0;34m\u001b[0m\n\u001b[1;32m      1\u001b[0m \u001b[0;31m## Exits form cell if the Network is not 2D\u001b[0m\u001b[0;34m\u001b[0m\u001b[0;34m\u001b[0m\u001b[0;34m\u001b[0m\u001b[0m\n\u001b[0;32m----> 2\u001b[0;31m \u001b[0mtest_2D_raise_or_run\u001b[0m\u001b[0;34m(\u001b[0m\u001b[0mis_conv2D\u001b[0m\u001b[0;34m)\u001b[0m\u001b[0;34m\u001b[0m\u001b[0;34m\u001b[0m\u001b[0m\n\u001b[0m\u001b[1;32m      3\u001b[0m \u001b[0;34m\u001b[0m\u001b[0m\n\u001b[1;32m      4\u001b[0m \u001b[0;34m\u001b[0m\u001b[0m\n\u001b[1;32m      5\u001b[0m \u001b[0;32mfrom\u001b[0m \u001b[0mnnAudio\u001b[0m \u001b[0;32mimport\u001b[0m \u001b[0mSpectrogram\u001b[0m\u001b[0;34m\u001b[0m\u001b[0;34m\u001b[0m\u001b[0m\n",
      "\u001b[0;32m~/SincNet_DCASE_v2.0/utils.py\u001b[0m in \u001b[0;36mtest_2D_raise_or_run\u001b[0;34m(is_conv2D)\u001b[0m\n\u001b[1;32m     22\u001b[0m     \u001b[0;32mif\u001b[0m \u001b[0;32mnot\u001b[0m \u001b[0mis_conv2D\u001b[0m\u001b[0;34m:\u001b[0m\u001b[0;34m\u001b[0m\u001b[0;34m\u001b[0m\u001b[0m\n\u001b[1;32m     23\u001b[0m         \u001b[0mprint\u001b[0m\u001b[0;34m(\u001b[0m\u001b[0;34m\"Raising exception and exiting cell.\"\u001b[0m\u001b[0;34m)\u001b[0m\u001b[0;34m\u001b[0m\u001b[0;34m\u001b[0m\u001b[0m\n\u001b[0;32m---> 24\u001b[0;31m         \u001b[0;32mraise\u001b[0m \u001b[0mException\u001b[0m\u001b[0;34m(\u001b[0m\u001b[0;34m\"The current Network is not `SincNet2D` therefore the code won't be able to run! \\nExited cell safely.\"\u001b[0m\u001b[0;34m)\u001b[0m\u001b[0;34m\u001b[0m\u001b[0;34m\u001b[0m\u001b[0m\n\u001b[0m\u001b[1;32m     25\u001b[0m         \u001b[0mexit\u001b[0m\u001b[0;34m(\u001b[0m\u001b[0;34m)\u001b[0m\u001b[0;34m\u001b[0m\u001b[0;34m\u001b[0m\u001b[0m\n\u001b[1;32m     26\u001b[0m \u001b[0;34m\u001b[0m\u001b[0m\n",
      "\u001b[0;31mException\u001b[0m: The current Network is not `SincNet2D` therefore the code won't be able to run! \nExited cell safely."
     ]
    }
   ],
   "source": [
    "## Exits form cell if the Network is not 2D\n",
    "test_2D_raise_or_run(is_conv2D)\n",
    "\n",
    "    \n",
    "from nnAudio import Spectrogram\n",
    "\n",
    "# Mel spectgrogram is initialized with same parameters as SincConv fast!\n",
    "spec_layer = Spectrogram.MelSpectrogram(n_fft=CNN_arch[\"cnn_energy_L\"], n_mels=CNN_arch[\"cnn_N_filt\"][0], hop_length=CNN_arch[\"cnn_energy_stride\"],#n_mels=CNN_arch[\"cnn_N_filt\"][0] in order to be the same with SincNet \n",
    "                      window='hann', center=True, pad_mode='reflect', \n",
    "                      sr = CNN_arch[\"fs\"], device=device, trainable_mel=False, trainable_STFT=False) # Initializing the model with device='cuda:0'\n",
    "    \n",
    "\n",
    "# Fonction that changes the scale of the power:\n",
    "def tensorLogScale(tensor):\n",
    "    # Constant that translates all values to 10^-3\n",
    "    eps = 1e-3\n",
    "\n",
    "    # log(eps + pow):\n",
    "    return (eps + tensor).log10()\n",
    "\n",
    "def PrintSpectrograms2(specs, specType):\n",
    "\n",
    "    N_audios = specs.size(0)\n",
    "    N_column = 4\n",
    "\n",
    "    fig, ax = plt.subplots(int(np.ceil(N_audios/N_column)), N_column, figsize=(14, 7),\n",
    "                          subplot_kw={'xticks': [], 'yticks': []})   \n",
    "\n",
    "    for i,spec in enumerate(specs):\n",
    "\n",
    "        ## Position in the axes grid:\n",
    "        axi, axj = int(i/N_column), i%N_column\n",
    "\n",
    "        ## imshow only works on CPU tensors:\n",
    "        if spec.is_cuda:\n",
    "            spec = spec.cpu()\n",
    "\n",
    "        # Here, we control the values of the ordinate and abscissa with the variable extent:\n",
    "        pos = ax[axi][axj].imshow(spec, origin='lower', cmap='jet', aspect='auto')\n",
    "        #ax[axi][axj].set_xlabel('Time frames')\n",
    "        #ax[axi][axj].set_ylabel('Frequency [Hz]')\n",
    "\n",
    "        # Plot colorbar\n",
    "        fig.colorbar(pos, ax=ax[axi][axj])\n",
    "\n",
    "    # Places the spectrograms next to each other:\n",
    "    fig.subplots_adjust(left=None, bottom=None, right=None, top=None, wspace=0, hspace=0)\n",
    "\n",
    "    # Writes the title:\n",
    "    fig.suptitle(\"Image representation of a \" + specType + \" Spectrogram for each audio file:\", fontsize=20, y=1.1)\n",
    "\n",
    "    plt.show()"
   ]
  },
  {
   "cell_type": "code",
   "execution_count": 19,
   "metadata": {},
   "outputs": [
    {
     "name": "stdout",
     "output_type": "stream",
     "text": [
      "Raising exception and exiting cell.\n"
     ]
    },
    {
     "ename": "Exception",
     "evalue": "The current Network is not `SincNet2D` therefore the code won't be able to run! \nExited cell safely.",
     "output_type": "error",
     "traceback": [
      "\u001b[0;31m---------------------------------------------------------------------------\u001b[0m",
      "\u001b[0;31mException\u001b[0m                                 Traceback (most recent call last)",
      "\u001b[0;32m<ipython-input-19-0794acf30a0e>\u001b[0m in \u001b[0;36m<module>\u001b[0;34m\u001b[0m\n\u001b[1;32m      1\u001b[0m \u001b[0;31m## Exits form cell if the Network is not 2D\u001b[0m\u001b[0;34m\u001b[0m\u001b[0;34m\u001b[0m\u001b[0;34m\u001b[0m\u001b[0m\n\u001b[0;32m----> 2\u001b[0;31m \u001b[0mtest_2D_raise_or_run\u001b[0m\u001b[0;34m(\u001b[0m\u001b[0mis_conv2D\u001b[0m\u001b[0;34m)\u001b[0m\u001b[0;34m\u001b[0m\u001b[0;34m\u001b[0m\u001b[0m\n\u001b[0m\u001b[1;32m      3\u001b[0m \u001b[0;34m\u001b[0m\u001b[0m\n\u001b[1;32m      4\u001b[0m \u001b[0;34m\u001b[0m\u001b[0m\n\u001b[1;32m      5\u001b[0m \u001b[0mPrintSpectrograms2\u001b[0m\u001b[0;34m(\u001b[0m\u001b[0mtensorLogScale\u001b[0m\u001b[0;34m(\u001b[0m\u001b[0mspec_layer\u001b[0m\u001b[0;34m(\u001b[0m\u001b[0mX\u001b[0m\u001b[0;34m.\u001b[0m\u001b[0mcuda\u001b[0m\u001b[0;34m(\u001b[0m\u001b[0;34m)\u001b[0m\u001b[0;34m)\u001b[0m\u001b[0;34m)\u001b[0m\u001b[0;34m,\u001b[0m \u001b[0;34m\"Log Mel\"\u001b[0m\u001b[0;34m)\u001b[0m\u001b[0;34m\u001b[0m\u001b[0;34m\u001b[0m\u001b[0m\n",
      "\u001b[0;32m~/SincNet_DCASE_v2.0/utils.py\u001b[0m in \u001b[0;36mtest_2D_raise_or_run\u001b[0;34m(is_conv2D)\u001b[0m\n\u001b[1;32m     22\u001b[0m     \u001b[0;32mif\u001b[0m \u001b[0;32mnot\u001b[0m \u001b[0mis_conv2D\u001b[0m\u001b[0;34m:\u001b[0m\u001b[0;34m\u001b[0m\u001b[0;34m\u001b[0m\u001b[0m\n\u001b[1;32m     23\u001b[0m         \u001b[0mprint\u001b[0m\u001b[0;34m(\u001b[0m\u001b[0;34m\"Raising exception and exiting cell.\"\u001b[0m\u001b[0;34m)\u001b[0m\u001b[0;34m\u001b[0m\u001b[0;34m\u001b[0m\u001b[0m\n\u001b[0;32m---> 24\u001b[0;31m         \u001b[0;32mraise\u001b[0m \u001b[0mException\u001b[0m\u001b[0;34m(\u001b[0m\u001b[0;34m\"The current Network is not `SincNet2D` therefore the code won't be able to run! \\nExited cell safely.\"\u001b[0m\u001b[0;34m)\u001b[0m\u001b[0;34m\u001b[0m\u001b[0;34m\u001b[0m\u001b[0m\n\u001b[0m\u001b[1;32m     25\u001b[0m         \u001b[0mexit\u001b[0m\u001b[0;34m(\u001b[0m\u001b[0;34m)\u001b[0m\u001b[0;34m\u001b[0m\u001b[0;34m\u001b[0m\u001b[0m\n\u001b[1;32m     26\u001b[0m \u001b[0;34m\u001b[0m\u001b[0m\n",
      "\u001b[0;31mException\u001b[0m: The current Network is not `SincNet2D` therefore the code won't be able to run! \nExited cell safely."
     ]
    }
   ],
   "source": [
    "## Exits form cell if the Network is not 2D\n",
    "test_2D_raise_or_run(is_conv2D)\n",
    "    \n",
    "\n",
    "PrintSpectrograms2(tensorLogScale(spec_layer(X.cuda())), \"Log Mel\")"
   ]
  },
  {
   "cell_type": "markdown",
   "metadata": {},
   "source": [
    "#### Remark:\n",
    "\n",
    "    Differences occur because of LayerNorm and hann window!"
   ]
  },
  {
   "cell_type": "markdown",
   "metadata": {},
   "source": [
    "## Tests for SincNet2D:"
   ]
  },
  {
   "cell_type": "code",
   "execution_count": 20,
   "metadata": {},
   "outputs": [
    {
     "name": "stdout",
     "output_type": "stream",
     "text": [
      "Raising exception and exiting cell.\n"
     ]
    },
    {
     "ename": "Exception",
     "evalue": "The current Network is not `SincNet2D` therefore the code won't be able to run! \nExited cell safely.",
     "output_type": "error",
     "traceback": [
      "\u001b[0;31m---------------------------------------------------------------------------\u001b[0m",
      "\u001b[0;31mException\u001b[0m                                 Traceback (most recent call last)",
      "\u001b[0;32m<ipython-input-20-8843a2b68f14>\u001b[0m in \u001b[0;36m<module>\u001b[0;34m\u001b[0m\n\u001b[1;32m      1\u001b[0m \u001b[0;31m## Exits form cell if the Network is not 2D\u001b[0m\u001b[0;34m\u001b[0m\u001b[0;34m\u001b[0m\u001b[0;34m\u001b[0m\u001b[0m\n\u001b[0;32m----> 2\u001b[0;31m \u001b[0mtest_2D_raise_or_run\u001b[0m\u001b[0;34m(\u001b[0m\u001b[0mis_conv2D\u001b[0m\u001b[0;34m)\u001b[0m\u001b[0;34m\u001b[0m\u001b[0;34m\u001b[0m\u001b[0m\n\u001b[0m\u001b[1;32m      3\u001b[0m \u001b[0;34m\u001b[0m\u001b[0m\n\u001b[1;32m      4\u001b[0m \u001b[0;34m\u001b[0m\u001b[0m\n\u001b[1;32m      5\u001b[0m \u001b[0mtest_net\u001b[0m \u001b[0;34m=\u001b[0m \u001b[0mCNN2D\u001b[0m\u001b[0;34m(\u001b[0m\u001b[0mCNN_arch\u001b[0m\u001b[0;34m,\u001b[0m \u001b[0mprint_spec\u001b[0m \u001b[0;34m=\u001b[0m \u001b[0;32mTrue\u001b[0m\u001b[0;34m)\u001b[0m\u001b[0;34m\u001b[0m\u001b[0;34m\u001b[0m\u001b[0m\n",
      "\u001b[0;32m~/SincNet_DCASE_v2.0/utils.py\u001b[0m in \u001b[0;36mtest_2D_raise_or_run\u001b[0;34m(is_conv2D)\u001b[0m\n\u001b[1;32m     22\u001b[0m     \u001b[0;32mif\u001b[0m \u001b[0;32mnot\u001b[0m \u001b[0mis_conv2D\u001b[0m\u001b[0;34m:\u001b[0m\u001b[0;34m\u001b[0m\u001b[0;34m\u001b[0m\u001b[0m\n\u001b[1;32m     23\u001b[0m         \u001b[0mprint\u001b[0m\u001b[0;34m(\u001b[0m\u001b[0;34m\"Raising exception and exiting cell.\"\u001b[0m\u001b[0;34m)\u001b[0m\u001b[0;34m\u001b[0m\u001b[0;34m\u001b[0m\u001b[0m\n\u001b[0;32m---> 24\u001b[0;31m         \u001b[0;32mraise\u001b[0m \u001b[0mException\u001b[0m\u001b[0;34m(\u001b[0m\u001b[0;34m\"The current Network is not `SincNet2D` therefore the code won't be able to run! \\nExited cell safely.\"\u001b[0m\u001b[0;34m)\u001b[0m\u001b[0;34m\u001b[0m\u001b[0;34m\u001b[0m\u001b[0m\n\u001b[0m\u001b[1;32m     25\u001b[0m         \u001b[0mexit\u001b[0m\u001b[0;34m(\u001b[0m\u001b[0;34m)\u001b[0m\u001b[0;34m\u001b[0m\u001b[0;34m\u001b[0m\u001b[0m\n\u001b[1;32m     26\u001b[0m \u001b[0;34m\u001b[0m\u001b[0m\n",
      "\u001b[0;31mException\u001b[0m: The current Network is not `SincNet2D` therefore the code won't be able to run! \nExited cell safely."
     ]
    }
   ],
   "source": [
    "## Exits form cell if the Network is not 2D\n",
    "test_2D_raise_or_run(is_conv2D)\n",
    "    \n",
    "\n",
    "test_net = CNN2D(CNN_arch, print_spec = True)\n",
    "test_net.cuda()"
   ]
  },
  {
   "cell_type": "code",
   "execution_count": 21,
   "metadata": {},
   "outputs": [
    {
     "name": "stdout",
     "output_type": "stream",
     "text": [
      "Raising exception and exiting cell.\n"
     ]
    },
    {
     "ename": "Exception",
     "evalue": "The current Network is not `SincNet2D` therefore the code won't be able to run! \nExited cell safely.",
     "output_type": "error",
     "traceback": [
      "\u001b[0;31m---------------------------------------------------------------------------\u001b[0m",
      "\u001b[0;31mException\u001b[0m                                 Traceback (most recent call last)",
      "\u001b[0;32m<ipython-input-21-212a2d1e7535>\u001b[0m in \u001b[0;36m<module>\u001b[0;34m\u001b[0m\n\u001b[1;32m      1\u001b[0m \u001b[0;31m## Exits form cell if the Network is not 2D\u001b[0m\u001b[0;34m\u001b[0m\u001b[0;34m\u001b[0m\u001b[0;34m\u001b[0m\u001b[0m\n\u001b[0;32m----> 2\u001b[0;31m \u001b[0mtest_2D_raise_or_run\u001b[0m\u001b[0;34m(\u001b[0m\u001b[0mis_conv2D\u001b[0m\u001b[0;34m)\u001b[0m\u001b[0;34m\u001b[0m\u001b[0;34m\u001b[0m\u001b[0m\n\u001b[0m\u001b[1;32m      3\u001b[0m \u001b[0;34m\u001b[0m\u001b[0m\n\u001b[1;32m      4\u001b[0m \u001b[0;34m\u001b[0m\u001b[0m\n\u001b[1;32m      5\u001b[0m \u001b[0mtest_net\u001b[0m\u001b[0;34m.\u001b[0m\u001b[0meval\u001b[0m\u001b[0;34m(\u001b[0m\u001b[0;34m)\u001b[0m\u001b[0;34m\u001b[0m\u001b[0;34m\u001b[0m\u001b[0m\n",
      "\u001b[0;32m~/SincNet_DCASE_v2.0/utils.py\u001b[0m in \u001b[0;36mtest_2D_raise_or_run\u001b[0;34m(is_conv2D)\u001b[0m\n\u001b[1;32m     22\u001b[0m     \u001b[0;32mif\u001b[0m \u001b[0;32mnot\u001b[0m \u001b[0mis_conv2D\u001b[0m\u001b[0;34m:\u001b[0m\u001b[0;34m\u001b[0m\u001b[0;34m\u001b[0m\u001b[0m\n\u001b[1;32m     23\u001b[0m         \u001b[0mprint\u001b[0m\u001b[0;34m(\u001b[0m\u001b[0;34m\"Raising exception and exiting cell.\"\u001b[0m\u001b[0;34m)\u001b[0m\u001b[0;34m\u001b[0m\u001b[0;34m\u001b[0m\u001b[0m\n\u001b[0;32m---> 24\u001b[0;31m         \u001b[0;32mraise\u001b[0m \u001b[0mException\u001b[0m\u001b[0;34m(\u001b[0m\u001b[0;34m\"The current Network is not `SincNet2D` therefore the code won't be able to run! \\nExited cell safely.\"\u001b[0m\u001b[0;34m)\u001b[0m\u001b[0;34m\u001b[0m\u001b[0;34m\u001b[0m\u001b[0m\n\u001b[0m\u001b[1;32m     25\u001b[0m         \u001b[0mexit\u001b[0m\u001b[0;34m(\u001b[0m\u001b[0;34m)\u001b[0m\u001b[0;34m\u001b[0m\u001b[0;34m\u001b[0m\u001b[0m\n\u001b[1;32m     26\u001b[0m \u001b[0;34m\u001b[0m\u001b[0m\n",
      "\u001b[0;31mException\u001b[0m: The current Network is not `SincNet2D` therefore the code won't be able to run! \nExited cell safely."
     ]
    }
   ],
   "source": [
    "## Exits form cell if the Network is not 2D\n",
    "test_2D_raise_or_run(is_conv2D)\n",
    "\n",
    "\n",
    "test_net.eval()"
   ]
  },
  {
   "cell_type": "code",
   "execution_count": 22,
   "metadata": {},
   "outputs": [
    {
     "name": "stdout",
     "output_type": "stream",
     "text": [
      "Raising exception and exiting cell.\n"
     ]
    },
    {
     "ename": "Exception",
     "evalue": "The current Network is not `SincNet2D` therefore the code won't be able to run! \nExited cell safely.",
     "output_type": "error",
     "traceback": [
      "\u001b[0;31m---------------------------------------------------------------------------\u001b[0m",
      "\u001b[0;31mException\u001b[0m                                 Traceback (most recent call last)",
      "\u001b[0;32m<ipython-input-22-3523b7b5e7d3>\u001b[0m in \u001b[0;36m<module>\u001b[0;34m\u001b[0m\n\u001b[1;32m      1\u001b[0m \u001b[0;31m## Exits form cell if the Network is not 2D\u001b[0m\u001b[0;34m\u001b[0m\u001b[0;34m\u001b[0m\u001b[0;34m\u001b[0m\u001b[0m\n\u001b[0;32m----> 2\u001b[0;31m \u001b[0mtest_2D_raise_or_run\u001b[0m\u001b[0;34m(\u001b[0m\u001b[0mis_conv2D\u001b[0m\u001b[0;34m)\u001b[0m\u001b[0;34m\u001b[0m\u001b[0;34m\u001b[0m\u001b[0m\n\u001b[0m\u001b[1;32m      3\u001b[0m \u001b[0;34m\u001b[0m\u001b[0m\n\u001b[1;32m      4\u001b[0m \u001b[0;32mwith\u001b[0m \u001b[0mtorch\u001b[0m\u001b[0;34m.\u001b[0m\u001b[0mno_grad\u001b[0m\u001b[0;34m(\u001b[0m\u001b[0;34m)\u001b[0m\u001b[0;34m:\u001b[0m\u001b[0;34m\u001b[0m\u001b[0;34m\u001b[0m\u001b[0m\n\u001b[1;32m      5\u001b[0m     \u001b[0mprint\u001b[0m\u001b[0;34m(\u001b[0m\u001b[0mtest_net\u001b[0m\u001b[0;34m.\u001b[0m\u001b[0mforward\u001b[0m\u001b[0;34m(\u001b[0m\u001b[0mX\u001b[0m\u001b[0;34m.\u001b[0m\u001b[0mcuda\u001b[0m\u001b[0;34m(\u001b[0m\u001b[0;34m)\u001b[0m\u001b[0;34m)\u001b[0m\u001b[0;34m.\u001b[0m\u001b[0mshape\u001b[0m\u001b[0;34m)\u001b[0m\u001b[0;34m\u001b[0m\u001b[0;34m\u001b[0m\u001b[0m\n",
      "\u001b[0;32m~/SincNet_DCASE_v2.0/utils.py\u001b[0m in \u001b[0;36mtest_2D_raise_or_run\u001b[0;34m(is_conv2D)\u001b[0m\n\u001b[1;32m     22\u001b[0m     \u001b[0;32mif\u001b[0m \u001b[0;32mnot\u001b[0m \u001b[0mis_conv2D\u001b[0m\u001b[0;34m:\u001b[0m\u001b[0;34m\u001b[0m\u001b[0;34m\u001b[0m\u001b[0m\n\u001b[1;32m     23\u001b[0m         \u001b[0mprint\u001b[0m\u001b[0;34m(\u001b[0m\u001b[0;34m\"Raising exception and exiting cell.\"\u001b[0m\u001b[0;34m)\u001b[0m\u001b[0;34m\u001b[0m\u001b[0;34m\u001b[0m\u001b[0m\n\u001b[0;32m---> 24\u001b[0;31m         \u001b[0;32mraise\u001b[0m \u001b[0mException\u001b[0m\u001b[0;34m(\u001b[0m\u001b[0;34m\"The current Network is not `SincNet2D` therefore the code won't be able to run! \\nExited cell safely.\"\u001b[0m\u001b[0;34m)\u001b[0m\u001b[0;34m\u001b[0m\u001b[0;34m\u001b[0m\u001b[0m\n\u001b[0m\u001b[1;32m     25\u001b[0m         \u001b[0mexit\u001b[0m\u001b[0;34m(\u001b[0m\u001b[0;34m)\u001b[0m\u001b[0;34m\u001b[0m\u001b[0;34m\u001b[0m\u001b[0m\n\u001b[1;32m     26\u001b[0m \u001b[0;34m\u001b[0m\u001b[0m\n",
      "\u001b[0;31mException\u001b[0m: The current Network is not `SincNet2D` therefore the code won't be able to run! \nExited cell safely."
     ]
    }
   ],
   "source": [
    "## Exits form cell if the Network is not 2D\n",
    "test_2D_raise_or_run(is_conv2D)\n",
    "\n",
    "with torch.no_grad():\n",
    "    print(test_net.forward(X.cuda()).shape)"
   ]
  },
  {
   "cell_type": "code",
   "execution_count": 23,
   "metadata": {},
   "outputs": [
    {
     "name": "stdout",
     "output_type": "stream",
     "text": [
      "Raising exception and exiting cell.\n"
     ]
    },
    {
     "ename": "Exception",
     "evalue": "The current Network is not `SincNet2D` therefore the code won't be able to run! \nExited cell safely.",
     "output_type": "error",
     "traceback": [
      "\u001b[0;31m---------------------------------------------------------------------------\u001b[0m",
      "\u001b[0;31mException\u001b[0m                                 Traceback (most recent call last)",
      "\u001b[0;32m<ipython-input-23-e3ad48df0bf4>\u001b[0m in \u001b[0;36m<module>\u001b[0;34m\u001b[0m\n\u001b[1;32m      1\u001b[0m \u001b[0;31m## Exits form cell if the Network is not 2D\u001b[0m\u001b[0;34m\u001b[0m\u001b[0;34m\u001b[0m\u001b[0;34m\u001b[0m\u001b[0m\n\u001b[0;32m----> 2\u001b[0;31m \u001b[0mtest_2D_raise_or_run\u001b[0m\u001b[0;34m(\u001b[0m\u001b[0mis_conv2D\u001b[0m\u001b[0;34m)\u001b[0m\u001b[0;34m\u001b[0m\u001b[0;34m\u001b[0m\u001b[0m\n\u001b[0m\u001b[1;32m      3\u001b[0m \u001b[0;34m\u001b[0m\u001b[0m\n\u001b[1;32m      4\u001b[0m \u001b[0mtest_net\u001b[0m\u001b[0;34m.\u001b[0m\u001b[0mout_dim\u001b[0m\u001b[0;34m\u001b[0m\u001b[0;34m\u001b[0m\u001b[0m\n",
      "\u001b[0;32m~/SincNet_DCASE_v2.0/utils.py\u001b[0m in \u001b[0;36mtest_2D_raise_or_run\u001b[0;34m(is_conv2D)\u001b[0m\n\u001b[1;32m     22\u001b[0m     \u001b[0;32mif\u001b[0m \u001b[0;32mnot\u001b[0m \u001b[0mis_conv2D\u001b[0m\u001b[0;34m:\u001b[0m\u001b[0;34m\u001b[0m\u001b[0;34m\u001b[0m\u001b[0m\n\u001b[1;32m     23\u001b[0m         \u001b[0mprint\u001b[0m\u001b[0;34m(\u001b[0m\u001b[0;34m\"Raising exception and exiting cell.\"\u001b[0m\u001b[0;34m)\u001b[0m\u001b[0;34m\u001b[0m\u001b[0;34m\u001b[0m\u001b[0m\n\u001b[0;32m---> 24\u001b[0;31m         \u001b[0;32mraise\u001b[0m \u001b[0mException\u001b[0m\u001b[0;34m(\u001b[0m\u001b[0;34m\"The current Network is not `SincNet2D` therefore the code won't be able to run! \\nExited cell safely.\"\u001b[0m\u001b[0;34m)\u001b[0m\u001b[0;34m\u001b[0m\u001b[0;34m\u001b[0m\u001b[0m\n\u001b[0m\u001b[1;32m     25\u001b[0m         \u001b[0mexit\u001b[0m\u001b[0;34m(\u001b[0m\u001b[0;34m)\u001b[0m\u001b[0;34m\u001b[0m\u001b[0;34m\u001b[0m\u001b[0m\n\u001b[1;32m     26\u001b[0m \u001b[0;34m\u001b[0m\u001b[0m\n",
      "\u001b[0;31mException\u001b[0m: The current Network is not `SincNet2D` therefore the code won't be able to run! \nExited cell safely."
     ]
    }
   ],
   "source": [
    "## Exits form cell if the Network is not 2D\n",
    "test_2D_raise_or_run(is_conv2D)\n",
    "\n",
    "test_net.out_dim"
   ]
  },
  {
   "cell_type": "code",
   "execution_count": 24,
   "metadata": {},
   "outputs": [
    {
     "name": "stdout",
     "output_type": "stream",
     "text": [
      "Raising exception and exiting cell.\n"
     ]
    },
    {
     "ename": "Exception",
     "evalue": "The current Network is not `SincNet2D` therefore the code won't be able to run! \nExited cell safely.",
     "output_type": "error",
     "traceback": [
      "\u001b[0;31m---------------------------------------------------------------------------\u001b[0m",
      "\u001b[0;31mException\u001b[0m                                 Traceback (most recent call last)",
      "\u001b[0;32m<ipython-input-24-b22f91f68ddc>\u001b[0m in \u001b[0;36m<module>\u001b[0;34m\u001b[0m\n\u001b[1;32m      1\u001b[0m \u001b[0;31m## Exits form cell if the Network is not 2D\u001b[0m\u001b[0;34m\u001b[0m\u001b[0;34m\u001b[0m\u001b[0;34m\u001b[0m\u001b[0m\n\u001b[0;32m----> 2\u001b[0;31m \u001b[0mtest_2D_raise_or_run\u001b[0m\u001b[0;34m(\u001b[0m\u001b[0mis_conv2D\u001b[0m\u001b[0;34m)\u001b[0m\u001b[0;34m\u001b[0m\u001b[0;34m\u001b[0m\u001b[0m\n\u001b[0m\u001b[1;32m      3\u001b[0m \u001b[0;34m\u001b[0m\u001b[0m\n\u001b[1;32m      4\u001b[0m \u001b[0;32mdel\u001b[0m \u001b[0mtest_net\u001b[0m\u001b[0;34m\u001b[0m\u001b[0;34m\u001b[0m\u001b[0m\n",
      "\u001b[0;32m~/SincNet_DCASE_v2.0/utils.py\u001b[0m in \u001b[0;36mtest_2D_raise_or_run\u001b[0;34m(is_conv2D)\u001b[0m\n\u001b[1;32m     22\u001b[0m     \u001b[0;32mif\u001b[0m \u001b[0;32mnot\u001b[0m \u001b[0mis_conv2D\u001b[0m\u001b[0;34m:\u001b[0m\u001b[0;34m\u001b[0m\u001b[0;34m\u001b[0m\u001b[0m\n\u001b[1;32m     23\u001b[0m         \u001b[0mprint\u001b[0m\u001b[0;34m(\u001b[0m\u001b[0;34m\"Raising exception and exiting cell.\"\u001b[0m\u001b[0;34m)\u001b[0m\u001b[0;34m\u001b[0m\u001b[0;34m\u001b[0m\u001b[0m\n\u001b[0;32m---> 24\u001b[0;31m         \u001b[0;32mraise\u001b[0m \u001b[0mException\u001b[0m\u001b[0;34m(\u001b[0m\u001b[0;34m\"The current Network is not `SincNet2D` therefore the code won't be able to run! \\nExited cell safely.\"\u001b[0m\u001b[0;34m)\u001b[0m\u001b[0;34m\u001b[0m\u001b[0;34m\u001b[0m\u001b[0m\n\u001b[0m\u001b[1;32m     25\u001b[0m         \u001b[0mexit\u001b[0m\u001b[0;34m(\u001b[0m\u001b[0;34m)\u001b[0m\u001b[0;34m\u001b[0m\u001b[0;34m\u001b[0m\u001b[0m\n\u001b[1;32m     26\u001b[0m \u001b[0;34m\u001b[0m\u001b[0m\n",
      "\u001b[0;31mException\u001b[0m: The current Network is not `SincNet2D` therefore the code won't be able to run! \nExited cell safely."
     ]
    }
   ],
   "source": [
    "## Exits form cell if the Network is not 2D\n",
    "test_2D_raise_or_run(is_conv2D)\n",
    "\n",
    "del test_net"
   ]
  },
  {
   "cell_type": "code",
   "execution_count": 25,
   "metadata": {},
   "outputs": [
    {
     "name": "stdout",
     "output_type": "stream",
     "text": [
      "torch.Size([32, 41])\n",
      "{'input_dim': 25600, 'fs': 32000, 'cnn_N_filt': [80, 60, 60, 60], 'cnn_len_filt': [251, 5, 5, 5], 'cnn_max_pool_len': [3, 3, 3, 3], 'cnn_use_laynorm_inp': True, 'cnn_use_batchnorm_inp': False, 'cnn_use_laynorm': [True, True, True, True], 'cnn_use_batchnorm': [False, False, False, False], 'cnn_act': ['leaky_relu', 'leaky_relu', 'leaky_relu', 'leaky_relu'], 'cnn_drop': [0.0, 0.0, 0.0, 0.0], 'use_SincConv_fast': True}\n"
     ]
    }
   ],
   "source": [
    "Main_net.eval()\n",
    "with torch.no_grad():\n",
    "    print(Main_net.forward(X.cuda()).shape)\n",
    "Main_net.train()\n",
    "print(CNN_arch)"
   ]
  },
  {
   "cell_type": "markdown",
   "metadata": {},
   "source": [
    "## Learning rate finder:\n",
    "\n",
    "The thread where the idea originated from is accessible [here.](https://discuss.pytorch.org/t/get-the-best-learning-rate-automatically/58269/7) <br>\n",
    "The thread where the code originated from is accessible [here.](https://forums.fast.ai/t/automated-learning-rate-suggester/44199)"
   ]
  },
  {
   "cell_type": "code",
   "execution_count": 22,
   "metadata": {},
   "outputs": [],
   "source": [
    "## import the tools from fastai:\n",
    "from fastai.basics import *"
   ]
  },
  {
   "cell_type": "code",
   "execution_count": 23,
   "metadata": {},
   "outputs": [],
   "source": [
    "valid_dataset.is_fastai = True\n",
    "\n",
    "databunch = DataBunch.create(train_dataset, valid_dataset, bs=32, device = torch.device('cuda'))\n",
    "learn = Learner(databunch, Main_net, loss_func = cost, metrics = accuracy)"
   ]
  },
  {
   "cell_type": "code",
   "execution_count": 24,
   "metadata": {},
   "outputs": [],
   "source": [
    "def find_appropriate_lr(model:Learner, lr_diff:int = 15, loss_threshold:float = .05, adjust_value:float = 1, plot:bool = False) -> float:\n",
    "    #Run the Learning Rate Finder\n",
    "    model.lr_find()\n",
    "    \n",
    "    #Get loss values and their corresponding gradients, and get lr values\n",
    "    losses = np.array(model.recorder.losses)\n",
    "    assert(lr_diff < len(losses))\n",
    "    loss_grad = np.gradient(losses)\n",
    "    lrs = model.recorder.lrs\n",
    "    \n",
    "    #Search for index in gradients where loss is lowest before the loss spike\n",
    "    #Initialize right and left idx using the lr_diff as a spacing unit\n",
    "    #Set the local min lr as -1 to signify if threshold is too low\n",
    "    r_idx = -1\n",
    "    l_idx = r_idx - lr_diff\n",
    "    while (l_idx >= -len(losses)) and (abs(loss_grad[r_idx] - loss_grad[l_idx]) > loss_threshold):\n",
    "        local_min_lr = lrs[l_idx]\n",
    "        r_idx -= 1\n",
    "        l_idx -= 1\n",
    "\n",
    "    lr_to_use = local_min_lr * adjust_value\n",
    "    \n",
    "    if plot:\n",
    "        # plots the gradients of the losses in respect to the learning rate change\n",
    "        plt.plot(loss_grad)\n",
    "        plt.plot(len(losses)+l_idx, loss_grad[l_idx],markersize=10,marker='o',color='red')\n",
    "        plt.ylabel(\"Loss\")\n",
    "        plt.xlabel(\"Index of LRs\")\n",
    "        plt.show()\n",
    "\n",
    "        plt.plot(np.log10(lrs), losses)\n",
    "        plt.ylabel(\"Loss\")\n",
    "        plt.xlabel(\"Log 10 Transform of Learning Rate\")\n",
    "        loss_coord = np.interp(np.log10(lr_to_use), np.log10(lrs), losses)\n",
    "        plt.plot(np.log10(lr_to_use), loss_coord, markersize=10,marker='o',color='red')\n",
    "        plt.show()\n",
    "        \n",
    "    return lr_to_use"
   ]
  },
  {
   "cell_type": "code",
   "execution_count": 25,
   "metadata": {},
   "outputs": [
    {
     "data": {
      "text/html": [
       "\n",
       "    <div>\n",
       "        <style>\n",
       "            /* Turns off some styling */\n",
       "            progress {\n",
       "                /* gets rid of default border in Firefox and Opera. */\n",
       "                border: none;\n",
       "                /* Needs to be in here for Safari polyfill so background images work as expected. */\n",
       "                background-size: auto;\n",
       "            }\n",
       "            .progress-bar-interrupted, .progress-bar-interrupted::-webkit-progress-bar {\n",
       "                background: #F44336;\n",
       "            }\n",
       "        </style>\n",
       "      <progress value='0' class='' max='1' style='width:300px; height:20px; vertical-align: middle;'></progress>\n",
       "      0.00% [0/1 00:00<00:00]\n",
       "    </div>\n",
       "    \n",
       "<table border=\"1\" class=\"dataframe\">\n",
       "  <thead>\n",
       "    <tr style=\"text-align: left;\">\n",
       "      <th>epoch</th>\n",
       "      <th>train_loss</th>\n",
       "      <th>valid_loss</th>\n",
       "      <th>accuracy</th>\n",
       "      <th>time</th>\n",
       "    </tr>\n",
       "  </thead>\n",
       "  <tbody>\n",
       "  </tbody>\n",
       "</table><p>\n",
       "\n",
       "    <div>\n",
       "        <style>\n",
       "            /* Turns off some styling */\n",
       "            progress {\n",
       "                /* gets rid of default border in Firefox and Opera. */\n",
       "                border: none;\n",
       "                /* Needs to be in here for Safari polyfill so background images work as expected. */\n",
       "                background-size: auto;\n",
       "            }\n",
       "            .progress-bar-interrupted, .progress-bar-interrupted::-webkit-progress-bar {\n",
       "                background: #F44336;\n",
       "            }\n",
       "        </style>\n",
       "      <progress value='90' class='' max='236' style='width:300px; height:20px; vertical-align: middle;'></progress>\n",
       "      38.14% [90/236 00:10<00:17 12.6175]\n",
       "    </div>\n",
       "    "
      ],
      "text/plain": [
       "<IPython.core.display.HTML object>"
      ]
     },
     "metadata": {},
     "output_type": "display_data"
    },
    {
     "name": "stdout",
     "output_type": "stream",
     "text": [
      "LR Finder is complete, type {learner_name}.recorder.plot() to see the graph.\n"
     ]
    },
    {
     "data": {
      "image/png": "[encoded data removed]",
      "text/plain": [
       "<Figure size 432x288 with 1 Axes>"
      ]
     },
     "metadata": {
      "needs_background": "light"
     },
     "output_type": "display_data"
    }
   ],
   "source": [
    "## Fast ai modules finish here, so we switch back to old dataset:\n",
    "learn.lr_find()\n",
    "learn.recorder.plot()\n",
    "valid_dataset.is_fastai = False"
   ]
  },
  {
   "cell_type": "code",
   "execution_count": 26,
   "metadata": {},
   "outputs": [
    {
     "data": {
      "text/html": [
       "\n",
       "    <div>\n",
       "        <style>\n",
       "            /* Turns off some styling */\n",
       "            progress {\n",
       "                /* gets rid of default border in Firefox and Opera. */\n",
       "                border: none;\n",
       "                /* Needs to be in here for Safari polyfill so background images work as expected. */\n",
       "                background-size: auto;\n",
       "            }\n",
       "            .progress-bar-interrupted, .progress-bar-interrupted::-webkit-progress-bar {\n",
       "                background: #F44336;\n",
       "            }\n",
       "        </style>\n",
       "      <progress value='0' class='' max='1' style='width:300px; height:20px; vertical-align: middle;'></progress>\n",
       "      0.00% [0/1 00:00<00:00]\n",
       "    </div>\n",
       "    \n",
       "<table border=\"1\" class=\"dataframe\">\n",
       "  <thead>\n",
       "    <tr style=\"text-align: left;\">\n",
       "      <th>epoch</th>\n",
       "      <th>train_loss</th>\n",
       "      <th>valid_loss</th>\n",
       "      <th>accuracy</th>\n",
       "      <th>time</th>\n",
       "    </tr>\n",
       "  </thead>\n",
       "  <tbody>\n",
       "  </tbody>\n",
       "</table><p>\n",
       "\n",
       "    <div>\n",
       "        <style>\n",
       "            /* Turns off some styling */\n",
       "            progress {\n",
       "                /* gets rid of default border in Firefox and Opera. */\n",
       "                border: none;\n",
       "                /* Needs to be in here for Safari polyfill so background images work as expected. */\n",
       "                background-size: auto;\n",
       "            }\n",
       "            .progress-bar-interrupted, .progress-bar-interrupted::-webkit-progress-bar {\n",
       "                background: #F44336;\n",
       "            }\n",
       "        </style>\n",
       "      <progress value='89' class='' max='236' style='width:300px; height:20px; vertical-align: middle;'></progress>\n",
       "      37.71% [89/236 00:10<00:17 11.6540]\n",
       "    </div>\n",
       "    "
      ],
      "text/plain": [
       "<IPython.core.display.HTML object>"
      ]
     },
     "metadata": {},
     "output_type": "display_data"
    },
    {
     "name": "stdout",
     "output_type": "stream",
     "text": [
      "LR Finder is complete, type {learner_name}.recorder.plot() to see the graph.\n"
     ]
    },
    {
     "data": {
      "image/png": "[encoded data removed]",
      "text/plain": [
       "<Figure size 432x288 with 1 Axes>"
      ]
     },
     "metadata": {
      "needs_background": "light"
     },
     "output_type": "display_data"
    },
    {
     "data": {
      "image/png": "[encoded data removed]",
      "text/plain": [
       "<Figure size 432x288 with 1 Axes>"
      ]
     },
     "metadata": {
      "needs_background": "light"
     },
     "output_type": "display_data"
    },
    {
     "name": "stdout",
     "output_type": "stream",
     "text": [
      "0.022908676527677745\n"
     ]
    },
    {
     "data": {
      "image/png": "[encoded data removed]",
      "text/plain": [
       "<Figure size 432x288 with 1 Axes>"
      ]
     },
     "metadata": {
      "needs_background": "light"
     },
     "output_type": "display_data"
    }
   ],
   "source": [
    "valid_dataset.is_fastai = True\n",
    "lr = find_appropriate_lr(learn, plot=True)\n",
    "print(lr)\n",
    "valid_dataset.is_fastai = False"
   ]
  },
  {
   "cell_type": "code",
   "execution_count": null,
   "metadata": {},
   "outputs": [],
   "source": [
    "\"learn.fit(1)\""
   ]
  },
  {
   "cell_type": "code",
   "execution_count": null,
   "metadata": {},
   "outputs": [],
   "source": [
    "#lr=0.005"
   ]
  },
  {
   "cell_type": "markdown",
   "metadata": {},
   "source": [
    "## Optim and Net learning:\n",
    "\n",
    "For a **theoretical perspective** of optimization functions, see <cite>Goodfellow, Ian. Deep Learning. Cambridge, Massachusetts, The MIT Press, Publication Date</cite> chapter 8, paragraph 5.\n",
    "<br>\n",
    "For the **pytorch documentation** of these functions see [here.](https://pytorch.org/docs/stable/optim.html)<br>\n",
    "For a brief explication on each optimizer see [here](https://blog.paperspace.com/intro-to-optimization-momentum-rmsprop-adam/#:~:text=While%20momentum%20accelerates%20our%20search,of%20both%20Momentum%20and%20RMSProp.). **RMSProp vs Adam**, both have adaptive Learning Rates. \n",
    "![Optimization evolution figure](Images/optims.jpg)<br>\n",
    "<center><b>Thanks Paul for the Image!</b></center>"
   ]
  },
  {
   "cell_type": "code",
   "execution_count": 20,
   "metadata": {},
   "outputs": [
    {
     "name": "stdout",
     "output_type": "stream",
     "text": [
      "Initializing optimizers... \t\t"
     ]
    }
   ],
   "source": [
    "print(\"Initializing optimizers... \\t\\t\", end=\"\")\n",
    "# Added momentum:\n",
    "momentum = 0.9 if use_mixup else 0\n",
    "    \n",
    "# InitOptimizers\n",
    "optimizer_CNN  = InitOptimizer(optimizer_type, CNN_net.parameters(), lr=lr, momentum=momentum)#optim.RMSprop(CNN_net.parameters(), lr=lr,alpha=0.95, eps=1e-8, momentum=momentum) \n",
    "optimizer_DNN1 = InitOptimizer(optimizer_type, DNN1_net.parameters(), lr=lr, momentum=momentum)#optim.RMSprop(DNN1_net.parameters(), lr=lr,alpha=0.95, eps=1e-8, momentum=momentum) \n",
    "optimizer_DNN2 = InitOptimizer(optimizer_type, DNN2_net.parameters(), lr=lr, momentum=momentum)#optim.RMSprop(DNN2_net.parameters(), lr=lr,alpha=0.95, eps=1e-8, momentum=momentum) \n",
    "\n"
   ]
  },
  {
   "cell_type": "code",
   "execution_count": 21,
   "metadata": {},
   "outputs": [
    {
     "name": "stdout",
     "output_type": "stream",
     "text": [
      "Adam optimizers are ready!\n"
     ]
    }
   ],
   "source": [
    "# Puts the in the same wrapper:\n",
    "optimizers = Optimizers(optimizer_CNN, optimizer_DNN1, optimizer_DNN2)\n",
    "\n",
    "print(\"{} optimizers are ready!\".format(optimizer_type))\n"
   ]
  },
  {
   "cell_type": "markdown",
   "metadata": {},
   "source": [
    "### Defining schedulers for each optimizers:\n",
    "\n",
    "The documentation of the scheduler used can be accessed [here](https://pytorch.org/docs/stable/optim.html#torch.optim.lr_scheduler.ReduceLROnPlateau)."
   ]
  },
  {
   "cell_type": "code",
   "execution_count": 22,
   "metadata": {},
   "outputs": [],
   "source": [
    "\n",
    "## Initializing all schedulers for optims:\n",
    "scheduler_CNN  = optim.lr_scheduler.ReduceLROnPlateau(optimizer_CNN, mode='min', factor=scheduler_factor, patience=scheduler_patience, verbose=True, threshold=0.0001, threshold_mode='rel', cooldown=0, min_lr=0, eps=1e-08)\n",
    "scheduler_DNN1 = optim.lr_scheduler.ReduceLROnPlateau(optimizer_DNN1, mode='min', factor=scheduler_factor, patience=scheduler_patience, verbose=False, threshold=0.0001, threshold_mode='rel', cooldown=0, min_lr=0, eps=1e-08)\n",
    "scheduler_DNN2 = optim.lr_scheduler.ReduceLROnPlateau(optimizer_DNN2, mode='min', factor=scheduler_factor, patience=scheduler_patience, verbose=False, threshold=0.0001, threshold_mode='rel', cooldown=0, min_lr=0, eps=1e-08)\n",
    "\n",
    "#nbre of training batches per epoch:\n",
    "#nbre_batch_epoch = snt_tr / batch_size\n",
    "#step_in_epoch    = 8\n",
    "\n",
    "#base_lr = max_lr/4 for triangular\n",
    "#optim.lr_scheduler.CyclicLR(optimizer_CNN, base_lr=0.0001, max_lr=0.001, step_size_up=nbre_batch_epoch*step_in_epoch, step_size_down=None, mode='triangular2', gamma=1.0, scale_fn=None, scale_mode='cycle', cycle_momentum=True, base_momentum=0.8, max_momentum=0.9, last_epoch=-1)"
   ]
  },
  {
   "cell_type": "code",
   "execution_count": 23,
   "metadata": {},
   "outputs": [],
   "source": [
    "schedulers = Schedulers(scheduler_CNN, scheduler_DNN1, scheduler_DNN2)"
   ]
  },
  {
   "cell_type": "markdown",
   "metadata": {},
   "source": [
    "### Monitoring the gradient:\n",
    "\n",
    "This code is taken from a pytorch discussion that you can find [here](https://discuss.pytorch.org/t/check-gradient-flow-in-network/15063). \n",
    "\n",
    "**Remarks:**\n",
    "\n",
    "   * We added `and (p.grad is not None)` to each function because some parameters are initialized and named but not learned or used. Therefore their grad is None and has no attribute abs()!\n",
    "   * It affects parameters like `bn.1.bias`who are initialized but not used in forward and disabled because the config file their are set as so in the config file. We chose to use layernorm instead."
   ]
  },
  {
   "cell_type": "markdown",
   "metadata": {},
   "source": [
    "#### Simple function, plots the values:"
   ]
  },
  {
   "cell_type": "code",
   "execution_count": 24,
   "metadata": {},
   "outputs": [],
   "source": [
    "def plot_grad_flow_simple(named_parameters):\n",
    "    ave_grads = []\n",
    "    layers = []\n",
    "    for n, p in named_parameters:\n",
    "        if(p.requires_grad) and (\"bias\" not in n) and (p.grad is not None):\n",
    "            layers.append(n)\n",
    "            ave_grads.append(p.grad.abs().mean())\n",
    "    plt.plot(ave_grads, alpha=0.3, color=\"b\")\n",
    "    plt.hlines(0, 0, len(ave_grads)+1, linewidth=1, color=\"k\" )\n",
    "    plt.xticks(range(0,len(ave_grads), 1), layers, rotation=\"vertical\")\n",
    "    plt.xlim(xmin=0, xmax=len(ave_grads))\n",
    "    plt.xlabel(\"Layers\")\n",
    "    plt.ylabel(\"average gradient\")\n",
    "    plt.title(\"Gradient flow\")\n",
    "    plt.grid(True)"
   ]
  },
  {
   "cell_type": "markdown",
   "metadata": {},
   "source": [
    "#### More complex functions in order to plot hist:"
   ]
  },
  {
   "cell_type": "code",
   "execution_count": 25,
   "metadata": {},
   "outputs": [],
   "source": [
    "from matplotlib.lines import Line2D\n",
    "\n",
    "## Gradient histogram rep, Calot's suggestion:\n",
    "def plot_grad_flow(named_parameters, plot_both = False):\n",
    "    '''Plots the gradients flowing through different layers in the net during training.\n",
    "    Can be used for checking for possible gradient vanishing / exploding problems.\n",
    "    \n",
    "    Usage: Plug this function in Trainer class after loss.backwards() as \n",
    "    \"plot_grad_flow(self.model.named_parameters())\" to visualize the gradient flow'''\n",
    "    ave_grads = []\n",
    "    max_grads= []\n",
    "    layers = []\n",
    "    for n, p in named_parameters:\n",
    "        if(p.requires_grad) and (\"bias\" not in n) and (p.grad is not None):\n",
    "            layers.append(n)\n",
    "            ave_grads.append(p.grad.abs().mean())\n",
    "            max_grads.append(p.grad.abs().max())\n",
    "    plt.bar(np.arange(len(max_grads)), max_grads, alpha=0.1, lw=1, color=\"c\")\n",
    "    plt.bar(np.arange(len(max_grads)), ave_grads, alpha=0.1, lw=1, color=\"b\")\n",
    "    plt.hlines(0, 0, len(ave_grads)+1, lw=2, color=\"k\" )\n",
    "    plt.xticks(range(0,len(ave_grads), 1), layers, rotation=\"vertical\")\n",
    "    plt.xlim(left=0, right=len(ave_grads))\n",
    "    plt.ylim(bottom = -0.001, top=0.02) # zoom in on the lower gradient regions\n",
    "    plt.xlabel(\"Layers\")\n",
    "    plt.ylabel(\"average gradient\")\n",
    "    plt.title(\"Gradient flow\")\n",
    "    \n",
    "    ## Plotting also lines like in plot_grad_flow_simple:\n",
    "    if(plot_both):\n",
    "        plt.plot(ave_grads, alpha=0.3, color=\"b\")\n",
    "        plt.hlines(0, 0, len(ave_grads)+1, linewidth=1, color=\"k\" )\n",
    "        plt.xticks(range(0,len(ave_grads), 1), layers, rotation=\"vertical\")\n",
    "        plt.xlim(xmin=0, xmax=len(ave_grads))\n",
    "    \n",
    "    plt.grid(True)\n",
    "    plt.legend([Line2D([0], [0], color=\"c\", lw=4),\n",
    "                Line2D([0], [0], color=\"b\", lw=4),\n",
    "                Line2D([0], [0], color=\"k\", lw=4)], ['max-gradient', 'mean-gradient', 'zero-gradient'])\n",
    "    \n",
    "    \n"
   ]
  },
  {
   "cell_type": "markdown",
   "metadata": {},
   "source": [
    "### Confusion Matrix API:"
   ]
  },
  {
   "cell_type": "code",
   "execution_count": 26,
   "metadata": {},
   "outputs": [],
   "source": [
    "import seaborn as sn\n",
    "import pandas as pd\n",
    "\n",
    "\n",
    "## Loaded the list of indexes I already created:\n",
    "dictOfLabels = np.load(\"data_lists/labelsToNumberDict.npy\").item()\n",
    "\n",
    "## List of labels\n",
    "index = [0 for i in range (0, len(dictOfLabels))]\n",
    "\n",
    "## Putting the label in the right order\n",
    "for label, i in  dictOfLabels.items():\n",
    "    index[i] = label\n",
    "\n",
    "    \n",
    "def confusion_matrix(mat, qty, pred=None, labels=None, index = index, write_results = False, name = \"Test\", cuda = True): \n",
    "    size = len(index)\n",
    "    \n",
    "    if(write_results):\n",
    "        \n",
    "        ## Dividing by total number:\n",
    "        for k in range(size):\n",
    "            if(qty[k]!= 0):\n",
    "                mat[k] *= 1/qty[k]\n",
    "                \n",
    "        ## Converting mat into data frame in order to use seaborn:\n",
    "        dataframe = pd.DataFrame(mat, index=index)\n",
    "        sn.set(font_scale=1)\n",
    "\n",
    "        # Creates the heatmap:\n",
    "        fig=plt.figure(figsize=(15, 12), dpi= 400, facecolor='w', edgecolor='k')\n",
    "        svm = sn.heatmap(dataframe, annot=False)\n",
    "\n",
    "        # Saves the figure than plots it:\n",
    "        figure = svm.get_figure()\n",
    "        figure.savefig('Images/Confusion_Matrices/Conf_Mat_' + name +'.png', dpi=400)\n",
    "        \n",
    "        del figure\n",
    "        #plt.show()\n",
    "        \n",
    "    else:\n",
    "    \n",
    "        if(pred is None or labels is None):\n",
    "            print(\"Error, inputs can't be None if not in write results mode.\")\n",
    "            return -1\n",
    "\n",
    "        if(mat is None):\n",
    "            #print(\"Initialize confusion matrix\")\n",
    "            mat = np.zeros([size,size])\n",
    "        \n",
    "        if(qty is None):\n",
    "            qty = [0]*size\n",
    "        \n",
    "        if cuda and (not pred.is_cuda or not labels.is_cuda):\n",
    "            pred   = pred.type(torch.cuda.FloatTensor)\n",
    "            labels = labels.type(torch.cuda.LongTensor)\n",
    "        \n",
    "        \n",
    "        for k in range(labels.size(0)): # ground truth first (row) and then prediction (col)\n",
    "         # print(\"Here : \" +str(labels[k].item()) + \" ; \" + str(predicted[k].item()))\n",
    "            mat[labels[k].item(),pred[k].item()] +=1\n",
    "            qty[labels[k].item()]                +=1\n",
    "            \n",
    "        \n",
    "            \n",
    "    return mat, qty"
   ]
  },
  {
   "cell_type": "markdown",
   "metadata": {},
   "source": [
    "### Mixup Augmentation:\n",
    "\n",
    "Credit to Lionel, see original file [here](https://gitlab.tech.orange/lionel.delphinpoulat/dcase2018_task5/-/blob/master/datagenerator.py).<br>\n",
    "Also, this repos helped, see [here](https://github.com/hysts/pytorch_mixup/blob/master/utils.py).<br>\n",
    "To convert into one_hot encoded we use `tensor.scatter_(dim, index, src)`. Its documentation is available [here](https://pytorch.org/docs/stable/tensors.html#torch.Tensor.scatter_).<br>\n",
    "\n",
    "    Brief description :\n",
    "> Writes all values from the tensor `src` into `self` at the indices specified in the `index` tensor. For each value in `src`, its output index is specified by its index in `src` for `dimension != dim` and by the corresponding value in `index` for `dimension = dim`."
   ]
  },
  {
   "cell_type": "code",
   "execution_count": 27,
   "metadata": {},
   "outputs": [],
   "source": [
    "def onehot(label, n_classes):\n",
    "    return torch.zeros(label.size(0), n_classes).scatter_(\n",
    "        1, label.view(-1, 1), 1)\n",
    "\n",
    "def mixup(data, targets, beta_coef, n_classes, sameClasses = False, debug = False):\n",
    "    if(data.size(0) != targets.size(0)):\n",
    "        print(\"The amount of data and labels are not the same !\")\n",
    "        return -1\n",
    "    \n",
    "    if(sameClasses):\n",
    "        indices_by_labels = {}\n",
    "        \n",
    "        for i, el in enumerate(targets):\n",
    "            ## Gets the value in the tensor:\n",
    "            el = el.item()\n",
    "            \n",
    "            if indices_by_labels.get(el) is None:\n",
    "                indices_by_labels[el] = [i]\n",
    "            else:\n",
    "                l = indices_by_labels[el]\n",
    "                l.append(i)\n",
    "                indices_by_labels[el] = l\n",
    "                        \n",
    "        indices = torch.zeros(targets.size(0), dtype = torch.long)\n",
    "        \n",
    "        for key in indices_by_labels.keys():\n",
    "            \n",
    "            initial_ids = np.array(indices_by_labels[key])\n",
    "            \n",
    "            perm        = np.random.permutation(initial_ids.size)\n",
    "            \n",
    "            new_ids     = initial_ids[perm]\n",
    "            \n",
    "            indices[torch.from_numpy(initial_ids)] = torch.from_numpy(new_ids)\n",
    "            \n",
    "        #print(targets == targets[indices])\n",
    "        \n",
    "    else:\n",
    "        # Creates a random permutation for the data:\n",
    "        indices = torch.randperm(data.size(0))\n",
    "\n",
    "        \n",
    "    # Creates mixed up data:\n",
    "    data_mix    = data[indices]\n",
    "    targets_mix = targets[indices]\n",
    "\n",
    "    # Converts labels into one_hot encoded labels:\n",
    "    targets     = onehot(targets, n_classes)    \n",
    "    targets_mix = onehot(targets_mix, n_classes)\n",
    "    \n",
    "    # draws the mixup coefficient\n",
    "    mixup_var = torch.FloatTensor(np.random.beta(beta_coef, beta_coef, data.size(0)))\n",
    "    \n",
    "    # Computes the percentage of data that are affected by the mixup:\n",
    "    mixup_percentage = np.array([i for i in range (data.size(0))]) != np.array([el.item() for el in indices])\n",
    "    \n",
    "    for i, el in enumerate(mixup_var):\n",
    "        mixup_percentage[i] = (mixup_percentage[i] and (el < 0.9999))\n",
    "\n",
    "    mixup_percentage = sum(mixup_percentage)/data.size(0)\n",
    "    \n",
    "    if debug:\n",
    "        print(\"mix_var shape %s\" % str(mixup_var.shape))\n",
    "        print(\"X shape %s\" % str(data.shape))\n",
    "        print(\"labels %s\" % str(targets))\n",
    "        print(\"mixup vars :\", mixup_var)\n",
    "        print(\"Indices :\", indices)\n",
    "        \n",
    "    # applies mixup to both input data and one-hot encoded labels\n",
    "    X = torch.rand(data.shape, dtype = torch.float)\n",
    "    \n",
    "    for i in range (data.size(0)):\n",
    "        X[i] = data[i] * mixup_var[i] + data_mix[i] * (1. - mixup_var[i])\n",
    "        \n",
    "    y = torch.rand((data.size(0), n_classes), dtype = torch.float)\n",
    "    \n",
    "    for i in range (targets.size(0)):    \n",
    "        y[i] = (targets[i] * mixup_var[i] + targets_mix[i] * (1. - mixup_var[i]))\n",
    "    \n",
    "    if debug:\n",
    "        print(\"mix label shape %s\" % str(y.shape))\n",
    "        print(\"%s\" % str(y[0]))\n",
    "    \n",
    "    return X, y, mixup_percentage\n"
   ]
  },
  {
   "cell_type": "markdown",
   "metadata": {},
   "source": [
    "#### Beta density plot:"
   ]
  },
  {
   "cell_type": "code",
   "execution_count": 28,
   "metadata": {},
   "outputs": [
    {
     "data": {
      "image/png": "[encoded data removed]",
      "text/plain": [
       "<Figure size 432x288 with 1 Axes>"
      ]
     },
     "metadata": {
      "needs_background": "light"
     },
     "output_type": "display_data"
    }
   ],
   "source": [
    "from scipy.stats import beta\n",
    "import matplotlib.pyplot as plt\n",
    "fig, ax = plt.subplots(1, 1)\n",
    "\n",
    "a, b = 0.4, 0.4\n",
    "mean, var, skew, kurt = beta.stats(a, b, moments='mvsk')\n",
    "\n",
    "x = np.linspace(beta.ppf(0.00001, a, b),\n",
    "                beta.ppf(0.99999, a, b), 100)\n",
    "\n",
    "ax.plot(x, beta.pdf(x, a, b),\n",
    "       'r-', lw=5, alpha=0.6, label='beta pdf')\n",
    "\n",
    "plt.legend()\n",
    "plt.show()"
   ]
  },
  {
   "cell_type": "markdown",
   "metadata": {},
   "source": [
    "#### Redefining cost function for one hot encoded labels:"
   ]
  },
  {
   "cell_type": "code",
   "execution_count": 29,
   "metadata": {},
   "outputs": [],
   "source": [
    "## Initializing new cost function:\n",
    "cost_onehot = NLLL_OneHot()"
   ]
  },
  {
   "cell_type": "markdown",
   "metadata": {},
   "source": [
    "### Early Stopping:\n",
    "\n",
    "For a **theoretical perspective**, please refer to <cite>Goodfellow, Ian. Deep Learning. Cambridge, Massachusetts, The MIT Press, Publication Date</cite> chapter 7, paragraph 8, page 240, algorithm $7.1$.<br>\n"
   ]
  },
  {
   "cell_type": "code",
   "execution_count": 30,
   "metadata": {},
   "outputs": [],
   "source": [
    "\"\"\"\n",
    "@Batch_dev is the number of test tensors that are stored at once\n",
    "\"\"\"\n",
    "def accuracy(net, test_loader, criterion, \n",
    "             ## SincNet Params\n",
    "             Batch_dev, wlen, wshift,\n",
    "             ## Confusion_Matrix param:\n",
    "             matrix_name, compute_matrix = False,\n",
    "             cuda=True):\n",
    "    \n",
    "    ## Modifs pour SincNet\n",
    "    net.eval()\n",
    "    \n",
    "\n",
    "    loss_sum=0\n",
    "    err_sum=0\n",
    "    err_sum_snt=0\n",
    "    ## End\n",
    "    \n",
    "    with torch.no_grad():\n",
    "        \n",
    "        # Initializes confusion matrix and quantity to None:\n",
    "        mat = None\n",
    "        qty = None\n",
    "        \n",
    "        ## Initialisation of storing units for testing:\n",
    "        stored_outs   = 0\n",
    "        stored_labels = 0\n",
    "        stored_idx    = 0\n",
    "            \n",
    "        \n",
    "        ## For SincNet, information in testloader is raw and can be of various lengths!\n",
    "        for data in test_loader:\n",
    "            ## Stores data from test_loader:\n",
    "            audios, labels, file_ids = data\n",
    "            \n",
    "            ## Switches to cuda:\n",
    "            if cuda:\n",
    "                audios = audios.type(torch.cuda.FloatTensor)\n",
    "                labels = labels.type(torch.cuda.LongTensor)\n",
    "            \n",
    "            \n",
    "            ## <!> Splits the data by file: time_complexity = O(batch_size) and space_complexity = O(Number_Of_Files)\n",
    "            section  = []\n",
    "            ids_list = []\n",
    "            current_idx = file_ids[0].item()\n",
    "            ids_list.append(current_idx)\n",
    "            for i, el in enumerate(file_ids):\n",
    "                current_el = el.item()\n",
    "                if current_el != current_idx:\n",
    "                    current_idx = current_el\n",
    "                    ids_list.append(current_idx)\n",
    "                    section.append(i - sum(section))\n",
    "\n",
    "            ## Last section is added:    \n",
    "            section.append(audios.size(0) - sum(section))\n",
    "            #print(section)\n",
    "            #print(ids_list)\n",
    "\n",
    "            ## Algorithm that splits the tensors by file:\n",
    "            X_split = torch.split(audios, section)\n",
    "            y_split = torch.split(labels, section)\n",
    "\n",
    "            assert(len(X_split) == len(y_split))\n",
    "            ## <!> EndSplit <!>\n",
    "\n",
    "            \n",
    "            ## Processes file by file the data:\n",
    "            for i in range(len(X_split)):# nbre_fichier_par_batch= len(X_split)\n",
    "                ## Stores the current id:\n",
    "                current_idx    = ids_list[i]\n",
    "                current_data   = X_split[i] if len(X_split) >= 1 else X_split\n",
    "                current_labels = y_split[i] if len(y_split) >= 1 else y_split\n",
    "\n",
    "                if type(stored_outs) is not torch.Tensor:\n",
    "                    stored_idx    = current_idx\n",
    "                    stored_outs   = net(current_data)\n",
    "                    stored_labels = current_labels\n",
    "\n",
    "                    ## Updates the number of signals\n",
    "                    #nbr_snt      += 1\n",
    "                else:\n",
    "\n",
    "                    if(stored_idx == current_idx):\n",
    "                        stored_outs   = torch.cat([stored_outs, net(current_data)], dim=0)\n",
    "                        stored_labels = torch.cat([stored_labels, current_labels], dim=0)\n",
    "\n",
    "                    else:\n",
    "\n",
    "                        #pout = stored_outs\n",
    "\n",
    "                        ## Predicts for every chunk of audio the label and counts how many time it got it correctly\n",
    "                        pred = torch.max(stored_outs,dim=1)[1]\n",
    "                        loss = criterion(stored_outs, stored_labels.long())\n",
    "                        err  = torch.mean((pred!=stored_labels.long()).float())\n",
    "\n",
    "                        ## Updates the confusion matrix:\n",
    "                        if(compute_matrix):\n",
    "                            mat, qty = confusion_matrix(mat, qty, pred=pred, labels=stored_labels, write_results = False, name = \"Pas Important\", cuda = True)\n",
    "\n",
    "                        ## Updates the error that I use here:\n",
    "                        loss_sum=loss_sum+loss.detach()\n",
    "                        err_sum=err_sum+err.detach()\n",
    "\n",
    "                        ## Sum the probability over the columns, then it stores the value and the position of the max. (Lionel's Method)\n",
    "                        [val,best_class]=torch.max(torch.sum(stored_outs,dim=0), 0)\n",
    "                        err_sum_snt=err_sum_snt+(best_class!=stored_labels[0]).float()\n",
    "\n",
    "                        ## Stores new data:\n",
    "                        stored_outs   = net(current_data)\n",
    "                        stored_labels = y_split[i] if len(y_split) >= 1 else y_split\n",
    "                        stored_idx    = current_idx\n",
    "        \n",
    "        ## Last File is not processed by the algorithm above...\n",
    "        if(stored_outs.size(0) != 0):\n",
    "            ## Predicts for every chunk of audio the label and counts how many time it got it correctly\n",
    "            pred = torch.max(stored_outs,dim=1)[1]\n",
    "            loss = criterion(stored_outs, stored_labels.long())\n",
    "            err  = torch.mean((pred!=stored_labels.long()).float())\n",
    "\n",
    "            ## Updates the confusion matrix:\n",
    "            if(compute_matrix):\n",
    "                mat, qty = confusion_matrix(mat, qty, pred=pred, labels=stored_labels, write_results = False, name = \"Pas Important\", cuda = True)\n",
    "\n",
    "            ## Updates the error that I use here:\n",
    "            loss_sum=loss_sum+loss.detach()\n",
    "            err_sum=err_sum+err.detach()\n",
    "\n",
    "            ## Sum the probability over the columns, then it stores the value and the position of the max. (Lionel's Method)\n",
    "            [val,best_class]=torch.max(torch.sum(stored_outs,dim=0), 0)\n",
    "            err_sum_snt=err_sum_snt+(best_class!=stored_labels[0]).float()\n",
    "        \n",
    "        ## mean Error of best class:\n",
    "        err_tot_dev_snt=err_sum_snt/snt_te\n",
    "        \n",
    "        ## mean Loss:\n",
    "        loss_tot_dev=loss_sum/snt_te\n",
    "        \n",
    "        ## mean Error on each window:\n",
    "        err_tot_dev=err_sum/snt_te\n",
    "\n",
    "        ## Plots and saves the confusion matrix:\n",
    "        if(compute_matrix):\n",
    "            mat = confusion_matrix(mat, qty, write_results = True, name = matrix_name, cuda = True)\n",
    "            \n",
    "            \n",
    "    net.train()\n",
    "\n",
    "    return (err_tot_dev_snt, loss_tot_dev, err_tot_dev)\n",
    "\n",
    "def train(net, optimizer, train_loader, valid_loader, criterion, criterion_onehot,\n",
    "          ## SincNet variables:\n",
    "          wlen,\n",
    "          wshift,\n",
    "          n_classes,\n",
    "          ## File variables:\n",
    "          output_folder,\n",
    "          fname,\n",
    "          Models_file_extension,\n",
    "          ## Hyper param:\n",
    "          n_epoch = 5,\n",
    "          patience = 4,\n",
    "          Batch_dev = 32,#Number of batches for testing set\n",
    "          train_acc_period = 100,\n",
    "          test_acc_period = 5,\n",
    "          ## For mixup:\n",
    "          beta_coef = 0.5,\n",
    "          use_mixup = False,\n",
    "          same_classes = False,\n",
    "          ## If a Net was loaded:\n",
    "          starting_epoch = 0,\n",
    "          ## If user wishes to plot grad:\n",
    "          plotGrad = False,\n",
    "          ## If user wishes to use a scheduler:\n",
    "          use_scheduler = False,\n",
    "          scheduler = None,\n",
    "          ## If user wishes to save and compute confusion matrix:\n",
    "          compute_matrix = False,\n",
    "          ## Indicates if the network that is trained is SincNet\n",
    "          is_SincNet = False,\n",
    "          ## Is Cuda activated?\n",
    "          cuda=True):\n",
    "    \n",
    "    net.train()\n",
    "\n",
    "    ## Initialization:\n",
    "    min_loss = float(\"inf\")\n",
    "    \n",
    "    ## best_epoch_number is a var that stores the number of epoch required for best performance:\n",
    "    best_epoch_number = 0\n",
    "    \n",
    "    ## p is a counter for how many accuracy checks we made without any improvement on validation loss:\n",
    "    p=0\n",
    "    \n",
    "    ## Declaring to the user that training has begun\n",
    "    print(\"Trainining begun with a patience of {} accuracy periods\".format(patience), end=\"\")\n",
    "    if(use_mixup):\n",
    "        string = \"\"\n",
    "        if(same_classes):\n",
    "            string = \"Same Class \"\n",
    "        print(\" and using {1}mixup with a Beta({0}, {0}) distribution.\".format(beta_coef, string))\n",
    "    else:\n",
    "        print(\".\")\n",
    "    if use_scheduler:\n",
    "        print(\"Training is optimized with a scheduler.\")\n",
    "    print(\"Total number of classes is equal to : {}\".format(n_classes))\n",
    "    \n",
    "    ## Continues training beyond n_epoch if algorithm did not converge:\n",
    "    while(p < patience):\n",
    "        \n",
    "        for epoch in tqdm.tqdm(range(starting_epoch + 1, n_epoch + starting_epoch + 1)):  # loop over the dataset multiple times\n",
    "\n",
    "            ## Stops the training if we exceeded its patience!\n",
    "            if(p >= patience):\n",
    "                break\n",
    "\n",
    "\n",
    "            running_loss = 0.0\n",
    "            running_acc = 0.0\n",
    "            running_mixup_percentage = 0.0\n",
    "\n",
    "            for i, data in enumerate(train_loader, 0):\n",
    "\n",
    "                # Getting Mixed up data if required by user:\n",
    "                if(use_mixup):\n",
    "                    inputs, labels, mixup_states     = data\n",
    "                    mixup_percentage                 = mixup_states.sum().item() / inputs.size(0)\n",
    "                    running_mixup_percentage         = 0.33*mixup_percentage + 0.66*running_mixup_percentage\n",
    "                else:\n",
    "                    # gets the regular inputs\n",
    "                    inputs, labels = data\n",
    "                    \n",
    "                    \n",
    "\n",
    "                if cuda:\n",
    "                    inputs = inputs.type(torch.cuda.FloatTensor)\n",
    "                    labels = labels.type(torch.cuda.LongTensor)\n",
    "\n",
    "                # print(inputs.shape)\n",
    "                # zero the parameter gradients\n",
    "                optimizer.zero_grad()\n",
    "\n",
    "                # forward + backward + optimize\n",
    "                outputs = net(inputs)\n",
    "\n",
    "                ## Loss evaluation:\n",
    "                    # We use custom made function if there is mixup envolved\n",
    "                    # Else, we use regular criterion from pytorch\n",
    "                if(use_mixup):\n",
    "                    loss = criterion_onehot(outputs, labels.long())\n",
    "                else:\n",
    "                    loss = criterion(outputs, labels.long())\n",
    "                    \n",
    "                    \n",
    "                loss.backward()\n",
    "\n",
    "                ## Plotting the grad for frequencies and second layer 1Dconv:\n",
    "                if(plotGrad):\n",
    "                    plot_grad_flow(net.named_parameters())   \n",
    "                    #plot_grad_flow_simple(net.named_parameters())\n",
    "\n",
    "                optimizer.step()\n",
    "                    \n",
    "                ## If we used mixup, we need to convert back labels to og format.\n",
    "                if(use_mixup):\n",
    "                    labels = torch.max(labels, dim = 1)[1]\n",
    "\n",
    "                running_loss = 0.33*loss.detach() + 0.66*running_loss\n",
    "                predicted = torch.max(outputs.data, dim = 1)[1]\n",
    "\n",
    "                ## @correct is the percentage of correct answers by the Net.\n",
    "                correct = (predicted == labels).sum().item()/labels.size(0)\n",
    "                running_acc = 0.33*correct + 0.66*running_acc\n",
    "\n",
    "                # prints statistics during epoch!\n",
    "                if i % train_acc_period == train_acc_period-1:\n",
    "                    print(\"Training set : \")\n",
    "                    print('[%d, %5d] running loss: %.3f' %(epoch, i + 1, running_loss))\n",
    "                    print('[%d, %5d] running acc: %.3f' %(epoch, i + 1, running_acc))\n",
    "                    \n",
    "                    if use_mixup:\n",
    "                        print('[%d, %5d] running mixup percentage: %.3f' %(epoch, i + 1, running_mixup_percentage))\n",
    "\n",
    "\n",
    "\n",
    "            ## Validation loop part:\n",
    "            if epoch % test_acc_period == 0:\n",
    "                best_class_error, cur_loss, window_error = accuracy(net, valid_loader, criterion, \n",
    "                                                                    Batch_dev, wlen, wshift,\n",
    "                                                                    matrix_name = fname, compute_matrix = compute_matrix,\n",
    "                                                                    cuda=cuda)\n",
    "                \n",
    "                \n",
    "                \n",
    "                ## If user wishes to use a scheduler:\n",
    "                if(use_scheduler):\n",
    "                    scheduler.step(cur_loss)\n",
    "\n",
    "\n",
    "                ## Writing the results in the specified file:\n",
    "                with open(output_folder+\"/\" + fname + \".res\", \"a\") as res_file:\n",
    "                    res_file.write(\"epoch %i, running_loss_tr=%f running_acc_tr=%f best_class_acc_te=%f loss_te=%f window_acc_te=%f \\n\" % \n",
    "                                                                                                 (epoch,\n",
    "                                                                                                 running_loss,\n",
    "                                                                                                 running_acc,\n",
    "                                                                                                 1-best_class_error,\n",
    "                                                                                                 cur_loss,\n",
    "                                                                                                 1-window_error))   \n",
    "\n",
    "                print(\"\\n\")\n",
    "                print(\"Validation set : \")\n",
    "                print('[%d] test loss: %.3f'       %(epoch, cur_loss))\n",
    "                print('[%d] window acc: %.3f'      %(epoch, 1-window_error))\n",
    "                print('[%d] best class acc: %.3f'  %(epoch, 1-best_class_error))\n",
    "\n",
    "\n",
    "                if(cur_loss < min_loss):\n",
    "                    ## Saves the new loss:\n",
    "                    min_loss = cur_loss\n",
    "\n",
    "                    ## Saves the parameters if they are better:\n",
    "                    # SincNet saving method:\n",
    "                    if is_SincNet:\n",
    "                        torch.save(net.CNN_net.state_dict(), output_folder + '/' + fname + \"_CNN\" + Models_file_extension)\n",
    "                        torch.save(net.DNN1_net.state_dict(), output_folder+ '/' + fname + \"_DNN1\" + Models_file_extension)\n",
    "                        torch.save(net.DNN2_net.state_dict(), output_folder+ '/' + fname + \"_DNN2\" + Models_file_extension)\n",
    "                    \n",
    "                    # Regular save:\n",
    "                    torch.save(net.state_dict(), output_folder+ '/' + fname + \"_Main_net\" + Models_file_extension)\n",
    "\n",
    "                    ## Resets the patience, we found a better net.\n",
    "                    p = 0\n",
    "\n",
    "                    ## Stores the best number of epoch:\n",
    "                    best_epoch_number = epoch\n",
    "\n",
    "                else:\n",
    "                    p +=1\n",
    "        \n",
    "        ## Inside While scope:\n",
    "        starting_epoch += n_epoch#Here we go again...\n",
    "\n",
    "\n",
    "      \n",
    "    print('Finished Training, the best number of epoch was {}.'.format(best_epoch_number))\n",
    "    \n",
    "    # If user wants to plot grad: \n",
    "    if(plotGrad):\n",
    "        ## Saves figure:\n",
    "        plt.savefig(\"Images/\" + fname + \"_GradFlow.png\", format = 'png')\n",
    "        \n",
    "        ## Then shows the figure:\n",
    "        plt.show()\n",
    "        \n"
   ]
  },
  {
   "cell_type": "markdown",
   "metadata": {},
   "source": [
    "#### Loading previously trained model if needed:"
   ]
  },
  {
   "cell_type": "code",
   "execution_count": 31,
   "metadata": {},
   "outputs": [],
   "source": [
    "def LoadPrevModel(model_file_path, Models_file_extension, Load, evalMode = False, inSameFile = True, at_epoch = N_epochs):\n",
    "    if(Load == False):\n",
    "        return 0\n",
    "    \n",
    "    \n",
    "    ## Setting the parameters of the previously defined networks \n",
    "    global Main_net, CNN_net, DNN1_net, DNN2_net\n",
    "    \n",
    "    \n",
    "    if(inSameFile):\n",
    "        ## Loading the pretrained setup file\n",
    "        pretrainedSetup = torch.load(model_file_path + Models_file_extension)\n",
    "        #print(pretrainedSetup['CNN_model_par'])\n",
    "        \n",
    "        ## Loading net parameters one by one:\n",
    "        CNN_net.load_state_dict(pretrainedSetup['CNN_model_par'])\n",
    "        if(evalMode):CNN_net.eval()\n",
    "\n",
    "        DNN1_net.load_state_dict(pretrainedSetup['DNN1_model_par'])\n",
    "        if(evalMode):DNN1_net.eval()\n",
    "\n",
    "        DNN2_net.load_state_dict(pretrainedSetup['DNN2_model_par'])\n",
    "        if(evalMode):DNN2_net.eval()\n",
    "                    \n",
    "    else:\n",
    "        ## Loading all the pretrained setup file\n",
    "        \n",
    "        pretrainedSetup_CNN  = torch.load(model_file_path + \"_CNN\" + Models_file_extension)\n",
    "        pretrainedSetup_DNN1 = torch.load(model_file_path + \"_DNN1\" + Models_file_extension)\n",
    "        pretrainedSetup_DNN2 = torch.load(model_file_path + \"_DNN2\" + Models_file_extension)\n",
    "        \n",
    "        ## Loading net parameters one by one:\n",
    "        CNN_net.load_state_dict(pretrainedSetup_CNN)\n",
    "        if(evalMode):CNN_net.eval()\n",
    "\n",
    "        DNN1_net.load_state_dict(pretrainedSetup_DNN1)\n",
    "        if(evalMode):DNN1_net.eval()\n",
    "\n",
    "        DNN2_net.load_state_dict(pretrainedSetup_DNN2)\n",
    "        if(evalMode):DNN2_net.eval()\n",
    "    \n",
    "    \n",
    "    \n",
    "    ## Putting all the nets into Main_net:\n",
    "    Main_net = Main_net = MainNet(CNN_net, DNN1_net, DNN2_net)\n",
    "    if(evalMode):Main_net.eval()\n",
    "\n",
    "    \n",
    "    #print(CNN_net.state_dict()['conv.0.low_hz_'][0])\n",
    "    \n",
    "    print(\"Models from \" + model_file_path + \" were loaded successfully!\")\n",
    "    \n",
    "    return at_epoch + 1"
   ]
  },
  {
   "cell_type": "code",
   "execution_count": 32,
   "metadata": {},
   "outputs": [],
   "source": [
    "## Parameters that needs to change each execution:\n",
    "Training_model_file   = output_folder.split(\"/\")[-2] if output_folder.split(\"/\")[-1]==\"\" else output_folder.split(\"/\")[-1]\n",
    "Training_model_file  += \"_Notebook\"\n",
    "Models_file_extension = \".pkl\" if pt_file == 'none' else pt_file.split(\".\")[1]\n",
    "previous_model_path   = output_folder+ '/' + Training_model_file if pt_file == 'none' else pt_file.split(\".\")[0]\n",
    "Load_previous_model   = False if pt_file == 'none' else True\n",
    "at_epoch              = 0\n",
    "inTheSameFile         = False\n",
    "plotGrad              = False\n",
    "n_classes             = class_lay[-1]#41 for SincNet\n",
    "same_classes          = same_classes\n",
    "compute_matrix        = False\n",
    "is_SincNet            = True\n",
    "\n",
    "\n",
    "## are in cfg:\n",
    "#beta_coef=0.4\n",
    "#use_mixup\n",
    "#N_eval_epoch = 1\n",
    "#same_classes = True\n",
    "#use_scheduler         = True\n",
    "\n",
    "\n",
    "## Loading previously trained model if needed:\n",
    "previous_epoch = LoadPrevModel(previous_model_path, \n",
    "                               Models_file_extension, \n",
    "                               Load= Load_previous_model, \n",
    "                               inSameFile = inTheSameFile,\n",
    "                               at_epoch = at_epoch,\n",
    "                               evalMode = True)\n",
    "\n",
    "\n",
    "## Training parameters available in the SincNet_TIMIT.cfg file section [optimization]:\n",
    "# batch_size\n",
    "# N_epochs     = 1500\n",
    "# N_batches    = 800\n",
    "# N_eval_epoch = 8\n",
    "\n",
    "## Overwriting N_epochs just bcz flemme:\n",
    "#N_epochs = 58\n",
    "\n"
   ]
  },
  {
   "cell_type": "markdown",
   "metadata": {},
   "source": [
    "#### Training occurs below:"
   ]
  },
  {
   "cell_type": "code",
   "execution_count": null,
   "metadata": {
    "scrolled": true
   },
   "outputs": [
    {
     "name": "stderr",
     "output_type": "stream",
     "text": [
      "  0%|          | 0/100 [00:00<?, ?it/s]"
     ]
    },
    {
     "name": "stdout",
     "output_type": "stream",
     "text": [
      "Trainining begun with a patience of 7 accuracy periods.\n",
      "Training is optimized with a scheduler.\n",
      "Total number of classes is equal to : 41\n",
      "Training set : \n",
      "[1,   100] running loss: 2.913\n",
      "[1,   100] running acc: 0.151\n",
      "Training set : \n",
      "[1,   200] running loss: 2.821\n",
      "[1,   200] running acc: 0.204\n"
     ]
    },
    {
     "name": "stderr",
     "output_type": "stream",
     "text": [
      "  1%|          | 1/100 [00:28<46:31, 28.20s/it]"
     ]
    },
    {
     "name": "stdout",
     "output_type": "stream",
     "text": [
      "Training set : \n",
      "[2,   100] running loss: 2.832\n",
      "[2,   100] running acc: 0.211\n",
      "Training set : \n",
      "[2,   200] running loss: 2.511\n",
      "[2,   200] running acc: 0.246\n"
     ]
    },
    {
     "name": "stderr",
     "output_type": "stream",
     "text": [
      "  2%|▏         | 2/100 [00:56<46:04, 28.21s/it]"
     ]
    },
    {
     "name": "stdout",
     "output_type": "stream",
     "text": [
      "Training set : \n",
      "[3,   100] running loss: 2.773\n",
      "[3,   100] running acc: 0.190\n",
      "Training set : \n",
      "[3,   200] running loss: 2.518\n",
      "[3,   200] running acc: 0.241\n"
     ]
    },
    {
     "name": "stderr",
     "output_type": "stream",
     "text": [
      "  3%|▎         | 3/100 [01:24<45:39, 28.24s/it]"
     ]
    },
    {
     "name": "stdout",
     "output_type": "stream",
     "text": [
      "Training set : \n",
      "[4,   100] running loss: 2.601\n",
      "[4,   100] running acc: 0.213\n",
      "Training set : \n",
      "[4,   200] running loss: 2.570\n",
      "[4,   200] running acc: 0.271\n"
     ]
    },
    {
     "name": "stderr",
     "output_type": "stream",
     "text": [
      "  4%|▍         | 4/100 [01:53<45:17, 28.31s/it]"
     ]
    },
    {
     "name": "stdout",
     "output_type": "stream",
     "text": [
      "Training set : \n",
      "[5,   100] running loss: 2.379\n",
      "[5,   100] running acc: 0.250\n",
      "Training set : \n",
      "[5,   200] running loss: 2.335\n",
      "[5,   200] running acc: 0.293\n",
      "\n",
      "\n",
      "Validation set : \n",
      "[5] test loss: 2.433\n",
      "[5] window acc: 0.314\n",
      "[5] best class acc: 0.373\n"
     ]
    },
    {
     "name": "stderr",
     "output_type": "stream",
     "text": [
      "  5%|▌         | 5/100 [03:48<1:25:55, 54.27s/it]"
     ]
    }
   ],
   "source": [
    "train(Main_net, optimizers, train_loader, valid_loader, cost, cost_onehot,\n",
    "          ## SincNet variables:\n",
    "          wlen,\n",
    "          wshift,\n",
    "          n_classes,\n",
    "          ## File variables:\n",
    "          output_folder,\n",
    "          Training_model_file,\n",
    "          Models_file_extension,\n",
    "          ## Hyper param:\n",
    "          n_epoch = N_epochs,\n",
    "          patience = patience,\n",
    "          Batch_dev = Batch_dev,#Number of batches for testing set\n",
    "          train_acc_period = train_acc_period,\n",
    "          test_acc_period = N_eval_epoch,\n",
    "          ## For Mixup\n",
    "          beta_coef = beta_coef,\n",
    "          use_mixup = use_mixup,\n",
    "          same_classes = same_classes,\n",
    "          ## Loaded model params:\n",
    "          starting_epoch = previous_epoch,\n",
    "          ## Tracking gradient\n",
    "          plotGrad = plotGrad,\n",
    "          ## If user wishes to use scheduler:\n",
    "          use_scheduler = use_scheduler,\n",
    "          scheduler = schedulers,\n",
    "          ## If user wishes to save and compute confusion matrix:\n",
    "          compute_matrix = compute_matrix,\n",
    "          ## Indicates if the network that is trained is SincNet\n",
    "          is_SincNet = is_SincNet,\n",
    "          cuda=True)\n"
   ]
  },
  {
   "cell_type": "markdown",
   "metadata": {},
   "source": [
    "### Magical Line of code that empties the cache:"
   ]
  },
  {
   "cell_type": "code",
   "execution_count": null,
   "metadata": {},
   "outputs": [],
   "source": [
    "torch.cuda.empty_cache()"
   ]
  },
  {
   "cell_type": "markdown",
   "metadata": {},
   "source": [
    "## Annexes:\n",
    "\n",
    "> This part is for unused algorithms that were at some point useful."
   ]
  },
  {
   "cell_type": "markdown",
   "metadata": {},
   "source": [
    "### Brut force method:\n",
    " We load everything on RAM because we can..."
   ]
  },
  {
   "cell_type": "code",
   "execution_count": null,
   "metadata": {},
   "outputs": [],
   "source": [
    "def load_dataset_on_Ram(data_folder,wav_lst,N_snt,lab_dict, fact_amp, wlen):\n",
    "    \n",
    "    # Initialization of the minibatch (batch_size,[0=>x_t,1=>x_t+N,1=>random_samp])\n",
    "    sig_batch = []\n",
    "    lab_batch = []\n",
    "    \n",
    "    \n",
    "    rand_amp_arr = np.random.uniform(1.0-fact_amp,1+fact_amp,N_snt)\n",
    "    \n",
    "    for i in range(N_snt):\n",
    "        \n",
    "        ## Small Hotfix on windows, we do not put the / before the path.\n",
    "        [signal, fs] = librosa.core.load(data_folder + wav_lst[i], sr=None)\n",
    "        \n",
    "        ## Get signal length:\n",
    "        snt_len = len(signal)\n",
    "        \n",
    "        if(snt_len-wlen < 0): \n",
    "            raise Exception(\"error len is too small {0} < {1}\".format(snt_len, wlen))\n",
    "            print(\"error\")\n",
    "            break\n",
    "            \n",
    "\n",
    "        channels = len(signal.shape)\n",
    "        \n",
    "        ## Their conversion stereo Mono is not taking the mean, like I did, \n",
    "        ## but rather taking the first columns\n",
    "        if channels == 2:\n",
    "            print('WARNING: stereo to mono: '+data_folder+wav_lst[i])\n",
    "            signal = signal[:,0]\n",
    "            \n",
    "        snt_beg= 0 if snt_len-wlen-1 in (0, -1) else np.random.randint(snt_len-wlen-1) #randint(0, snt_len-2*wlen-1)\n",
    "        snt_end=snt_beg+wlen\n",
    "\n",
    "        \n",
    "        ## Signal is stored and randomly amplified\n",
    "        #Time complexity of copy operation is O(fs* wlen/1000)\n",
    "        #https://wiki.python.org/moin/TimeComplexity\n",
    "        singal = [el * rand_amp_arr[i] for el in signal.tolist()[snt_beg: snt_end]]\n",
    "        \n",
    "        sig_batch.append(signal.tolist()[snt_beg: snt_end])\n",
    "        lab_batch.append(lab_dict[wav_lst[i]])\n",
    "        if(i<5):print(len(sig_batch[i]), lab_batch)\n",
    "\n",
    "        \n",
    "    \n",
    "    tensor_x = torch.FloatTensor(sig_batch) # transform to torch tensor\n",
    "    del sig_batch\n",
    "    tensor_y = torch.FloatTensor(lab_batch)\n",
    "    del lab_batch\n",
    "    \n",
    "\n",
    "    dataset = torch.utils.data.TensorDataset(tensor_x,tensor_y)\n",
    "    \n",
    "    return dataset  "
   ]
  },
  {
   "cell_type": "code",
   "execution_count": null,
   "metadata": {
    "scrolled": true
   },
   "outputs": [],
   "source": [
    "## Loading all the training dataset on RAM, beceause we can with 64 GB of RAM!\n",
    "train_dataset = load_dataset_on_Ram(data_folder, wav_lst_tr, 5,#len(wav_lst_tr),\n",
    "                                    lab_dict, 0.2, wlen)\n",
    "test_dataset  = load_dataset_on_Ram(data_folder, wav_lst_te, 5,#len(wav_lst_te),\n",
    "                                    lab_dict, 0.2, wlen)\n",
    "#print(train_dataset[0])"
   ]
  },
  {
   "cell_type": "code",
   "execution_count": null,
   "metadata": {},
   "outputs": [],
   "source": [
    "## Defines the loaders:\n",
    "train_loader = torch.utils.data.DataLoader(dataset=train_dataset,\n",
    "                                          batch_size=batch_size,\n",
    "                                          shuffle=True)\n",
    "\n",
    "valid_loader  = torch.utils.data.DataLoader(dataset=test_dataset,\n",
    "                                          batch_size=batch_size,\n",
    "                                          shuffle=False)\n"
   ]
  },
  {
   "cell_type": "markdown",
   "metadata": {},
   "source": [
    "## Algorithm That was used for new dataset:"
   ]
  },
  {
   "cell_type": "code",
   "execution_count": 31,
   "metadata": {},
   "outputs": [
    {
     "name": "stdout",
     "output_type": "stream",
     "text": [
      "[12, 20]\n",
      "[0, 1]\n",
      "(tensor([[-0.1218, -0.1462, -0.1257,  ..., -0.2727, -0.3080, -0.3364],\n",
      "        [ 0.1029,  0.0696,  0.0426,  ...,  0.1946,  0.1648,  0.1294],\n",
      "        [-0.2260, -0.2151, -0.1955,  ..., -0.1181, -0.1349, -0.1238],\n",
      "        ...,\n",
      "        [-0.1667, -0.2136, -0.2070,  ...,  0.0901,  0.0955,  0.0840],\n",
      "        [-0.3293, -0.3412, -0.3814,  ...,  0.3096,  0.3188,  0.3355],\n",
      "        [ 0.0308, -0.0971, -0.1494,  ..., -0.1729, -0.2203, -0.2404]]), tensor([[-3.1162e-05, -3.3168e-07,  3.2861e-05,  ...,  3.2443e-02,\n",
      "          1.3248e-02,  1.8848e-03],\n",
      "        [ 1.4278e-02, -3.9172e-03, -4.4962e-02,  ..., -1.2917e-01,\n",
      "         -1.3032e-01, -1.3979e-01],\n",
      "        [-1.6374e-02,  2.6467e-02,  1.7332e-02,  ...,  1.6865e-01,\n",
      "          1.7071e-01,  1.6238e-01],\n",
      "        ...,\n",
      "        [ 3.9253e-02,  2.0674e-02,  3.5646e-02,  ...,  1.5996e-01,\n",
      "          1.8126e-01,  1.8925e-01],\n",
      "        [ 2.0677e-02, -1.7662e-01, -1.8921e-01,  ..., -1.0287e-02,\n",
      "         -6.2360e-02, -8.5594e-02],\n",
      "        [ 1.7213e-01,  2.0488e-01,  1.3005e-01,  ..., -1.9878e-01,\n",
      "         -2.0655e-01, -1.5247e-01]]))\n",
      "1\n",
      "tensor(3.7136, device='cuda:1') tensor(1., device='cuda:1') tensor(1., device='cuda:1')\n",
      "20\n",
      "[32]\n",
      "[1]\n",
      "(tensor([[-0.1143, -0.1088, -0.1286,  ...,  0.0267, -0.0971, -0.0948],\n",
      "        [-0.1218, -0.2342, -0.2587,  ..., -0.0743, -0.1285, -0.2882],\n",
      "        [-0.2616, -0.2390, -0.2728,  ..., -0.1058, -0.0435,  0.0032],\n",
      "        ...,\n",
      "        [-0.0030, -0.0319, -0.0798,  ..., -0.2780, -0.2221, -0.1120],\n",
      "        [ 0.0409,  0.0724,  0.0578,  ..., -0.3602, -0.4073, -0.3991],\n",
      "        [ 0.1996,  0.1068, -0.0166,  ...,  0.0926,  0.1418,  0.1642]]),)\n",
      "1\n",
      "tensor(3.7136, device='cuda:1') tensor(1., device='cuda:1') tensor(1., device='cuda:1')\n",
      "20\n",
      "[32]\n",
      "[1]\n",
      "(tensor([[ 0.0978,  0.0288, -0.0022,  ...,  0.6494,  0.6263,  0.7159],\n",
      "        [ 0.0701,  0.0526,  0.0378,  ...,  0.2711,  0.2876,  0.3016],\n",
      "        [ 0.0737,  0.0490, -0.0085,  ...,  0.0450,  0.0523,  0.0634],\n",
      "        ...,\n",
      "        [-0.3695, -0.2993, -0.2965,  ...,  0.3093,  0.3292,  0.3262],\n",
      "        [-0.0131,  0.0169,  0.0843,  ...,  0.1225,  0.0741,  0.0566],\n",
      "        [ 0.1825,  0.0711, -0.0238,  ..., -0.0938,  0.0211, -0.1960]]),)\n",
      "1\n",
      "tensor(3.7136, device='cuda:1') tensor(1., device='cuda:1') tensor(1., device='cuda:1')\n",
      "20\n",
      "[32]\n",
      "[1]\n",
      "(tensor([[ 0.3090,  0.2795,  0.2204,  ...,  0.0996,  0.0091, -0.0308],\n",
      "        [ 0.1776,  0.1952,  0.2189,  ..., -0.0039, -0.0222, -0.0463],\n",
      "        [ 0.1341,  0.1312,  0.1309,  ...,  0.4931,  0.5065, -0.0594],\n",
      "        ...,\n",
      "        [-0.2349, -0.2190, -0.1962,  ..., -0.1642, -0.1599, -0.1553],\n",
      "        [ 0.0043,  0.0054,  0.0108,  ..., -0.2487, -0.2361, -0.2230],\n",
      "        [-0.0462, -0.0477, -0.0459,  ..., -0.0091, -0.1099, -0.1772]]),)\n",
      "1\n",
      "tensor(3.7136, device='cuda:1') tensor(1., device='cuda:1') tensor(1., device='cuda:1')\n",
      "20\n",
      "[32]\n",
      "[1]\n",
      "(tensor([[ 0.2095,  0.2042,  0.1860,  ...,  0.0205,  0.0203,  0.0198],\n",
      "        [-0.0578, -0.0593, -0.0610,  ...,  0.0478,  0.0529,  0.0498],\n",
      "        [-0.1665, -0.1138, -0.0524,  ...,  0.0337,  0.0566,  0.0666],\n",
      "        ...,\n",
      "        [-0.0679, -0.0705, -0.0679,  ...,  0.0388,  0.0998,  0.1356],\n",
      "        [ 0.0944,  0.1855,  0.1117,  ..., -0.0832,  0.3058,  0.2752],\n",
      "        [-0.5426, -0.5444, -0.3812,  ..., -0.3011, -0.4031, -0.4820]]),)\n",
      "1\n",
      "tensor(3.7136, device='cuda:1') tensor(1., device='cuda:1') tensor(1., device='cuda:1')\n",
      "20\n",
      "[32]\n",
      "[1]\n",
      "(tensor([[-0.1191, -0.1407, -0.1249,  ..., -0.0461, -0.0467, -0.0449],\n",
      "        [ 0.2906,  0.2849,  0.2880,  ...,  0.0481,  0.0717,  0.0600],\n",
      "        [-0.2145, -0.2601, -0.2697,  ..., -0.5081, -0.4901, -0.5101],\n",
      "        ...,\n",
      "        [-0.0962, -0.0744, -0.0616,  ..., -0.3556, -0.4488, -0.3373],\n",
      "        [ 0.0899, -0.0188, -0.0112,  ...,  0.2314,  0.1523,  0.0741],\n",
      "        [ 0.3777,  0.3999,  0.4160,  ..., -0.1834, -0.2083, -0.2312]]),)\n",
      "1\n",
      "tensor(3.7136, device='cuda:1') tensor(1., device='cuda:1') tensor(1., device='cuda:1')\n",
      "20\n",
      "[10, 22]\n",
      "[1, 2]\n",
      "(tensor([[ 0.1292,  0.1465,  0.1665,  ..., -0.1037,  0.0573, -0.0131],\n",
      "        [-0.1105,  0.1236,  0.2160,  ..., -0.2141, -0.2026, -0.1838],\n",
      "        [ 0.3307,  0.3724,  0.5014,  ...,  0.0659,  0.0830,  0.1031],\n",
      "        ...,\n",
      "        [-0.1517, -0.1435, -0.3491,  ..., -0.2282, -0.2745, -0.2528],\n",
      "        [ 0.0347,  0.0409,  0.0718,  ..., -0.2679, -0.2552, -0.2634],\n",
      "        [-0.2447, -0.2600, -0.2765,  ...,  0.1928,  0.1884,  0.1932]]), tensor([[-0.0017, -0.0202, -0.0331,  ...,  0.0410,  0.0696,  0.0945],\n",
      "        [-0.0681, -0.0609, -0.0558,  ...,  0.0325,  0.0388,  0.0462],\n",
      "        [ 0.1432,  0.1364,  0.1248,  ...,  0.0861,  0.0985,  0.1080],\n",
      "        ...,\n",
      "        [ 0.0297,  0.0264,  0.0242,  ...,  0.1156,  0.0994,  0.0796],\n",
      "        [ 0.3579,  0.3585,  0.3497,  ...,  0.0842,  0.0882,  0.0889],\n",
      "        [ 0.4232,  0.4275,  0.4213,  ...,  0.0201,  0.0204,  0.0204]]))\n",
      "2\n",
      "tensor(7.4271, device='cuda:1') tensor(1.9632, device='cuda:1') tensor(2., device='cuda:1')\n",
      "20\n"
     ]
    }
   ],
   "source": [
    "criterion = cost\n",
    "\n",
    "## To remove:\n",
    "CNN_net.eval()\n",
    "DNN1_net.eval()\n",
    "DNN2_net.eval()\n",
    "\n",
    "\n",
    "## Initialisation before forloop\n",
    "stored_labels = 0\n",
    "stored_outs   = 0\n",
    "stored_idx    = 0\n",
    "\n",
    "loss_sum    = 0\n",
    "err_sum     = 0\n",
    "err_sum_snt = 0\n",
    "\n",
    "\n",
    "current_idx = 0\n",
    "\n",
    "nbr_snt = 0\n",
    "\n",
    "with torch.no_grad():\n",
    "    for i, data in enumerate(valid_loader):\n",
    "\n",
    "        if(i >= 7):\n",
    "            break\n",
    "\n",
    "        X, labels, tensor_ids = data\n",
    "\n",
    "        section = []\n",
    "        ids_list = []\n",
    "        current_idx = tensor_ids[0].item()\n",
    "        ids_list.append(current_idx)\n",
    "        for i, el in enumerate(tensor_ids):\n",
    "            current_el = el.item()\n",
    "            if current_el != current_idx:\n",
    "                current_idx = current_el\n",
    "                ids_list.append(current_idx)\n",
    "                section.append(i - sum(section))\n",
    "\n",
    "        ## Last section is added:    \n",
    "        section.append(X.size(0) - sum(section))\n",
    "        print(section)\n",
    "        print(ids_list)\n",
    "\n",
    "        ## Algorithm that splits the tensors by file:\n",
    "        X_split = torch.split(X, section)\n",
    "        y_split = torch.split(labels, section)\n",
    "\n",
    "        assert(len(X_split) == len(y_split))\n",
    "\n",
    "        for i in range(len(X_split)):\n",
    "            ## Stores the current id:\n",
    "            current_idx    = ids_list[i]\n",
    "            current_data   = X_split[i] if len(X_split) >= 1 else X_split\n",
    "            current_labels = y_split[i] if len(y_split) >= 1 else y_split\n",
    "            \n",
    "            ## To delete:\n",
    "            current_data   = current_data.type(torch.cuda.FloatTensor)\n",
    "            current_labels = current_labels.type(torch.cuda.LongTensor)\n",
    "            \n",
    "\n",
    "            if type(stored_outs) is not torch.Tensor:\n",
    "                stored_idx    = current_idx\n",
    "                stored_outs   = DNN2_net(DNN1_net(CNN_net(current_data)))\n",
    "                stored_labels = current_labels\n",
    "\n",
    "                ## Updates the number of signals\n",
    "                nbr_snt      += 1\n",
    "            else:\n",
    "\n",
    "                if(stored_idx == current_idx):\n",
    "                     ## To delete:\n",
    "                    stored_outs   = stored_outs.type(torch.cuda.FloatTensor)\n",
    "                    stored_labels = stored_labels.type(torch.cuda.LongTensor)\n",
    "                    \n",
    "                    \n",
    "                    stored_outs   = torch.cat([stored_outs, DNN2_net(DNN1_net(CNN_net(current_data)))], dim=0)\n",
    "                    stored_labels = torch.cat([stored_labels, current_labels], dim=0)\n",
    "\n",
    "                else:\n",
    "                    ## To delete:\n",
    "                    stored_outs   = stored_outs.type(torch.cuda.FloatTensor)\n",
    "                    stored_labels = stored_labels.type(torch.cuda.LongTensor)\n",
    "                    compute_matrix = False\n",
    "                    ## End to delete--\n",
    "\n",
    "                    #pout = stored_outs\n",
    "\n",
    "                    ## Predicts for every chunk of audio the label and counts how many time it got it correctly\n",
    "                    pred = torch.max(stored_outs,dim=1)[1]\n",
    "                    loss = criterion(stored_outs, stored_labels.long())\n",
    "                    err  = torch.mean((pred!=stored_labels.long()).float())\n",
    "\n",
    "                    ## Updates the confusion matrix:\n",
    "                    if(compute_matrix):\n",
    "                        mat, qty = confusion_matrix(mat, qty, pred=pred, labels=stored_labels, write_results = False, name = \"Pas Important\", cuda = True)\n",
    "\n",
    "                    ## Updates the error that I use here:\n",
    "                    loss_sum=loss_sum+loss.detach()\n",
    "                    err_sum=err_sum+err.detach()\n",
    "\n",
    "                    ## Sum the probability over the columns, then it stores the value and the position of the max. (Lionel's Method)\n",
    "                    [val,best_class]=torch.max(torch.sum(stored_outs,dim=0), 0)\n",
    "                    err_sum_snt=err_sum_snt+(best_class!=stored_labels[0]).float()\n",
    "\n",
    "                    ## Stores new data:\n",
    "                    stored_outs   = DNN2_net(DNN1_net(CNN_net(current_data)))\n",
    "                    stored_labels = y_split[i] if len(y_split) >= 1 else y_split\n",
    "                    stored_idx    = current_idx\n",
    "                    nbr_snt      += 1\n",
    "\n",
    "\n",
    "\n",
    "        print(X_split)\n",
    "        print(current_idx)\n",
    "        print(loss_sum, err_sum, err_sum_snt)\n",
    "        print(stored_data.size(0))\n",
    "    nbr_snt"
   ]
  },
  {
   "cell_type": "markdown",
   "metadata": {},
   "source": [
    "### First method used to create Tensors:"
   ]
  },
  {
   "cell_type": "code",
   "execution_count": null,
   "metadata": {},
   "outputs": [],
   "source": [
    "\"\"\"\n",
    "Objective: (will change, I am thinking of putting it with preprocessing functions)\n",
    "    We want to convert the audio files at @data_folder that are in @wav_lst into tensors and then store them on the Hard disk.\n",
    "    It will save us some RAM, but also will allow us to have a dataset of tensors with != shapes.\n",
    "\n",
    "Args:\n",
    "    @lab_dict     is a dictionary that contains the true labels of the audio files, keys are the file names and values are the label.\n",
    "    @data_folder  is the path to the folder containing the audio files\n",
    "    @wav_lst      is the list of audio files to transform into tensors\n",
    "    @N_snt        is the number of files to transform\n",
    "    @path_to_save is the path where the tensors need to be written at\n",
    "\"\"\"\n",
    "\n",
    "## Maybe move it to preprocessing ? Lionel's aproval.\n",
    "def create_audio_tensors(lab_dict, data_folder, wav_lst, N_snt, path_to_save):\n",
    "    \n",
    "    tensors_lst = []\n",
    "    \n",
    "    for i in range(N_snt):\n",
    "        \n",
    "        current_file_name = wav_lst[i]\n",
    "        \n",
    "        [signal, fs] = librosa.core.load(data_folder + current_file_name, sr=None)\n",
    "        \n",
    "        temp_t = torch.tensor(signal).float()\n",
    "        \n",
    "        new_name = current_file_name.split(\".\")[0] + \".pt\"\n",
    "        \n",
    "        tensors_lst.append(new_name)\n",
    "        \n",
    "        torch.save(temp_t, path_to_save + new_name)\n",
    "    \n",
    "    print(\"finished writing in the \" + path_to_save + \" folder!\")\n",
    "    \n",
    "    return tensors_lst\n",
    "        "
   ]
  },
  {
   "cell_type": "code",
   "execution_count": null,
   "metadata": {},
   "outputs": [],
   "source": [
    "nbre_of_classes = 41 \n",
    "b = torch.rand(32,nbre_of_classes, dtype=torch.float)\n",
    "print(b)"
   ]
  },
  {
   "cell_type": "code",
   "execution_count": null,
   "metadata": {},
   "outputs": [],
   "source": [
    "\n",
    "lab = torch.randint(0, nbre_of_classes, (b.size(0),))\n",
    "print(lab)"
   ]
  },
  {
   "cell_type": "code",
   "execution_count": null,
   "metadata": {},
   "outputs": [],
   "source": [
    "b.shape"
   ]
  },
  {
   "cell_type": "code",
   "execution_count": null,
   "metadata": {},
   "outputs": [],
   "source": [
    "X, y, mixup_percentage = mixup(b, lab, 0.4, nbre_of_classes, True, True)\n",
    "print(X)\n",
    "print(y)\n",
    "print(\"The mixup percentage is {}\".format(mixup_percentage))"
   ]
  },
  {
   "cell_type": "code",
   "execution_count": null,
   "metadata": {},
   "outputs": [],
   "source": [
    "## Then we take the max of the labels after loss evaluation:\n",
    "\n",
    "y.max(dim=1)[1]"
   ]
  },
  {
   "cell_type": "code",
   "execution_count": null,
   "metadata": {},
   "outputs": [],
   "source": [
    "## Scatter\n",
    "#torch.zeros(5, nbre_of_classes).scatter_(1, torch.zeros(5, nbre_of_classes).view(-1, 1).long(), 1)\n",
    "\n",
    "## Converts lab into onehot manually:\n",
    "one_hot = torch.zeros(lab.size(0), nbre_of_classes)\n",
    "for i in range (one_hot.size(0)):\n",
    "    one_hot[i][lab[i]]=1\n",
    "one_hot"
   ]
  },
  {
   "cell_type": "code",
   "execution_count": null,
   "metadata": {},
   "outputs": [],
   "source": [
    "onehot(lab, nbre_of_classes)"
   ]
  },
  {
   "cell_type": "code",
   "execution_count": null,
   "metadata": {},
   "outputs": [],
   "source": [
    "m = nn.LogSoftmax(dim=1)\n",
    "loss = nn.NLLLoss()\n",
    "\n",
    "\n",
    "input = X\n",
    "\n",
    "target = y.max(dim=1)[1]\n",
    "target_onehot = y\n",
    "output = loss(m(input), target)\n",
    "print(m(input))\n",
    "print(output)\n",
    "print(cost_onehot(m(input), target_onehot) )\n"
   ]
  },
  {
   "cell_type": "markdown",
   "metadata": {},
   "source": [
    "# Assessing trained models:"
   ]
  },
  {
   "cell_type": "markdown",
   "metadata": {},
   "source": [
    "## Confusion matrix:"
   ]
  },
  {
   "cell_type": "code",
   "execution_count": null,
   "metadata": {},
   "outputs": [],
   "source": [
    "import seaborn as sn\n",
    "import pandas as pd\n",
    "\n",
    "\n",
    "## Loaded the list of indexes I already created:\n",
    "dictOfLabels = np.load(\"data_lists/labelsToNumberDict.npy\").item()\n",
    "\n",
    "## List of labels\n",
    "index = [0 for i in range (0, len(dictOfLabels))]\n",
    "\n",
    "## Putting the label in the right order\n",
    "for label, i in  dictOfLabels.items():\n",
    "    index[i] = label\n",
    "    \n",
    "print(index)\n",
    "print(' \\n')\n",
    "print(\"Number of different labels: {}\". format(len(index)))\n",
    "\n",
    "\n",
    "def confusion_matrix(model, dataloader, SincNetValid = False, size = len(index), name = \"Test\", cuda = True, index = index): \n",
    "    \n",
    "    model.eval()\n",
    "    \n",
    "    ## Iniotializes the confusion matrix:\n",
    "    mat = np.zeros([size,size])\n",
    "    total = 0\n",
    "    corr = 0\n",
    "    qty = [0]*size\n",
    "    \n",
    "    for inputs, labels in dataloader:\n",
    "        \n",
    "        if SincNetValid:\n",
    "            inputs = inputs[0]\n",
    "        \n",
    "        if cuda:\n",
    "            inputs = inputs.type(torch.cuda.FloatTensor)\n",
    "            labels = labels.type(torch.cuda.LongTensor)\n",
    "        \n",
    "        outputs = model(inputs)\n",
    "        _, predicted = torch.max(outputs.data, 1)\n",
    "        \n",
    "        total += labels.size(0)\n",
    "        \n",
    "        for k in range(labels.size(0)): # ground truth first (row) and then prediction (col)\n",
    "         # print(\"Here : \" +str(labels[k].item()) + \" ; \" + str(predicted[k].item()))\n",
    "            if(labels[k].item() == predicted[k].item()):\n",
    "                corr +=1\n",
    "            mat[labels[k].item(),predicted[k].item()]+=1\n",
    "            qty[labels[k].item()]+=1\n",
    "            \n",
    "    for k in range(size):\n",
    "        if(qty[k]!= 0):\n",
    "            mat[k] *= 1/qty[k]\n",
    "        \n",
    "    #model.train()\n",
    "    dataframe = pd.DataFrame(mat, index=index)\n",
    "    sn.set(font_scale=1)\n",
    "\n",
    "    fig=plt.figure(figsize=(15, 12), dpi= 400, facecolor='w', edgecolor='k')\n",
    "\n",
    "    \n",
    "    svm = sn.heatmap(dataframe, annot=False)\n",
    "    \n",
    "\n",
    "    figure = svm.get_figure()\n",
    "    figure.savefig('Images/Conf_Mat_' + name +'.png', dpi=400)\n",
    "    plt.show()\n",
    "    \n",
    "    ## Added the accuracy:\n",
    "    percentage = np.array([mat[i, i] for i in range(0, len(mat))]).sum()/mat.sum()\n",
    "    \n",
    "    print(\"The accuracy on this sample is: {}\".format(percentage))\n"
   ]
  },
  {
   "cell_type": "code",
   "execution_count": null,
   "metadata": {},
   "outputs": [],
   "source": [
    "class Net(nn.Module):\n",
    "\n",
    "    def __init__(self, CNN_net, DNN1_net, DNN2_net):\n",
    "        super(Net, self).__init__()\n",
    "        self.CNN_net  = CNN_net\n",
    "        self.DNN1_net = DNN1_net\n",
    "        self.DNN2_net = DNN2_net\n",
    "\n",
    "    def forward(self, x):\n",
    "        x = self.DNN2_net(self.DNN1_net(self.CNN_net(x)))\n",
    "        return x"
   ]
  },
  {
   "cell_type": "code",
   "execution_count": null,
   "metadata": {},
   "outputs": [],
   "source": [
    "net = Net(CNN_net, DNN1_net, DNN2_net)\n",
    "net.cuda()\n",
    "net.eval()"
   ]
  },
  {
   "cell_type": "code",
   "execution_count": null,
   "metadata": {},
   "outputs": [],
   "source": [
    "confusion_matrix(net, train_loader, SincNetValid = False, name=\"NTF_Energy_Window1000_p7_class41\")"
   ]
  }
 ],
 "metadata": {
  "kernelspec": {
   "display_name": "Python 3",
   "language": "python",
   "name": "python3"
  },
  "language_info": {
   "codemirror_mode": {
    "name": "ipython",
    "version": 3
   },
   "file_extension": ".py",
   "mimetype": "text/x-python",
   "name": "python",
   "nbconvert_exporter": "python",
   "pygments_lexer": "ipython3",
   "version": "3.6.9"
  }
 },
 "nbformat": 4,
 "nbformat_minor": 4
}
